{
 "cells": [
  {
   "cell_type": "markdown",
   "id": "67d2e5ce",
   "metadata": {},
   "source": [
    "yfinance API Documentation: https://ranaroussi.github.io/yfinance/reference/index.html \n",
    "\n",
    "git repo: https://github.com/tomwmoore/tm-finance-lab"
   ]
  },
  {
   "cell_type": "code",
   "execution_count": 10,
   "id": "c57ee5f4",
   "metadata": {},
   "outputs": [],
   "source": [
    "import sys \n",
    "import os\n",
    "\n",
    "import pandas as pd\n",
    "import numpy as np\n",
    "import yfinance as yf\n",
    "from datetime import datetime\n",
    "\n",
    "import importlib\n",
    "\n",
    "\n",
    "# Add root path so other subfolders are accessible\n",
    "sys.path.append(os.path.abspath(os.path.join(os.getcwd(), \"..\")))\n",
    "\n",
    "\n",
    "import src.utils.db_azure\n",
    "# Reload it every time the cell is run\n",
    "importlib.reload(src.utils.db_azure)\n",
    "\n",
    "from src.utils.db_azure import get_analytics_azure_engine\n",
    "from src.utils.db_azure import get_dashboard_azure_engine\n",
    "from src.utils.db_azure import azure_upsert\n",
    "\n",
    "# Custom Plots\n",
    "import src.utils.plots\n",
    "importlib.reload(src.utils.plots) # Force reload every time the cell is run\n",
    "from src.utils.plots import plot_stock\n",
    "\n",
    "# Custom Indicators\n",
    "import src.utils.indicators\n",
    "importlib.reload(src.utils.indicators) # Force reload every time the cell is run\n",
    "from src.utils.indicators import compute_rsi\n",
    "\n",
    "\n",
    "# Helper Functions\n",
    "import src.utils.yfinance_helpers\n",
    "importlib.reload(src.utils.yfinance_helpers) # Force reload every time the cell is run\n",
    "from src.utils.yfinance_helpers import *\n"
   ]
  },
  {
   "cell_type": "code",
   "execution_count": null,
   "id": "79e014a8",
   "metadata": {},
   "outputs": [],
   "source": [
    "    # Get list of tickers from given industry from asset header\n",
    "query_symbol = f\"\"\"\n",
    "                select symbol \n",
    "                from asset_header\n",
    "                where industry = 'Oil & Gas E&P'\n",
    "                \"\"\"\n",
    "\n",
    "engine = get_analytics_azure_engine()\n",
    "\n",
    "symbols = pd.read_sql(query_symbol,engine)\n",
    "symbols['symbol'].tolist()"
   ]
  },
  {
   "cell_type": "code",
   "execution_count": 7,
   "id": "9f4fd646",
   "metadata": {},
   "outputs": [
    {
     "name": "stderr",
     "output_type": "stream",
     "text": [
      "C:\\Users\\tomwm\\AppData\\Local\\Temp\\ipykernel_5964\\1986841399.py:6: FutureWarning:\n",
      "\n",
      "YF.download() has changed argument auto_adjust default to True\n",
      "\n",
      "[*********************100%***********************]  1 of 1 completed\n"
     ]
    }
   ],
   "source": [
    "# get some stock data\n",
    "# tickers = symbols['symbol'].tolist()\n",
    "tickers = 'CL=F'\n",
    "\n",
    "# data = yf.download(ticker, start=\"2025-01-01\", end=\"2025-09-25\")\n",
    "data = yf.download(tickers, interval= '1d', group_by='ticker', start = '2024-01-01', end = '2025-01-01' )\n",
    "\n",
    "# Clean up multi-index column names to just be the feature names (close, open etc) & make lowercase\n",
    "data = data.stack(level=0,future_stack=True).rename_axis(['Date', 'Ticker']).reset_index(level=1)\n",
    "\n",
    "# remote date as the index\n",
    "data = data.reset_index()\n",
    "\n",
    "data.columns = [col.lower() for col in data.columns]\n",
    "\n",
    "# add current timestamp for future QC\n",
    "data['updated_at'] = pd.Timestamp.now()\n",
    "\n",
    "\n"
   ]
  },
  {
   "cell_type": "code",
   "execution_count": 15,
   "id": "f0dc2a8c",
   "metadata": {},
   "outputs": [],
   "source": [
    "test = get_sector(symbol='CL=F')"
   ]
  },
  {
   "cell_type": "code",
   "execution_count": null,
   "id": "ecdd91cc",
   "metadata": {},
   "outputs": [
    {
     "name": "stdout",
     "output_type": "stream",
     "text": [
      "None\n"
     ]
    }
   ],
   "source": []
  },
  {
   "cell_type": "code",
   "execution_count": 11,
   "id": "f029b3d3",
   "metadata": {},
   "outputs": [
    {
     "data": {
      "text/plain": [
       "165"
      ]
     },
     "execution_count": 11,
     "metadata": {},
     "output_type": "execute_result"
    }
   ],
   "source": [
    "from sqlalchemy.dialects.mssql import DATETIME2, VARCHAR, FLOAT, BIGINT\n",
    "\n",
    "# Create new table and load to sql\n",
    "azure_engine = get_analytics_azure_engine()\n",
    "\n",
    "\n",
    "dtype_mapping = {\n",
    "    'date': DATETIME2(6),        # precise for milliseconds\n",
    "    'ticker': VARCHAR(20),       \n",
    "    'open': FLOAT,\n",
    "    'high': FLOAT,\n",
    "    'low': FLOAT,\n",
    "    'close': FLOAT,\n",
    "    'volume': BIGINT,            \n",
    "    'updated_at': DATETIME2(0)   # drops seconds, rounds to nearest minute\n",
    "}\n",
    "\n",
    "data.to_sql(\n",
    "    'stock_prices',\n",
    "    azure_engine,\n",
    "    if_exists='fail', \n",
    "    index=False,\n",
    "    dtype=dtype_mapping\n",
    ")"
   ]
  },
  {
   "cell_type": "code",
   "execution_count": 14,
   "id": "837300e5",
   "metadata": {},
   "outputs": [],
   "source": [
    "# Create indices on new table\n",
    "from sqlalchemy import text\n",
    "\n",
    "with azure_engine.begin() as conn:\n",
    "    conn.execute(text('alter table stock_prices alter column date datetime2 NOT NULL'))\n",
    "    conn.execute(text('alter table stock_prices alter column ticker varchar(20) NOT NULL'))\n",
    "    conn.execute(text('alter table stock_prices add constraint pkey_stock_prices PRIMARY KEY (date,ticker)'))"
   ]
  },
  {
   "cell_type": "code",
   "execution_count": 24,
   "id": "f91b32d4",
   "metadata": {},
   "outputs": [],
   "source": [
    "# upsert dataframe to postgres\n",
    "azure_engine = get_analytics_azure_engine()\n",
    "azure_upsert(data,azure_engine,'stock_prices')"
   ]
  },
  {
   "cell_type": "code",
   "execution_count": 5,
   "id": "526a0eb5",
   "metadata": {},
   "outputs": [
    {
     "data": {
      "application/vnd.microsoft.datawrangler.viewer.v0+json": {
       "columns": [
        {
         "name": "index",
         "rawType": "int64",
         "type": "integer"
        },
        {
         "name": "date",
         "rawType": "datetime64[ns]",
         "type": "datetime"
        },
        {
         "name": "symbol",
         "rawType": "object",
         "type": "string"
        },
        {
         "name": "open",
         "rawType": "float64",
         "type": "float"
        },
        {
         "name": "high",
         "rawType": "float64",
         "type": "float"
        },
        {
         "name": "low",
         "rawType": "float64",
         "type": "float"
        },
        {
         "name": "close",
         "rawType": "float64",
         "type": "float"
        },
        {
         "name": "volume",
         "rawType": "int64",
         "type": "integer"
        },
        {
         "name": "updated_at",
         "rawType": "datetime64[ns]",
         "type": "datetime"
        }
       ],
       "ref": "d218af19-3582-4b7a-bf42-fd353c697624",
       "rows": [
        [
         "0",
         "2020-01-02 00:00:00",
         "TVE.TO",
         "1.742393787455561",
         "1.759905266022689",
         "1.707370830321305",
         "1.733638048171997",
         "345600",
         "2025-10-08 22:14:16"
        ],
        [
         "1",
         "2020-01-03 00:00:00",
         "TVE.TO",
         "1.759905444161668",
         "1.8036841450108014",
         "1.7248824834823608",
         "1.7248824834823608",
         "592100",
         "2025-10-08 22:14:16"
        ],
        [
         "2",
         "2020-01-06 00:00:00",
         "TVE.TO",
         "1.742394544496414",
         "1.926265358093296",
         "1.742394544496414",
         "1.9087538719177246",
         "2186500",
         "2025-10-08 22:14:16"
        ],
        [
         "3",
         "2020-01-07 00:00:00",
         "TVE.TO",
         "1.8912422731959464",
         "1.9875554414300753",
         "1.8562190941756211",
         "1.9612882137298584",
         "951900",
         "2025-10-08 22:14:16"
        ],
        [
         "4",
         "2020-01-08 00:00:00",
         "TVE.TO",
         "1.9787992071510079",
         "1.9787992071510079",
         "1.7774169694041662",
         "1.8474628925323486",
         "1177400",
         "2025-10-08 22:14:16"
        ]
       ],
       "shape": {
        "columns": 8,
        "rows": 5
       }
      },
      "text/html": [
       "<div>\n",
       "<style scoped>\n",
       "    .dataframe tbody tr th:only-of-type {\n",
       "        vertical-align: middle;\n",
       "    }\n",
       "\n",
       "    .dataframe tbody tr th {\n",
       "        vertical-align: top;\n",
       "    }\n",
       "\n",
       "    .dataframe thead th {\n",
       "        text-align: right;\n",
       "    }\n",
       "</style>\n",
       "<table border=\"1\" class=\"dataframe\">\n",
       "  <thead>\n",
       "    <tr style=\"text-align: right;\">\n",
       "      <th></th>\n",
       "      <th>date</th>\n",
       "      <th>symbol</th>\n",
       "      <th>open</th>\n",
       "      <th>high</th>\n",
       "      <th>low</th>\n",
       "      <th>close</th>\n",
       "      <th>volume</th>\n",
       "      <th>updated_at</th>\n",
       "    </tr>\n",
       "  </thead>\n",
       "  <tbody>\n",
       "    <tr>\n",
       "      <th>0</th>\n",
       "      <td>2020-01-02</td>\n",
       "      <td>TVE.TO</td>\n",
       "      <td>1.742394</td>\n",
       "      <td>1.759905</td>\n",
       "      <td>1.707371</td>\n",
       "      <td>1.733638</td>\n",
       "      <td>345600</td>\n",
       "      <td>2025-10-08 22:14:16</td>\n",
       "    </tr>\n",
       "    <tr>\n",
       "      <th>1</th>\n",
       "      <td>2020-01-03</td>\n",
       "      <td>TVE.TO</td>\n",
       "      <td>1.759905</td>\n",
       "      <td>1.803684</td>\n",
       "      <td>1.724882</td>\n",
       "      <td>1.724882</td>\n",
       "      <td>592100</td>\n",
       "      <td>2025-10-08 22:14:16</td>\n",
       "    </tr>\n",
       "    <tr>\n",
       "      <th>2</th>\n",
       "      <td>2020-01-06</td>\n",
       "      <td>TVE.TO</td>\n",
       "      <td>1.742395</td>\n",
       "      <td>1.926265</td>\n",
       "      <td>1.742395</td>\n",
       "      <td>1.908754</td>\n",
       "      <td>2186500</td>\n",
       "      <td>2025-10-08 22:14:16</td>\n",
       "    </tr>\n",
       "    <tr>\n",
       "      <th>3</th>\n",
       "      <td>2020-01-07</td>\n",
       "      <td>TVE.TO</td>\n",
       "      <td>1.891242</td>\n",
       "      <td>1.987555</td>\n",
       "      <td>1.856219</td>\n",
       "      <td>1.961288</td>\n",
       "      <td>951900</td>\n",
       "      <td>2025-10-08 22:14:16</td>\n",
       "    </tr>\n",
       "    <tr>\n",
       "      <th>4</th>\n",
       "      <td>2020-01-08</td>\n",
       "      <td>TVE.TO</td>\n",
       "      <td>1.978799</td>\n",
       "      <td>1.978799</td>\n",
       "      <td>1.777417</td>\n",
       "      <td>1.847463</td>\n",
       "      <td>1177400</td>\n",
       "      <td>2025-10-08 22:14:16</td>\n",
       "    </tr>\n",
       "  </tbody>\n",
       "</table>\n",
       "</div>"
      ],
      "text/plain": [
       "        date  symbol      open      high       low     close   volume  \\\n",
       "0 2020-01-02  TVE.TO  1.742394  1.759905  1.707371  1.733638   345600   \n",
       "1 2020-01-03  TVE.TO  1.759905  1.803684  1.724882  1.724882   592100   \n",
       "2 2020-01-06  TVE.TO  1.742395  1.926265  1.742395  1.908754  2186500   \n",
       "3 2020-01-07  TVE.TO  1.891242  1.987555  1.856219  1.961288   951900   \n",
       "4 2020-01-08  TVE.TO  1.978799  1.978799  1.777417  1.847463  1177400   \n",
       "\n",
       "           updated_at  \n",
       "0 2025-10-08 22:14:16  \n",
       "1 2025-10-08 22:14:16  \n",
       "2 2025-10-08 22:14:16  \n",
       "3 2025-10-08 22:14:16  \n",
       "4 2025-10-08 22:14:16  "
      ]
     },
     "execution_count": 5,
     "metadata": {},
     "output_type": "execute_result"
    }
   ],
   "source": [
    "# get data from postgres db\n",
    "symbol = 'TVE.TO'\n",
    "azure_engine = get_analytics_azure_engine()\n",
    "select_query = f\"select * from stock_prices where symbol = '{symbol}'\"\n",
    "\n",
    "df = pd.read_sql(select_query,azure_engine)\n",
    "\n",
    "df.head()"
   ]
  },
  {
   "cell_type": "code",
   "execution_count": 6,
   "id": "9512dba1",
   "metadata": {},
   "outputs": [
    {
     "data": {
      "application/vnd.plotly.v1+json": {
       "config": {
        "plotlyServerURL": "https://plot.ly"
       },
       "data": [
        {
         "line": {
          "color": "black",
          "width": 2
         },
         "mode": "lines+markers",
         "name": "Price",
         "type": "scatter",
         "x": [
          "2025-01-02T00:00:00.000000000",
          "2025-01-03T00:00:00.000000000",
          "2025-01-06T00:00:00.000000000",
          "2025-01-07T00:00:00.000000000",
          "2025-01-08T00:00:00.000000000",
          "2025-01-09T00:00:00.000000000",
          "2025-01-10T00:00:00.000000000",
          "2025-01-13T00:00:00.000000000",
          "2025-01-14T00:00:00.000000000",
          "2025-01-15T00:00:00.000000000",
          "2025-01-16T00:00:00.000000000",
          "2025-01-17T00:00:00.000000000",
          "2025-01-20T00:00:00.000000000",
          "2025-01-21T00:00:00.000000000",
          "2025-01-22T00:00:00.000000000",
          "2025-01-23T00:00:00.000000000",
          "2025-01-24T00:00:00.000000000",
          "2025-01-27T00:00:00.000000000",
          "2025-01-28T00:00:00.000000000",
          "2025-01-29T00:00:00.000000000",
          "2025-01-30T00:00:00.000000000",
          "2025-01-31T00:00:00.000000000",
          "2025-02-03T00:00:00.000000000",
          "2025-02-04T00:00:00.000000000",
          "2025-02-05T00:00:00.000000000",
          "2025-02-06T00:00:00.000000000",
          "2025-02-07T00:00:00.000000000",
          "2025-02-10T00:00:00.000000000",
          "2025-02-11T00:00:00.000000000",
          "2025-02-12T00:00:00.000000000",
          "2025-02-13T00:00:00.000000000",
          "2025-02-14T00:00:00.000000000",
          "2025-02-18T00:00:00.000000000",
          "2025-02-19T00:00:00.000000000",
          "2025-02-20T00:00:00.000000000",
          "2025-02-21T00:00:00.000000000",
          "2025-02-24T00:00:00.000000000",
          "2025-02-25T00:00:00.000000000",
          "2025-02-26T00:00:00.000000000",
          "2025-02-27T00:00:00.000000000",
          "2025-02-28T00:00:00.000000000",
          "2025-03-03T00:00:00.000000000",
          "2025-03-04T00:00:00.000000000",
          "2025-03-05T00:00:00.000000000",
          "2025-03-06T00:00:00.000000000",
          "2025-03-07T00:00:00.000000000",
          "2025-03-10T00:00:00.000000000",
          "2025-03-11T00:00:00.000000000",
          "2025-03-12T00:00:00.000000000",
          "2025-03-13T00:00:00.000000000",
          "2025-03-14T00:00:00.000000000",
          "2025-03-17T00:00:00.000000000",
          "2025-03-18T00:00:00.000000000",
          "2025-03-19T00:00:00.000000000",
          "2025-03-20T00:00:00.000000000",
          "2025-03-21T00:00:00.000000000",
          "2025-03-24T00:00:00.000000000",
          "2025-03-25T00:00:00.000000000",
          "2025-03-26T00:00:00.000000000",
          "2025-03-27T00:00:00.000000000",
          "2025-03-28T00:00:00.000000000",
          "2025-03-31T00:00:00.000000000",
          "2025-04-01T00:00:00.000000000",
          "2025-04-02T00:00:00.000000000",
          "2025-04-03T00:00:00.000000000",
          "2025-04-04T00:00:00.000000000",
          "2025-04-07T00:00:00.000000000",
          "2025-04-08T00:00:00.000000000",
          "2025-04-09T00:00:00.000000000",
          "2025-04-10T00:00:00.000000000",
          "2025-04-11T00:00:00.000000000",
          "2025-04-14T00:00:00.000000000",
          "2025-04-15T00:00:00.000000000",
          "2025-04-16T00:00:00.000000000",
          "2025-04-17T00:00:00.000000000",
          "2025-04-21T00:00:00.000000000",
          "2025-04-22T00:00:00.000000000",
          "2025-04-23T00:00:00.000000000",
          "2025-04-24T00:00:00.000000000",
          "2025-04-25T00:00:00.000000000",
          "2025-04-28T00:00:00.000000000",
          "2025-04-29T00:00:00.000000000",
          "2025-04-30T00:00:00.000000000",
          "2025-05-01T00:00:00.000000000",
          "2025-05-02T00:00:00.000000000",
          "2025-05-05T00:00:00.000000000",
          "2025-05-06T00:00:00.000000000",
          "2025-05-07T00:00:00.000000000",
          "2025-05-08T00:00:00.000000000",
          "2025-05-09T00:00:00.000000000",
          "2025-05-12T00:00:00.000000000",
          "2025-05-13T00:00:00.000000000",
          "2025-05-14T00:00:00.000000000",
          "2025-05-15T00:00:00.000000000",
          "2025-05-16T00:00:00.000000000",
          "2025-05-20T00:00:00.000000000",
          "2025-05-21T00:00:00.000000000",
          "2025-05-22T00:00:00.000000000",
          "2025-05-23T00:00:00.000000000",
          "2025-05-26T00:00:00.000000000",
          "2025-05-27T00:00:00.000000000",
          "2025-05-28T00:00:00.000000000",
          "2025-05-29T00:00:00.000000000",
          "2025-05-30T00:00:00.000000000",
          "2025-06-02T00:00:00.000000000",
          "2025-06-03T00:00:00.000000000",
          "2025-06-04T00:00:00.000000000",
          "2025-06-05T00:00:00.000000000",
          "2025-06-06T00:00:00.000000000",
          "2025-06-09T00:00:00.000000000",
          "2025-06-10T00:00:00.000000000",
          "2025-06-11T00:00:00.000000000",
          "2025-06-12T00:00:00.000000000",
          "2025-06-13T00:00:00.000000000",
          "2025-06-16T00:00:00.000000000",
          "2025-06-17T00:00:00.000000000",
          "2025-06-18T00:00:00.000000000",
          "2025-06-19T00:00:00.000000000",
          "2025-06-20T00:00:00.000000000",
          "2025-06-23T00:00:00.000000000",
          "2025-06-24T00:00:00.000000000",
          "2025-06-25T00:00:00.000000000",
          "2025-06-26T00:00:00.000000000",
          "2025-06-27T00:00:00.000000000",
          "2025-06-30T00:00:00.000000000",
          "2025-07-02T00:00:00.000000000",
          "2025-07-03T00:00:00.000000000",
          "2025-07-04T00:00:00.000000000",
          "2025-07-07T00:00:00.000000000",
          "2025-07-08T00:00:00.000000000",
          "2025-07-09T00:00:00.000000000",
          "2025-07-10T00:00:00.000000000",
          "2025-07-11T00:00:00.000000000",
          "2025-07-14T00:00:00.000000000",
          "2025-07-15T00:00:00.000000000",
          "2025-07-16T00:00:00.000000000",
          "2025-07-17T00:00:00.000000000",
          "2025-07-18T00:00:00.000000000",
          "2025-07-21T00:00:00.000000000",
          "2025-07-22T00:00:00.000000000",
          "2025-07-23T00:00:00.000000000",
          "2025-07-24T00:00:00.000000000",
          "2025-07-25T00:00:00.000000000",
          "2025-07-28T00:00:00.000000000",
          "2025-07-29T00:00:00.000000000",
          "2025-07-30T00:00:00.000000000",
          "2025-07-31T00:00:00.000000000",
          "2025-08-01T00:00:00.000000000",
          "2025-08-05T00:00:00.000000000",
          "2025-08-06T00:00:00.000000000",
          "2025-08-07T00:00:00.000000000",
          "2025-08-08T00:00:00.000000000",
          "2025-08-11T00:00:00.000000000",
          "2025-08-12T00:00:00.000000000",
          "2025-08-13T00:00:00.000000000",
          "2025-08-14T00:00:00.000000000",
          "2025-08-15T00:00:00.000000000",
          "2025-08-18T00:00:00.000000000",
          "2025-08-19T00:00:00.000000000",
          "2025-08-20T00:00:00.000000000",
          "2025-08-21T00:00:00.000000000",
          "2025-08-22T00:00:00.000000000",
          "2025-08-25T00:00:00.000000000",
          "2025-08-26T00:00:00.000000000",
          "2025-08-27T00:00:00.000000000",
          "2025-08-28T00:00:00.000000000",
          "2025-08-29T00:00:00.000000000",
          "2025-09-02T00:00:00.000000000",
          "2025-09-03T00:00:00.000000000",
          "2025-09-04T00:00:00.000000000",
          "2025-09-05T00:00:00.000000000",
          "2025-09-08T00:00:00.000000000",
          "2025-09-09T00:00:00.000000000",
          "2025-09-10T00:00:00.000000000",
          "2025-09-11T00:00:00.000000000",
          "2025-09-12T00:00:00.000000000",
          "2025-09-15T00:00:00.000000000",
          "2025-09-16T00:00:00.000000000",
          "2025-09-17T00:00:00.000000000",
          "2025-09-18T00:00:00.000000000",
          "2025-09-19T00:00:00.000000000",
          "2025-09-22T00:00:00.000000000",
          "2025-09-23T00:00:00.000000000",
          "2025-09-24T00:00:00.000000000",
          "2025-09-25T00:00:00.000000000",
          "2025-09-26T00:00:00.000000000",
          "2025-09-29T00:00:00.000000000",
          "2025-09-30T00:00:00.000000000",
          "2025-10-01T00:00:00.000000000",
          "2025-10-02T00:00:00.000000000",
          "2025-10-03T00:00:00.000000000",
          "2025-10-06T00:00:00.000000000",
          "2025-10-07T00:00:00.000000000",
          "2025-10-08T00:00:00.000000000",
          "2025-10-09T00:00:00.000000000",
          "2025-10-10T00:00:00.000000000",
          "2025-10-14T00:00:00.000000000",
          "2025-10-15T00:00:00.000000000",
          "2025-10-16T00:00:00.000000000",
          "2025-10-17T00:00:00.000000000",
          "2025-10-20T00:00:00.000000000",
          "2025-10-21T00:00:00.000000000",
          "2025-10-22T00:00:00.000000000",
          "2025-10-23T00:00:00.000000000",
          "2025-10-24T00:00:00.000000000"
         ],
         "xaxis": "x",
         "y": {
          "bdata": "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",
          "dtype": "f8"
         },
         "yaxis": "y"
        },
        {
         "line": {
          "color": "red",
          "dash": "solid",
          "width": 1.5
         },
         "mode": "lines",
         "name": "Rolling Avg (15d)",
         "type": "scatter",
         "x": [
          "2025-01-02T00:00:00.000000000",
          "2025-01-03T00:00:00.000000000",
          "2025-01-06T00:00:00.000000000",
          "2025-01-07T00:00:00.000000000",
          "2025-01-08T00:00:00.000000000",
          "2025-01-09T00:00:00.000000000",
          "2025-01-10T00:00:00.000000000",
          "2025-01-13T00:00:00.000000000",
          "2025-01-14T00:00:00.000000000",
          "2025-01-15T00:00:00.000000000",
          "2025-01-16T00:00:00.000000000",
          "2025-01-17T00:00:00.000000000",
          "2025-01-20T00:00:00.000000000",
          "2025-01-21T00:00:00.000000000",
          "2025-01-22T00:00:00.000000000",
          "2025-01-23T00:00:00.000000000",
          "2025-01-24T00:00:00.000000000",
          "2025-01-27T00:00:00.000000000",
          "2025-01-28T00:00:00.000000000",
          "2025-01-29T00:00:00.000000000",
          "2025-01-30T00:00:00.000000000",
          "2025-01-31T00:00:00.000000000",
          "2025-02-03T00:00:00.000000000",
          "2025-02-04T00:00:00.000000000",
          "2025-02-05T00:00:00.000000000",
          "2025-02-06T00:00:00.000000000",
          "2025-02-07T00:00:00.000000000",
          "2025-02-10T00:00:00.000000000",
          "2025-02-11T00:00:00.000000000",
          "2025-02-12T00:00:00.000000000",
          "2025-02-13T00:00:00.000000000",
          "2025-02-14T00:00:00.000000000",
          "2025-02-18T00:00:00.000000000",
          "2025-02-19T00:00:00.000000000",
          "2025-02-20T00:00:00.000000000",
          "2025-02-21T00:00:00.000000000",
          "2025-02-24T00:00:00.000000000",
          "2025-02-25T00:00:00.000000000",
          "2025-02-26T00:00:00.000000000",
          "2025-02-27T00:00:00.000000000",
          "2025-02-28T00:00:00.000000000",
          "2025-03-03T00:00:00.000000000",
          "2025-03-04T00:00:00.000000000",
          "2025-03-05T00:00:00.000000000",
          "2025-03-06T00:00:00.000000000",
          "2025-03-07T00:00:00.000000000",
          "2025-03-10T00:00:00.000000000",
          "2025-03-11T00:00:00.000000000",
          "2025-03-12T00:00:00.000000000",
          "2025-03-13T00:00:00.000000000",
          "2025-03-14T00:00:00.000000000",
          "2025-03-17T00:00:00.000000000",
          "2025-03-18T00:00:00.000000000",
          "2025-03-19T00:00:00.000000000",
          "2025-03-20T00:00:00.000000000",
          "2025-03-21T00:00:00.000000000",
          "2025-03-24T00:00:00.000000000",
          "2025-03-25T00:00:00.000000000",
          "2025-03-26T00:00:00.000000000",
          "2025-03-27T00:00:00.000000000",
          "2025-03-28T00:00:00.000000000",
          "2025-03-31T00:00:00.000000000",
          "2025-04-01T00:00:00.000000000",
          "2025-04-02T00:00:00.000000000",
          "2025-04-03T00:00:00.000000000",
          "2025-04-04T00:00:00.000000000",
          "2025-04-07T00:00:00.000000000",
          "2025-04-08T00:00:00.000000000",
          "2025-04-09T00:00:00.000000000",
          "2025-04-10T00:00:00.000000000",
          "2025-04-11T00:00:00.000000000",
          "2025-04-14T00:00:00.000000000",
          "2025-04-15T00:00:00.000000000",
          "2025-04-16T00:00:00.000000000",
          "2025-04-17T00:00:00.000000000",
          "2025-04-21T00:00:00.000000000",
          "2025-04-22T00:00:00.000000000",
          "2025-04-23T00:00:00.000000000",
          "2025-04-24T00:00:00.000000000",
          "2025-04-25T00:00:00.000000000",
          "2025-04-28T00:00:00.000000000",
          "2025-04-29T00:00:00.000000000",
          "2025-04-30T00:00:00.000000000",
          "2025-05-01T00:00:00.000000000",
          "2025-05-02T00:00:00.000000000",
          "2025-05-05T00:00:00.000000000",
          "2025-05-06T00:00:00.000000000",
          "2025-05-07T00:00:00.000000000",
          "2025-05-08T00:00:00.000000000",
          "2025-05-09T00:00:00.000000000",
          "2025-05-12T00:00:00.000000000",
          "2025-05-13T00:00:00.000000000",
          "2025-05-14T00:00:00.000000000",
          "2025-05-15T00:00:00.000000000",
          "2025-05-16T00:00:00.000000000",
          "2025-05-20T00:00:00.000000000",
          "2025-05-21T00:00:00.000000000",
          "2025-05-22T00:00:00.000000000",
          "2025-05-23T00:00:00.000000000",
          "2025-05-26T00:00:00.000000000",
          "2025-05-27T00:00:00.000000000",
          "2025-05-28T00:00:00.000000000",
          "2025-05-29T00:00:00.000000000",
          "2025-05-30T00:00:00.000000000",
          "2025-06-02T00:00:00.000000000",
          "2025-06-03T00:00:00.000000000",
          "2025-06-04T00:00:00.000000000",
          "2025-06-05T00:00:00.000000000",
          "2025-06-06T00:00:00.000000000",
          "2025-06-09T00:00:00.000000000",
          "2025-06-10T00:00:00.000000000",
          "2025-06-11T00:00:00.000000000",
          "2025-06-12T00:00:00.000000000",
          "2025-06-13T00:00:00.000000000",
          "2025-06-16T00:00:00.000000000",
          "2025-06-17T00:00:00.000000000",
          "2025-06-18T00:00:00.000000000",
          "2025-06-19T00:00:00.000000000",
          "2025-06-20T00:00:00.000000000",
          "2025-06-23T00:00:00.000000000",
          "2025-06-24T00:00:00.000000000",
          "2025-06-25T00:00:00.000000000",
          "2025-06-26T00:00:00.000000000",
          "2025-06-27T00:00:00.000000000",
          "2025-06-30T00:00:00.000000000",
          "2025-07-02T00:00:00.000000000",
          "2025-07-03T00:00:00.000000000",
          "2025-07-04T00:00:00.000000000",
          "2025-07-07T00:00:00.000000000",
          "2025-07-08T00:00:00.000000000",
          "2025-07-09T00:00:00.000000000",
          "2025-07-10T00:00:00.000000000",
          "2025-07-11T00:00:00.000000000",
          "2025-07-14T00:00:00.000000000",
          "2025-07-15T00:00:00.000000000",
          "2025-07-16T00:00:00.000000000",
          "2025-07-17T00:00:00.000000000",
          "2025-07-18T00:00:00.000000000",
          "2025-07-21T00:00:00.000000000",
          "2025-07-22T00:00:00.000000000",
          "2025-07-23T00:00:00.000000000",
          "2025-07-24T00:00:00.000000000",
          "2025-07-25T00:00:00.000000000",
          "2025-07-28T00:00:00.000000000",
          "2025-07-29T00:00:00.000000000",
          "2025-07-30T00:00:00.000000000",
          "2025-07-31T00:00:00.000000000",
          "2025-08-01T00:00:00.000000000",
          "2025-08-05T00:00:00.000000000",
          "2025-08-06T00:00:00.000000000",
          "2025-08-07T00:00:00.000000000",
          "2025-08-08T00:00:00.000000000",
          "2025-08-11T00:00:00.000000000",
          "2025-08-12T00:00:00.000000000",
          "2025-08-13T00:00:00.000000000",
          "2025-08-14T00:00:00.000000000",
          "2025-08-15T00:00:00.000000000",
          "2025-08-18T00:00:00.000000000",
          "2025-08-19T00:00:00.000000000",
          "2025-08-20T00:00:00.000000000",
          "2025-08-21T00:00:00.000000000",
          "2025-08-22T00:00:00.000000000",
          "2025-08-25T00:00:00.000000000",
          "2025-08-26T00:00:00.000000000",
          "2025-08-27T00:00:00.000000000",
          "2025-08-28T00:00:00.000000000",
          "2025-08-29T00:00:00.000000000",
          "2025-09-02T00:00:00.000000000",
          "2025-09-03T00:00:00.000000000",
          "2025-09-04T00:00:00.000000000",
          "2025-09-05T00:00:00.000000000",
          "2025-09-08T00:00:00.000000000",
          "2025-09-09T00:00:00.000000000",
          "2025-09-10T00:00:00.000000000",
          "2025-09-11T00:00:00.000000000",
          "2025-09-12T00:00:00.000000000",
          "2025-09-15T00:00:00.000000000",
          "2025-09-16T00:00:00.000000000",
          "2025-09-17T00:00:00.000000000",
          "2025-09-18T00:00:00.000000000",
          "2025-09-19T00:00:00.000000000",
          "2025-09-22T00:00:00.000000000",
          "2025-09-23T00:00:00.000000000",
          "2025-09-24T00:00:00.000000000",
          "2025-09-25T00:00:00.000000000",
          "2025-09-26T00:00:00.000000000",
          "2025-09-29T00:00:00.000000000",
          "2025-09-30T00:00:00.000000000",
          "2025-10-01T00:00:00.000000000",
          "2025-10-02T00:00:00.000000000",
          "2025-10-03T00:00:00.000000000",
          "2025-10-06T00:00:00.000000000",
          "2025-10-07T00:00:00.000000000",
          "2025-10-08T00:00:00.000000000",
          "2025-10-09T00:00:00.000000000",
          "2025-10-10T00:00:00.000000000",
          "2025-10-14T00:00:00.000000000",
          "2025-10-15T00:00:00.000000000",
          "2025-10-16T00:00:00.000000000",
          "2025-10-17T00:00:00.000000000",
          "2025-10-20T00:00:00.000000000",
          "2025-10-21T00:00:00.000000000",
          "2025-10-22T00:00:00.000000000",
          "2025-10-23T00:00:00.000000000",
          "2025-10-24T00:00:00.000000000"
         ],
         "xaxis": "x",
         "y": {
          "bdata": "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",
          "dtype": "f8"
         },
         "yaxis": "y"
        },
        {
         "line": {
          "color": "green",
          "dash": "dot",
          "width": 1.5
         },
         "mode": "lines",
         "name": "Upper Band",
         "type": "scatter",
         "x": [
          "2025-01-02T00:00:00.000000000",
          "2025-01-03T00:00:00.000000000",
          "2025-01-06T00:00:00.000000000",
          "2025-01-07T00:00:00.000000000",
          "2025-01-08T00:00:00.000000000",
          "2025-01-09T00:00:00.000000000",
          "2025-01-10T00:00:00.000000000",
          "2025-01-13T00:00:00.000000000",
          "2025-01-14T00:00:00.000000000",
          "2025-01-15T00:00:00.000000000",
          "2025-01-16T00:00:00.000000000",
          "2025-01-17T00:00:00.000000000",
          "2025-01-20T00:00:00.000000000",
          "2025-01-21T00:00:00.000000000",
          "2025-01-22T00:00:00.000000000",
          "2025-01-23T00:00:00.000000000",
          "2025-01-24T00:00:00.000000000",
          "2025-01-27T00:00:00.000000000",
          "2025-01-28T00:00:00.000000000",
          "2025-01-29T00:00:00.000000000",
          "2025-01-30T00:00:00.000000000",
          "2025-01-31T00:00:00.000000000",
          "2025-02-03T00:00:00.000000000",
          "2025-02-04T00:00:00.000000000",
          "2025-02-05T00:00:00.000000000",
          "2025-02-06T00:00:00.000000000",
          "2025-02-07T00:00:00.000000000",
          "2025-02-10T00:00:00.000000000",
          "2025-02-11T00:00:00.000000000",
          "2025-02-12T00:00:00.000000000",
          "2025-02-13T00:00:00.000000000",
          "2025-02-14T00:00:00.000000000",
          "2025-02-18T00:00:00.000000000",
          "2025-02-19T00:00:00.000000000",
          "2025-02-20T00:00:00.000000000",
          "2025-02-21T00:00:00.000000000",
          "2025-02-24T00:00:00.000000000",
          "2025-02-25T00:00:00.000000000",
          "2025-02-26T00:00:00.000000000",
          "2025-02-27T00:00:00.000000000",
          "2025-02-28T00:00:00.000000000",
          "2025-03-03T00:00:00.000000000",
          "2025-03-04T00:00:00.000000000",
          "2025-03-05T00:00:00.000000000",
          "2025-03-06T00:00:00.000000000",
          "2025-03-07T00:00:00.000000000",
          "2025-03-10T00:00:00.000000000",
          "2025-03-11T00:00:00.000000000",
          "2025-03-12T00:00:00.000000000",
          "2025-03-13T00:00:00.000000000",
          "2025-03-14T00:00:00.000000000",
          "2025-03-17T00:00:00.000000000",
          "2025-03-18T00:00:00.000000000",
          "2025-03-19T00:00:00.000000000",
          "2025-03-20T00:00:00.000000000",
          "2025-03-21T00:00:00.000000000",
          "2025-03-24T00:00:00.000000000",
          "2025-03-25T00:00:00.000000000",
          "2025-03-26T00:00:00.000000000",
          "2025-03-27T00:00:00.000000000",
          "2025-03-28T00:00:00.000000000",
          "2025-03-31T00:00:00.000000000",
          "2025-04-01T00:00:00.000000000",
          "2025-04-02T00:00:00.000000000",
          "2025-04-03T00:00:00.000000000",
          "2025-04-04T00:00:00.000000000",
          "2025-04-07T00:00:00.000000000",
          "2025-04-08T00:00:00.000000000",
          "2025-04-09T00:00:00.000000000",
          "2025-04-10T00:00:00.000000000",
          "2025-04-11T00:00:00.000000000",
          "2025-04-14T00:00:00.000000000",
          "2025-04-15T00:00:00.000000000",
          "2025-04-16T00:00:00.000000000",
          "2025-04-17T00:00:00.000000000",
          "2025-04-21T00:00:00.000000000",
          "2025-04-22T00:00:00.000000000",
          "2025-04-23T00:00:00.000000000",
          "2025-04-24T00:00:00.000000000",
          "2025-04-25T00:00:00.000000000",
          "2025-04-28T00:00:00.000000000",
          "2025-04-29T00:00:00.000000000",
          "2025-04-30T00:00:00.000000000",
          "2025-05-01T00:00:00.000000000",
          "2025-05-02T00:00:00.000000000",
          "2025-05-05T00:00:00.000000000",
          "2025-05-06T00:00:00.000000000",
          "2025-05-07T00:00:00.000000000",
          "2025-05-08T00:00:00.000000000",
          "2025-05-09T00:00:00.000000000",
          "2025-05-12T00:00:00.000000000",
          "2025-05-13T00:00:00.000000000",
          "2025-05-14T00:00:00.000000000",
          "2025-05-15T00:00:00.000000000",
          "2025-05-16T00:00:00.000000000",
          "2025-05-20T00:00:00.000000000",
          "2025-05-21T00:00:00.000000000",
          "2025-05-22T00:00:00.000000000",
          "2025-05-23T00:00:00.000000000",
          "2025-05-26T00:00:00.000000000",
          "2025-05-27T00:00:00.000000000",
          "2025-05-28T00:00:00.000000000",
          "2025-05-29T00:00:00.000000000",
          "2025-05-30T00:00:00.000000000",
          "2025-06-02T00:00:00.000000000",
          "2025-06-03T00:00:00.000000000",
          "2025-06-04T00:00:00.000000000",
          "2025-06-05T00:00:00.000000000",
          "2025-06-06T00:00:00.000000000",
          "2025-06-09T00:00:00.000000000",
          "2025-06-10T00:00:00.000000000",
          "2025-06-11T00:00:00.000000000",
          "2025-06-12T00:00:00.000000000",
          "2025-06-13T00:00:00.000000000",
          "2025-06-16T00:00:00.000000000",
          "2025-06-17T00:00:00.000000000",
          "2025-06-18T00:00:00.000000000",
          "2025-06-19T00:00:00.000000000",
          "2025-06-20T00:00:00.000000000",
          "2025-06-23T00:00:00.000000000",
          "2025-06-24T00:00:00.000000000",
          "2025-06-25T00:00:00.000000000",
          "2025-06-26T00:00:00.000000000",
          "2025-06-27T00:00:00.000000000",
          "2025-06-30T00:00:00.000000000",
          "2025-07-02T00:00:00.000000000",
          "2025-07-03T00:00:00.000000000",
          "2025-07-04T00:00:00.000000000",
          "2025-07-07T00:00:00.000000000",
          "2025-07-08T00:00:00.000000000",
          "2025-07-09T00:00:00.000000000",
          "2025-07-10T00:00:00.000000000",
          "2025-07-11T00:00:00.000000000",
          "2025-07-14T00:00:00.000000000",
          "2025-07-15T00:00:00.000000000",
          "2025-07-16T00:00:00.000000000",
          "2025-07-17T00:00:00.000000000",
          "2025-07-18T00:00:00.000000000",
          "2025-07-21T00:00:00.000000000",
          "2025-07-22T00:00:00.000000000",
          "2025-07-23T00:00:00.000000000",
          "2025-07-24T00:00:00.000000000",
          "2025-07-25T00:00:00.000000000",
          "2025-07-28T00:00:00.000000000",
          "2025-07-29T00:00:00.000000000",
          "2025-07-30T00:00:00.000000000",
          "2025-07-31T00:00:00.000000000",
          "2025-08-01T00:00:00.000000000",
          "2025-08-05T00:00:00.000000000",
          "2025-08-06T00:00:00.000000000",
          "2025-08-07T00:00:00.000000000",
          "2025-08-08T00:00:00.000000000",
          "2025-08-11T00:00:00.000000000",
          "2025-08-12T00:00:00.000000000",
          "2025-08-13T00:00:00.000000000",
          "2025-08-14T00:00:00.000000000",
          "2025-08-15T00:00:00.000000000",
          "2025-08-18T00:00:00.000000000",
          "2025-08-19T00:00:00.000000000",
          "2025-08-20T00:00:00.000000000",
          "2025-08-21T00:00:00.000000000",
          "2025-08-22T00:00:00.000000000",
          "2025-08-25T00:00:00.000000000",
          "2025-08-26T00:00:00.000000000",
          "2025-08-27T00:00:00.000000000",
          "2025-08-28T00:00:00.000000000",
          "2025-08-29T00:00:00.000000000",
          "2025-09-02T00:00:00.000000000",
          "2025-09-03T00:00:00.000000000",
          "2025-09-04T00:00:00.000000000",
          "2025-09-05T00:00:00.000000000",
          "2025-09-08T00:00:00.000000000",
          "2025-09-09T00:00:00.000000000",
          "2025-09-10T00:00:00.000000000",
          "2025-09-11T00:00:00.000000000",
          "2025-09-12T00:00:00.000000000",
          "2025-09-15T00:00:00.000000000",
          "2025-09-16T00:00:00.000000000",
          "2025-09-17T00:00:00.000000000",
          "2025-09-18T00:00:00.000000000",
          "2025-09-19T00:00:00.000000000",
          "2025-09-22T00:00:00.000000000",
          "2025-09-23T00:00:00.000000000",
          "2025-09-24T00:00:00.000000000",
          "2025-09-25T00:00:00.000000000",
          "2025-09-26T00:00:00.000000000",
          "2025-09-29T00:00:00.000000000",
          "2025-09-30T00:00:00.000000000",
          "2025-10-01T00:00:00.000000000",
          "2025-10-02T00:00:00.000000000",
          "2025-10-03T00:00:00.000000000",
          "2025-10-06T00:00:00.000000000",
          "2025-10-07T00:00:00.000000000",
          "2025-10-08T00:00:00.000000000",
          "2025-10-09T00:00:00.000000000",
          "2025-10-10T00:00:00.000000000",
          "2025-10-14T00:00:00.000000000",
          "2025-10-15T00:00:00.000000000",
          "2025-10-16T00:00:00.000000000",
          "2025-10-17T00:00:00.000000000",
          "2025-10-20T00:00:00.000000000",
          "2025-10-21T00:00:00.000000000",
          "2025-10-22T00:00:00.000000000",
          "2025-10-23T00:00:00.000000000",
          "2025-10-24T00:00:00.000000000"
         ],
         "xaxis": "x",
         "y": {
          "bdata": "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",
          "dtype": "f8"
         },
         "yaxis": "y"
        },
        {
         "line": {
          "color": "green",
          "dash": "dot",
          "width": 1.5
         },
         "mode": "lines",
         "name": "Lower Band",
         "type": "scatter",
         "x": [
          "2025-01-02T00:00:00.000000000",
          "2025-01-03T00:00:00.000000000",
          "2025-01-06T00:00:00.000000000",
          "2025-01-07T00:00:00.000000000",
          "2025-01-08T00:00:00.000000000",
          "2025-01-09T00:00:00.000000000",
          "2025-01-10T00:00:00.000000000",
          "2025-01-13T00:00:00.000000000",
          "2025-01-14T00:00:00.000000000",
          "2025-01-15T00:00:00.000000000",
          "2025-01-16T00:00:00.000000000",
          "2025-01-17T00:00:00.000000000",
          "2025-01-20T00:00:00.000000000",
          "2025-01-21T00:00:00.000000000",
          "2025-01-22T00:00:00.000000000",
          "2025-01-23T00:00:00.000000000",
          "2025-01-24T00:00:00.000000000",
          "2025-01-27T00:00:00.000000000",
          "2025-01-28T00:00:00.000000000",
          "2025-01-29T00:00:00.000000000",
          "2025-01-30T00:00:00.000000000",
          "2025-01-31T00:00:00.000000000",
          "2025-02-03T00:00:00.000000000",
          "2025-02-04T00:00:00.000000000",
          "2025-02-05T00:00:00.000000000",
          "2025-02-06T00:00:00.000000000",
          "2025-02-07T00:00:00.000000000",
          "2025-02-10T00:00:00.000000000",
          "2025-02-11T00:00:00.000000000",
          "2025-02-12T00:00:00.000000000",
          "2025-02-13T00:00:00.000000000",
          "2025-02-14T00:00:00.000000000",
          "2025-02-18T00:00:00.000000000",
          "2025-02-19T00:00:00.000000000",
          "2025-02-20T00:00:00.000000000",
          "2025-02-21T00:00:00.000000000",
          "2025-02-24T00:00:00.000000000",
          "2025-02-25T00:00:00.000000000",
          "2025-02-26T00:00:00.000000000",
          "2025-02-27T00:00:00.000000000",
          "2025-02-28T00:00:00.000000000",
          "2025-03-03T00:00:00.000000000",
          "2025-03-04T00:00:00.000000000",
          "2025-03-05T00:00:00.000000000",
          "2025-03-06T00:00:00.000000000",
          "2025-03-07T00:00:00.000000000",
          "2025-03-10T00:00:00.000000000",
          "2025-03-11T00:00:00.000000000",
          "2025-03-12T00:00:00.000000000",
          "2025-03-13T00:00:00.000000000",
          "2025-03-14T00:00:00.000000000",
          "2025-03-17T00:00:00.000000000",
          "2025-03-18T00:00:00.000000000",
          "2025-03-19T00:00:00.000000000",
          "2025-03-20T00:00:00.000000000",
          "2025-03-21T00:00:00.000000000",
          "2025-03-24T00:00:00.000000000",
          "2025-03-25T00:00:00.000000000",
          "2025-03-26T00:00:00.000000000",
          "2025-03-27T00:00:00.000000000",
          "2025-03-28T00:00:00.000000000",
          "2025-03-31T00:00:00.000000000",
          "2025-04-01T00:00:00.000000000",
          "2025-04-02T00:00:00.000000000",
          "2025-04-03T00:00:00.000000000",
          "2025-04-04T00:00:00.000000000",
          "2025-04-07T00:00:00.000000000",
          "2025-04-08T00:00:00.000000000",
          "2025-04-09T00:00:00.000000000",
          "2025-04-10T00:00:00.000000000",
          "2025-04-11T00:00:00.000000000",
          "2025-04-14T00:00:00.000000000",
          "2025-04-15T00:00:00.000000000",
          "2025-04-16T00:00:00.000000000",
          "2025-04-17T00:00:00.000000000",
          "2025-04-21T00:00:00.000000000",
          "2025-04-22T00:00:00.000000000",
          "2025-04-23T00:00:00.000000000",
          "2025-04-24T00:00:00.000000000",
          "2025-04-25T00:00:00.000000000",
          "2025-04-28T00:00:00.000000000",
          "2025-04-29T00:00:00.000000000",
          "2025-04-30T00:00:00.000000000",
          "2025-05-01T00:00:00.000000000",
          "2025-05-02T00:00:00.000000000",
          "2025-05-05T00:00:00.000000000",
          "2025-05-06T00:00:00.000000000",
          "2025-05-07T00:00:00.000000000",
          "2025-05-08T00:00:00.000000000",
          "2025-05-09T00:00:00.000000000",
          "2025-05-12T00:00:00.000000000",
          "2025-05-13T00:00:00.000000000",
          "2025-05-14T00:00:00.000000000",
          "2025-05-15T00:00:00.000000000",
          "2025-05-16T00:00:00.000000000",
          "2025-05-20T00:00:00.000000000",
          "2025-05-21T00:00:00.000000000",
          "2025-05-22T00:00:00.000000000",
          "2025-05-23T00:00:00.000000000",
          "2025-05-26T00:00:00.000000000",
          "2025-05-27T00:00:00.000000000",
          "2025-05-28T00:00:00.000000000",
          "2025-05-29T00:00:00.000000000",
          "2025-05-30T00:00:00.000000000",
          "2025-06-02T00:00:00.000000000",
          "2025-06-03T00:00:00.000000000",
          "2025-06-04T00:00:00.000000000",
          "2025-06-05T00:00:00.000000000",
          "2025-06-06T00:00:00.000000000",
          "2025-06-09T00:00:00.000000000",
          "2025-06-10T00:00:00.000000000",
          "2025-06-11T00:00:00.000000000",
          "2025-06-12T00:00:00.000000000",
          "2025-06-13T00:00:00.000000000",
          "2025-06-16T00:00:00.000000000",
          "2025-06-17T00:00:00.000000000",
          "2025-06-18T00:00:00.000000000",
          "2025-06-19T00:00:00.000000000",
          "2025-06-20T00:00:00.000000000",
          "2025-06-23T00:00:00.000000000",
          "2025-06-24T00:00:00.000000000",
          "2025-06-25T00:00:00.000000000",
          "2025-06-26T00:00:00.000000000",
          "2025-06-27T00:00:00.000000000",
          "2025-06-30T00:00:00.000000000",
          "2025-07-02T00:00:00.000000000",
          "2025-07-03T00:00:00.000000000",
          "2025-07-04T00:00:00.000000000",
          "2025-07-07T00:00:00.000000000",
          "2025-07-08T00:00:00.000000000",
          "2025-07-09T00:00:00.000000000",
          "2025-07-10T00:00:00.000000000",
          "2025-07-11T00:00:00.000000000",
          "2025-07-14T00:00:00.000000000",
          "2025-07-15T00:00:00.000000000",
          "2025-07-16T00:00:00.000000000",
          "2025-07-17T00:00:00.000000000",
          "2025-07-18T00:00:00.000000000",
          "2025-07-21T00:00:00.000000000",
          "2025-07-22T00:00:00.000000000",
          "2025-07-23T00:00:00.000000000",
          "2025-07-24T00:00:00.000000000",
          "2025-07-25T00:00:00.000000000",
          "2025-07-28T00:00:00.000000000",
          "2025-07-29T00:00:00.000000000",
          "2025-07-30T00:00:00.000000000",
          "2025-07-31T00:00:00.000000000",
          "2025-08-01T00:00:00.000000000",
          "2025-08-05T00:00:00.000000000",
          "2025-08-06T00:00:00.000000000",
          "2025-08-07T00:00:00.000000000",
          "2025-08-08T00:00:00.000000000",
          "2025-08-11T00:00:00.000000000",
          "2025-08-12T00:00:00.000000000",
          "2025-08-13T00:00:00.000000000",
          "2025-08-14T00:00:00.000000000",
          "2025-08-15T00:00:00.000000000",
          "2025-08-18T00:00:00.000000000",
          "2025-08-19T00:00:00.000000000",
          "2025-08-20T00:00:00.000000000",
          "2025-08-21T00:00:00.000000000",
          "2025-08-22T00:00:00.000000000",
          "2025-08-25T00:00:00.000000000",
          "2025-08-26T00:00:00.000000000",
          "2025-08-27T00:00:00.000000000",
          "2025-08-28T00:00:00.000000000",
          "2025-08-29T00:00:00.000000000",
          "2025-09-02T00:00:00.000000000",
          "2025-09-03T00:00:00.000000000",
          "2025-09-04T00:00:00.000000000",
          "2025-09-05T00:00:00.000000000",
          "2025-09-08T00:00:00.000000000",
          "2025-09-09T00:00:00.000000000",
          "2025-09-10T00:00:00.000000000",
          "2025-09-11T00:00:00.000000000",
          "2025-09-12T00:00:00.000000000",
          "2025-09-15T00:00:00.000000000",
          "2025-09-16T00:00:00.000000000",
          "2025-09-17T00:00:00.000000000",
          "2025-09-18T00:00:00.000000000",
          "2025-09-19T00:00:00.000000000",
          "2025-09-22T00:00:00.000000000",
          "2025-09-23T00:00:00.000000000",
          "2025-09-24T00:00:00.000000000",
          "2025-09-25T00:00:00.000000000",
          "2025-09-26T00:00:00.000000000",
          "2025-09-29T00:00:00.000000000",
          "2025-09-30T00:00:00.000000000",
          "2025-10-01T00:00:00.000000000",
          "2025-10-02T00:00:00.000000000",
          "2025-10-03T00:00:00.000000000",
          "2025-10-06T00:00:00.000000000",
          "2025-10-07T00:00:00.000000000",
          "2025-10-08T00:00:00.000000000",
          "2025-10-09T00:00:00.000000000",
          "2025-10-10T00:00:00.000000000",
          "2025-10-14T00:00:00.000000000",
          "2025-10-15T00:00:00.000000000",
          "2025-10-16T00:00:00.000000000",
          "2025-10-17T00:00:00.000000000",
          "2025-10-20T00:00:00.000000000",
          "2025-10-21T00:00:00.000000000",
          "2025-10-22T00:00:00.000000000",
          "2025-10-23T00:00:00.000000000",
          "2025-10-24T00:00:00.000000000"
         ],
         "xaxis": "x",
         "y": {
          "bdata": "AAAAAAAA+H8AAAAAAAD4fwAAAAAAAPh/AAAAAAAA+H8AAAAAAAD4fwAAAAAAAPh/AAAAAAAA+H8AAAAAAAD4fwAAAAAAAPh/AAAAAAAA+H8AAAAAAAD4fwAAAAAAAPh/AAAAAAAA+H8AAAAAAAD4fyuGfsV/8hFAUOcxzkHCEUAJXYIxL48RQHPPnfhUbRFAEuJPB+BEEUBCkqvz+SgRQOlZ7D6BExFAj5bnr8f3EEBx3svfrdgQQBk/yTAG3xBAj3ForTkAEUDINvWceOYQQC4orG533xBA2dxrLpUJEUABfroYIhIRQOl/G3pEGBFAtGRQuOoaEUAYsqhACRYRQEIiz2H/EhFAnboVsXQLEUBRQrkwcwQRQOmVpd/oAhFAIwTg45ASEUA25xywPv8QQKvhBdTc6BBADWAdQBbZEECtF2ceb7wQQHoEwPvSFhBA/TgP/1EjD0CIQCsvcGUOQF9F791t3g1Asb16+fmcDUAcwso9rSgNQCCk1zdeCw1AqHem8NwtDUAboGzDQVgNQKXSKZBVdQ1AkAfEILi8DUAyjR1vLs4NQGwbrwmv6A1AIRjsCM3/DUBD+3nzAO8NQH/Du4ML+w1A/i7/fcEfDkBL5iFIU1wOQGRV9L0hsw5AZKvHkVnoDkDvAkgOUYYPQJ+ZFdIG5w9A0T0zNlv+D0DLbfUD6f8PQPzFGGwObQ5ArgK7c6MVDUC+mPhT+FgLQF6i/OL+4QpAfl2cYbcACkCK8xcnKVsJQI6IPswHzghAUr5UCjGDCEDL8lGt8XkIQBn7q2YPmAhAmb8+IF6mCED+2qyTaNwIQOpBh0+qVwlAL3m5HW1uCkDcM7vvNdUKQIqvvc2O2wpAkWPF0ArrCkD4QZr704ALQLKGsIxIXwtAQ7Z1YLuOC0AL53dzA3ALQMQhlKwGkAtAuxtGFuOjC0AzMzr3tZALQHYovwiabAtA7dR719vjCkADh1mEul8KQPfVTXMY7AlAr7vFC+3ACUANOAdLHqAJQEO+655ZpAlAjgWc6hDfCUAdqt2mIGUKQGIcIVqDEQtALW4jOkGyC0DUVdI3Fd8MQOAe4gBQ/g1AIEiKsIkMD0Ax0jKLTQwQQP+1J7b2kBBACiMrC8fJEEByLyGQr+wQQE9kgj7K9BBAJgXl2SYFEUC1D4CBdfYQQJqvIXIM+hBAdoTMANfZEEDxtyMX7+8QQO2fzP/54BBAOb6SO2jZEED4kB5EN9MQQGg3TM2m1RBAw1QWOq/fEEBJoOGTsBMRQAx0d7uTRxFAJ+LAmiNlEUDPFXBORaIRQDjKcPzc8xFAzUaprTowEkDU3pAlc1USQC4MSs0QhRJAgs7v3niNEkCMxxkOqLUSQFVtGJs2thJAs0TIYPusEkCRd/Qb4KISQP6R9IrkmRJA6wY1tLCTEkDOyck9KYwSQKONEEARnxJANvTuVDm+EkC0gobD3usSQIRILPIz9BJA0oGtmZkCE0A7uIcIvx4TQANR1oYNKBNAge46fH05E0CYxpBtAlcTQFIrRQVrZRNAlPMP4tVTE0BEVx8pIi0TQGvdCd6WHRNAQ64WphYmE0DVwe3CnCkTQFodb/l3VRNARvexhEefE0D5K0sp+98TQNRevfUlChRAoLhygbA8FEDrgQLdq3EUQImn6AaXlRRAmgp7KY6pFED+kCbe290UQF77T92O2BRAB6APpMS8FEChiYG7ZsUUQP9dMFIvuhRAAyVYUra3FEBXUaU587cUQOgQE/pgtxRAecyYuwi5FEClvV1H9rsUQBZarp0rvhRA0VZfYay0FEBrueQ0croUQLjMMVb/oBRADNAVkC+dFEBjnQsRAJoUQIQJBaUUaBRAqttLEEB3FEBqqWEhD2wUQErd3rJPXRRAfV2rnxs4FEBLxZzL3wQUQHzTE1Gk/RNAED3z25QSFECKKChZYioUQCRYZjztPxRA9FuEVuqFFEDl5QjMzdQUQEVwyNVuaBVAVS6j1HEFFkD6Jr9NjH4WQFZbjGwMnRZAnrgwqkngFkBln7ZnmisXQCjoE405ghdArjrOokibF0B12hsAtHYXQC/dDK/vgBdAKZjaVjubF0AQt8KNepkXQDFpRWmmoRdAxQhW0fqMF0DzU8kPJYYXQEBitjDxhBdAC9W2zQmEF0Ae1X1yWYkXQGx1Y0/TbBdAJ95iCDxtF0A=",
          "dtype": "f8"
         },
         "yaxis": "y"
        },
        {
         "line": {
          "color": "orange",
          "width": 1.5
         },
         "mode": "lines",
         "name": "RSI",
         "type": "scatter",
         "x": [
          "2025-01-02T00:00:00.000000000",
          "2025-01-03T00:00:00.000000000",
          "2025-01-06T00:00:00.000000000",
          "2025-01-07T00:00:00.000000000",
          "2025-01-08T00:00:00.000000000",
          "2025-01-09T00:00:00.000000000",
          "2025-01-10T00:00:00.000000000",
          "2025-01-13T00:00:00.000000000",
          "2025-01-14T00:00:00.000000000",
          "2025-01-15T00:00:00.000000000",
          "2025-01-16T00:00:00.000000000",
          "2025-01-17T00:00:00.000000000",
          "2025-01-20T00:00:00.000000000",
          "2025-01-21T00:00:00.000000000",
          "2025-01-22T00:00:00.000000000",
          "2025-01-23T00:00:00.000000000",
          "2025-01-24T00:00:00.000000000",
          "2025-01-27T00:00:00.000000000",
          "2025-01-28T00:00:00.000000000",
          "2025-01-29T00:00:00.000000000",
          "2025-01-30T00:00:00.000000000",
          "2025-01-31T00:00:00.000000000",
          "2025-02-03T00:00:00.000000000",
          "2025-02-04T00:00:00.000000000",
          "2025-02-05T00:00:00.000000000",
          "2025-02-06T00:00:00.000000000",
          "2025-02-07T00:00:00.000000000",
          "2025-02-10T00:00:00.000000000",
          "2025-02-11T00:00:00.000000000",
          "2025-02-12T00:00:00.000000000",
          "2025-02-13T00:00:00.000000000",
          "2025-02-14T00:00:00.000000000",
          "2025-02-18T00:00:00.000000000",
          "2025-02-19T00:00:00.000000000",
          "2025-02-20T00:00:00.000000000",
          "2025-02-21T00:00:00.000000000",
          "2025-02-24T00:00:00.000000000",
          "2025-02-25T00:00:00.000000000",
          "2025-02-26T00:00:00.000000000",
          "2025-02-27T00:00:00.000000000",
          "2025-02-28T00:00:00.000000000",
          "2025-03-03T00:00:00.000000000",
          "2025-03-04T00:00:00.000000000",
          "2025-03-05T00:00:00.000000000",
          "2025-03-06T00:00:00.000000000",
          "2025-03-07T00:00:00.000000000",
          "2025-03-10T00:00:00.000000000",
          "2025-03-11T00:00:00.000000000",
          "2025-03-12T00:00:00.000000000",
          "2025-03-13T00:00:00.000000000",
          "2025-03-14T00:00:00.000000000",
          "2025-03-17T00:00:00.000000000",
          "2025-03-18T00:00:00.000000000",
          "2025-03-19T00:00:00.000000000",
          "2025-03-20T00:00:00.000000000",
          "2025-03-21T00:00:00.000000000",
          "2025-03-24T00:00:00.000000000",
          "2025-03-25T00:00:00.000000000",
          "2025-03-26T00:00:00.000000000",
          "2025-03-27T00:00:00.000000000",
          "2025-03-28T00:00:00.000000000",
          "2025-03-31T00:00:00.000000000",
          "2025-04-01T00:00:00.000000000",
          "2025-04-02T00:00:00.000000000",
          "2025-04-03T00:00:00.000000000",
          "2025-04-04T00:00:00.000000000",
          "2025-04-07T00:00:00.000000000",
          "2025-04-08T00:00:00.000000000",
          "2025-04-09T00:00:00.000000000",
          "2025-04-10T00:00:00.000000000",
          "2025-04-11T00:00:00.000000000",
          "2025-04-14T00:00:00.000000000",
          "2025-04-15T00:00:00.000000000",
          "2025-04-16T00:00:00.000000000",
          "2025-04-17T00:00:00.000000000",
          "2025-04-21T00:00:00.000000000",
          "2025-04-22T00:00:00.000000000",
          "2025-04-23T00:00:00.000000000",
          "2025-04-24T00:00:00.000000000",
          "2025-04-25T00:00:00.000000000",
          "2025-04-28T00:00:00.000000000",
          "2025-04-29T00:00:00.000000000",
          "2025-04-30T00:00:00.000000000",
          "2025-05-01T00:00:00.000000000",
          "2025-05-02T00:00:00.000000000",
          "2025-05-05T00:00:00.000000000",
          "2025-05-06T00:00:00.000000000",
          "2025-05-07T00:00:00.000000000",
          "2025-05-08T00:00:00.000000000",
          "2025-05-09T00:00:00.000000000",
          "2025-05-12T00:00:00.000000000",
          "2025-05-13T00:00:00.000000000",
          "2025-05-14T00:00:00.000000000",
          "2025-05-15T00:00:00.000000000",
          "2025-05-16T00:00:00.000000000",
          "2025-05-20T00:00:00.000000000",
          "2025-05-21T00:00:00.000000000",
          "2025-05-22T00:00:00.000000000",
          "2025-05-23T00:00:00.000000000",
          "2025-05-26T00:00:00.000000000",
          "2025-05-27T00:00:00.000000000",
          "2025-05-28T00:00:00.000000000",
          "2025-05-29T00:00:00.000000000",
          "2025-05-30T00:00:00.000000000",
          "2025-06-02T00:00:00.000000000",
          "2025-06-03T00:00:00.000000000",
          "2025-06-04T00:00:00.000000000",
          "2025-06-05T00:00:00.000000000",
          "2025-06-06T00:00:00.000000000",
          "2025-06-09T00:00:00.000000000",
          "2025-06-10T00:00:00.000000000",
          "2025-06-11T00:00:00.000000000",
          "2025-06-12T00:00:00.000000000",
          "2025-06-13T00:00:00.000000000",
          "2025-06-16T00:00:00.000000000",
          "2025-06-17T00:00:00.000000000",
          "2025-06-18T00:00:00.000000000",
          "2025-06-19T00:00:00.000000000",
          "2025-06-20T00:00:00.000000000",
          "2025-06-23T00:00:00.000000000",
          "2025-06-24T00:00:00.000000000",
          "2025-06-25T00:00:00.000000000",
          "2025-06-26T00:00:00.000000000",
          "2025-06-27T00:00:00.000000000",
          "2025-06-30T00:00:00.000000000",
          "2025-07-02T00:00:00.000000000",
          "2025-07-03T00:00:00.000000000",
          "2025-07-04T00:00:00.000000000",
          "2025-07-07T00:00:00.000000000",
          "2025-07-08T00:00:00.000000000",
          "2025-07-09T00:00:00.000000000",
          "2025-07-10T00:00:00.000000000",
          "2025-07-11T00:00:00.000000000",
          "2025-07-14T00:00:00.000000000",
          "2025-07-15T00:00:00.000000000",
          "2025-07-16T00:00:00.000000000",
          "2025-07-17T00:00:00.000000000",
          "2025-07-18T00:00:00.000000000",
          "2025-07-21T00:00:00.000000000",
          "2025-07-22T00:00:00.000000000",
          "2025-07-23T00:00:00.000000000",
          "2025-07-24T00:00:00.000000000",
          "2025-07-25T00:00:00.000000000",
          "2025-07-28T00:00:00.000000000",
          "2025-07-29T00:00:00.000000000",
          "2025-07-30T00:00:00.000000000",
          "2025-07-31T00:00:00.000000000",
          "2025-08-01T00:00:00.000000000",
          "2025-08-05T00:00:00.000000000",
          "2025-08-06T00:00:00.000000000",
          "2025-08-07T00:00:00.000000000",
          "2025-08-08T00:00:00.000000000",
          "2025-08-11T00:00:00.000000000",
          "2025-08-12T00:00:00.000000000",
          "2025-08-13T00:00:00.000000000",
          "2025-08-14T00:00:00.000000000",
          "2025-08-15T00:00:00.000000000",
          "2025-08-18T00:00:00.000000000",
          "2025-08-19T00:00:00.000000000",
          "2025-08-20T00:00:00.000000000",
          "2025-08-21T00:00:00.000000000",
          "2025-08-22T00:00:00.000000000",
          "2025-08-25T00:00:00.000000000",
          "2025-08-26T00:00:00.000000000",
          "2025-08-27T00:00:00.000000000",
          "2025-08-28T00:00:00.000000000",
          "2025-08-29T00:00:00.000000000",
          "2025-09-02T00:00:00.000000000",
          "2025-09-03T00:00:00.000000000",
          "2025-09-04T00:00:00.000000000",
          "2025-09-05T00:00:00.000000000",
          "2025-09-08T00:00:00.000000000",
          "2025-09-09T00:00:00.000000000",
          "2025-09-10T00:00:00.000000000",
          "2025-09-11T00:00:00.000000000",
          "2025-09-12T00:00:00.000000000",
          "2025-09-15T00:00:00.000000000",
          "2025-09-16T00:00:00.000000000",
          "2025-09-17T00:00:00.000000000",
          "2025-09-18T00:00:00.000000000",
          "2025-09-19T00:00:00.000000000",
          "2025-09-22T00:00:00.000000000",
          "2025-09-23T00:00:00.000000000",
          "2025-09-24T00:00:00.000000000",
          "2025-09-25T00:00:00.000000000",
          "2025-09-26T00:00:00.000000000",
          "2025-09-29T00:00:00.000000000",
          "2025-09-30T00:00:00.000000000",
          "2025-10-01T00:00:00.000000000",
          "2025-10-02T00:00:00.000000000",
          "2025-10-03T00:00:00.000000000",
          "2025-10-06T00:00:00.000000000",
          "2025-10-07T00:00:00.000000000",
          "2025-10-08T00:00:00.000000000",
          "2025-10-09T00:00:00.000000000",
          "2025-10-10T00:00:00.000000000",
          "2025-10-14T00:00:00.000000000",
          "2025-10-15T00:00:00.000000000",
          "2025-10-16T00:00:00.000000000",
          "2025-10-17T00:00:00.000000000",
          "2025-10-20T00:00:00.000000000",
          "2025-10-21T00:00:00.000000000",
          "2025-10-22T00:00:00.000000000",
          "2025-10-23T00:00:00.000000000",
          "2025-10-24T00:00:00.000000000"
         ],
         "xaxis": "x2",
         "y": {
          "bdata": "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",
          "dtype": "f8"
         },
         "yaxis": "y2"
        },
        {
         "marker": {
          "color": "lightblue"
         },
         "name": "Volume",
         "opacity": 0.7,
         "type": "bar",
         "x": [
          "2025-01-02T00:00:00.000000000",
          "2025-01-03T00:00:00.000000000",
          "2025-01-06T00:00:00.000000000",
          "2025-01-07T00:00:00.000000000",
          "2025-01-08T00:00:00.000000000",
          "2025-01-09T00:00:00.000000000",
          "2025-01-10T00:00:00.000000000",
          "2025-01-13T00:00:00.000000000",
          "2025-01-14T00:00:00.000000000",
          "2025-01-15T00:00:00.000000000",
          "2025-01-16T00:00:00.000000000",
          "2025-01-17T00:00:00.000000000",
          "2025-01-20T00:00:00.000000000",
          "2025-01-21T00:00:00.000000000",
          "2025-01-22T00:00:00.000000000",
          "2025-01-23T00:00:00.000000000",
          "2025-01-24T00:00:00.000000000",
          "2025-01-27T00:00:00.000000000",
          "2025-01-28T00:00:00.000000000",
          "2025-01-29T00:00:00.000000000",
          "2025-01-30T00:00:00.000000000",
          "2025-01-31T00:00:00.000000000",
          "2025-02-03T00:00:00.000000000",
          "2025-02-04T00:00:00.000000000",
          "2025-02-05T00:00:00.000000000",
          "2025-02-06T00:00:00.000000000",
          "2025-02-07T00:00:00.000000000",
          "2025-02-10T00:00:00.000000000",
          "2025-02-11T00:00:00.000000000",
          "2025-02-12T00:00:00.000000000",
          "2025-02-13T00:00:00.000000000",
          "2025-02-14T00:00:00.000000000",
          "2025-02-18T00:00:00.000000000",
          "2025-02-19T00:00:00.000000000",
          "2025-02-20T00:00:00.000000000",
          "2025-02-21T00:00:00.000000000",
          "2025-02-24T00:00:00.000000000",
          "2025-02-25T00:00:00.000000000",
          "2025-02-26T00:00:00.000000000",
          "2025-02-27T00:00:00.000000000",
          "2025-02-28T00:00:00.000000000",
          "2025-03-03T00:00:00.000000000",
          "2025-03-04T00:00:00.000000000",
          "2025-03-05T00:00:00.000000000",
          "2025-03-06T00:00:00.000000000",
          "2025-03-07T00:00:00.000000000",
          "2025-03-10T00:00:00.000000000",
          "2025-03-11T00:00:00.000000000",
          "2025-03-12T00:00:00.000000000",
          "2025-03-13T00:00:00.000000000",
          "2025-03-14T00:00:00.000000000",
          "2025-03-17T00:00:00.000000000",
          "2025-03-18T00:00:00.000000000",
          "2025-03-19T00:00:00.000000000",
          "2025-03-20T00:00:00.000000000",
          "2025-03-21T00:00:00.000000000",
          "2025-03-24T00:00:00.000000000",
          "2025-03-25T00:00:00.000000000",
          "2025-03-26T00:00:00.000000000",
          "2025-03-27T00:00:00.000000000",
          "2025-03-28T00:00:00.000000000",
          "2025-03-31T00:00:00.000000000",
          "2025-04-01T00:00:00.000000000",
          "2025-04-02T00:00:00.000000000",
          "2025-04-03T00:00:00.000000000",
          "2025-04-04T00:00:00.000000000",
          "2025-04-07T00:00:00.000000000",
          "2025-04-08T00:00:00.000000000",
          "2025-04-09T00:00:00.000000000",
          "2025-04-10T00:00:00.000000000",
          "2025-04-11T00:00:00.000000000",
          "2025-04-14T00:00:00.000000000",
          "2025-04-15T00:00:00.000000000",
          "2025-04-16T00:00:00.000000000",
          "2025-04-17T00:00:00.000000000",
          "2025-04-21T00:00:00.000000000",
          "2025-04-22T00:00:00.000000000",
          "2025-04-23T00:00:00.000000000",
          "2025-04-24T00:00:00.000000000",
          "2025-04-25T00:00:00.000000000",
          "2025-04-28T00:00:00.000000000",
          "2025-04-29T00:00:00.000000000",
          "2025-04-30T00:00:00.000000000",
          "2025-05-01T00:00:00.000000000",
          "2025-05-02T00:00:00.000000000",
          "2025-05-05T00:00:00.000000000",
          "2025-05-06T00:00:00.000000000",
          "2025-05-07T00:00:00.000000000",
          "2025-05-08T00:00:00.000000000",
          "2025-05-09T00:00:00.000000000",
          "2025-05-12T00:00:00.000000000",
          "2025-05-13T00:00:00.000000000",
          "2025-05-14T00:00:00.000000000",
          "2025-05-15T00:00:00.000000000",
          "2025-05-16T00:00:00.000000000",
          "2025-05-20T00:00:00.000000000",
          "2025-05-21T00:00:00.000000000",
          "2025-05-22T00:00:00.000000000",
          "2025-05-23T00:00:00.000000000",
          "2025-05-26T00:00:00.000000000",
          "2025-05-27T00:00:00.000000000",
          "2025-05-28T00:00:00.000000000",
          "2025-05-29T00:00:00.000000000",
          "2025-05-30T00:00:00.000000000",
          "2025-06-02T00:00:00.000000000",
          "2025-06-03T00:00:00.000000000",
          "2025-06-04T00:00:00.000000000",
          "2025-06-05T00:00:00.000000000",
          "2025-06-06T00:00:00.000000000",
          "2025-06-09T00:00:00.000000000",
          "2025-06-10T00:00:00.000000000",
          "2025-06-11T00:00:00.000000000",
          "2025-06-12T00:00:00.000000000",
          "2025-06-13T00:00:00.000000000",
          "2025-06-16T00:00:00.000000000",
          "2025-06-17T00:00:00.000000000",
          "2025-06-18T00:00:00.000000000",
          "2025-06-19T00:00:00.000000000",
          "2025-06-20T00:00:00.000000000",
          "2025-06-23T00:00:00.000000000",
          "2025-06-24T00:00:00.000000000",
          "2025-06-25T00:00:00.000000000",
          "2025-06-26T00:00:00.000000000",
          "2025-06-27T00:00:00.000000000",
          "2025-06-30T00:00:00.000000000",
          "2025-07-02T00:00:00.000000000",
          "2025-07-03T00:00:00.000000000",
          "2025-07-04T00:00:00.000000000",
          "2025-07-07T00:00:00.000000000",
          "2025-07-08T00:00:00.000000000",
          "2025-07-09T00:00:00.000000000",
          "2025-07-10T00:00:00.000000000",
          "2025-07-11T00:00:00.000000000",
          "2025-07-14T00:00:00.000000000",
          "2025-07-15T00:00:00.000000000",
          "2025-07-16T00:00:00.000000000",
          "2025-07-17T00:00:00.000000000",
          "2025-07-18T00:00:00.000000000",
          "2025-07-21T00:00:00.000000000",
          "2025-07-22T00:00:00.000000000",
          "2025-07-23T00:00:00.000000000",
          "2025-07-24T00:00:00.000000000",
          "2025-07-25T00:00:00.000000000",
          "2025-07-28T00:00:00.000000000",
          "2025-07-29T00:00:00.000000000",
          "2025-07-30T00:00:00.000000000",
          "2025-07-31T00:00:00.000000000",
          "2025-08-01T00:00:00.000000000",
          "2025-08-05T00:00:00.000000000",
          "2025-08-06T00:00:00.000000000",
          "2025-08-07T00:00:00.000000000",
          "2025-08-08T00:00:00.000000000",
          "2025-08-11T00:00:00.000000000",
          "2025-08-12T00:00:00.000000000",
          "2025-08-13T00:00:00.000000000",
          "2025-08-14T00:00:00.000000000",
          "2025-08-15T00:00:00.000000000",
          "2025-08-18T00:00:00.000000000",
          "2025-08-19T00:00:00.000000000",
          "2025-08-20T00:00:00.000000000",
          "2025-08-21T00:00:00.000000000",
          "2025-08-22T00:00:00.000000000",
          "2025-08-25T00:00:00.000000000",
          "2025-08-26T00:00:00.000000000",
          "2025-08-27T00:00:00.000000000",
          "2025-08-28T00:00:00.000000000",
          "2025-08-29T00:00:00.000000000",
          "2025-09-02T00:00:00.000000000",
          "2025-09-03T00:00:00.000000000",
          "2025-09-04T00:00:00.000000000",
          "2025-09-05T00:00:00.000000000",
          "2025-09-08T00:00:00.000000000",
          "2025-09-09T00:00:00.000000000",
          "2025-09-10T00:00:00.000000000",
          "2025-09-11T00:00:00.000000000",
          "2025-09-12T00:00:00.000000000",
          "2025-09-15T00:00:00.000000000",
          "2025-09-16T00:00:00.000000000",
          "2025-09-17T00:00:00.000000000",
          "2025-09-18T00:00:00.000000000",
          "2025-09-19T00:00:00.000000000",
          "2025-09-22T00:00:00.000000000",
          "2025-09-23T00:00:00.000000000",
          "2025-09-24T00:00:00.000000000",
          "2025-09-25T00:00:00.000000000",
          "2025-09-26T00:00:00.000000000",
          "2025-09-29T00:00:00.000000000",
          "2025-09-30T00:00:00.000000000",
          "2025-10-01T00:00:00.000000000",
          "2025-10-02T00:00:00.000000000",
          "2025-10-03T00:00:00.000000000",
          "2025-10-06T00:00:00.000000000",
          "2025-10-07T00:00:00.000000000",
          "2025-10-08T00:00:00.000000000",
          "2025-10-09T00:00:00.000000000",
          "2025-10-10T00:00:00.000000000",
          "2025-10-14T00:00:00.000000000",
          "2025-10-15T00:00:00.000000000",
          "2025-10-16T00:00:00.000000000",
          "2025-10-17T00:00:00.000000000",
          "2025-10-20T00:00:00.000000000",
          "2025-10-21T00:00:00.000000000",
          "2025-10-22T00:00:00.000000000",
          "2025-10-23T00:00:00.000000000",
          "2025-10-24T00:00:00.000000000"
         ],
         "xaxis": "x3",
         "y": {
          "bdata": "OKgaAGA/EAAQpR0ABLgvAIBwGQCoGQwAKPUoAGB8IwDQ8SQALKQbANTyGgAUQSgAfIYbAFSgFQBIcBUAAAwXAGR2LwDw1DoALBgqAAQeHwDkjCUAjKMlAFDKHACAWB0AiGcLAOj8FQBk+BEApEMsADjYEgDATCAA/PYbAHwvHQCYbTYAlHImADggIACwyCIACKcPAPjWPwAEsxsA3E1YANDURgDoETgA8G9PAEgfLwCMlR8A8OYeABi/HgDcZyoAaI0ZAMjpIAAAGh0A8P8eAIDeDwAMUiQAcIwSACwHGABA4BYA3NobAJRzEQAkhw4AUB4PAMDyFQAAZwwAYDMSAJToIwBoojsAQBEsACAkIACACVgAgFEaAPyRFwCYGxoAaOweAIzkFgAAABkABAQbAKSCLgBYXScAKB0aAEgPCACcPx8AdKQZAHQWIACMiB0AwMAVAHRjDwAoxBMAHPAlALjyGADMmRcAJOcwAGzdHwC0VSMAhPQnAMyNGQDcXRsAmIYdABxjFwC4CxkAyJEFAGj5IABIghIAFHg8AKRlNwBgYyMA2HkcAMThDgCMhA0AOLckAFBfGQBU/xoA6K8mAIAMGQCUgzgARLIYAFyTKQBQK0MAYG0ZAFRnXQBISzAALO4XAPy2FQBMqicAFAc6AJB2EgBg5BoAPDkSAKQICADEfhIAyFMgABDOEgCk+RYAnAsXAFguGgCwfB4ALOEVAJTpDgD4EBUAKBYXAEBJKwDYMSgA/IMqAHguDgDccSAA3NQcAGRBPAA0UxkAVKEZALACEQB8qCYAZG0LAAj+DQCgUQ4AcH4MAAASFgDoiigACKwKACDcEgDI3xEAGEwUAGw5GQBMEyMAnNEPAKSnLACkLw4AuJIPANDlDQCw9hIA0K8WANzwDwAU7BgAUIQXAFQeGgA4zjUAIHYjAIyqDwB8riUAHNIqANArRQAwtR8AREmBAKBJIAAIaREAtFoeABQDEQDwTxoAfJwPAMTvFACkZBoALGAeAFRIEwCERQ4A1J4PADDkEwCczRgAwKIaAKzAQgAgAA0AgFsQANjGJADothAAcNYOABhGFQBYpBcAnBwQAA==",
          "dtype": "i4"
         },
         "yaxis": "y3"
        }
       ],
       "layout": {
        "height": 700,
        "legend": {
         "bgcolor": "rgba(255,255,255,0)",
         "bordercolor": "rgba(0,0,0,0)",
         "font": {
          "size": 10
         },
         "orientation": "h",
         "x": 0.5,
         "xanchor": "center",
         "y": 1,
         "yanchor": "bottom"
        },
        "shapes": [
         {
          "line": {
           "color": "red",
           "dash": "dot"
          },
          "type": "line",
          "x0": 0,
          "x1": 1,
          "xref": "x2 domain",
          "y0": 70,
          "y1": 70,
          "yref": "y2"
         },
         {
          "line": {
           "color": "green",
           "dash": "dot"
          },
          "type": "line",
          "x0": 0,
          "x1": 1,
          "xref": "x2 domain",
          "y0": 30,
          "y1": 30,
          "yref": "y2"
         }
        ],
        "template": {
         "data": {
          "bar": [
           {
            "error_x": {
             "color": "#2a3f5f"
            },
            "error_y": {
             "color": "#2a3f5f"
            },
            "marker": {
             "line": {
              "color": "white",
              "width": 0.5
             },
             "pattern": {
              "fillmode": "overlay",
              "size": 10,
              "solidity": 0.2
             }
            },
            "type": "bar"
           }
          ],
          "barpolar": [
           {
            "marker": {
             "line": {
              "color": "white",
              "width": 0.5
             },
             "pattern": {
              "fillmode": "overlay",
              "size": 10,
              "solidity": 0.2
             }
            },
            "type": "barpolar"
           }
          ],
          "carpet": [
           {
            "aaxis": {
             "endlinecolor": "#2a3f5f",
             "gridcolor": "#C8D4E3",
             "linecolor": "#C8D4E3",
             "minorgridcolor": "#C8D4E3",
             "startlinecolor": "#2a3f5f"
            },
            "baxis": {
             "endlinecolor": "#2a3f5f",
             "gridcolor": "#C8D4E3",
             "linecolor": "#C8D4E3",
             "minorgridcolor": "#C8D4E3",
             "startlinecolor": "#2a3f5f"
            },
            "type": "carpet"
           }
          ],
          "choropleth": [
           {
            "colorbar": {
             "outlinewidth": 0,
             "ticks": ""
            },
            "type": "choropleth"
           }
          ],
          "contour": [
           {
            "colorbar": {
             "outlinewidth": 0,
             "ticks": ""
            },
            "colorscale": [
             [
              0,
              "#0d0887"
             ],
             [
              0.1111111111111111,
              "#46039f"
             ],
             [
              0.2222222222222222,
              "#7201a8"
             ],
             [
              0.3333333333333333,
              "#9c179e"
             ],
             [
              0.4444444444444444,
              "#bd3786"
             ],
             [
              0.5555555555555556,
              "#d8576b"
             ],
             [
              0.6666666666666666,
              "#ed7953"
             ],
             [
              0.7777777777777778,
              "#fb9f3a"
             ],
             [
              0.8888888888888888,
              "#fdca26"
             ],
             [
              1,
              "#f0f921"
             ]
            ],
            "type": "contour"
           }
          ],
          "contourcarpet": [
           {
            "colorbar": {
             "outlinewidth": 0,
             "ticks": ""
            },
            "type": "contourcarpet"
           }
          ],
          "heatmap": [
           {
            "colorbar": {
             "outlinewidth": 0,
             "ticks": ""
            },
            "colorscale": [
             [
              0,
              "#0d0887"
             ],
             [
              0.1111111111111111,
              "#46039f"
             ],
             [
              0.2222222222222222,
              "#7201a8"
             ],
             [
              0.3333333333333333,
              "#9c179e"
             ],
             [
              0.4444444444444444,
              "#bd3786"
             ],
             [
              0.5555555555555556,
              "#d8576b"
             ],
             [
              0.6666666666666666,
              "#ed7953"
             ],
             [
              0.7777777777777778,
              "#fb9f3a"
             ],
             [
              0.8888888888888888,
              "#fdca26"
             ],
             [
              1,
              "#f0f921"
             ]
            ],
            "type": "heatmap"
           }
          ],
          "histogram": [
           {
            "marker": {
             "pattern": {
              "fillmode": "overlay",
              "size": 10,
              "solidity": 0.2
             }
            },
            "type": "histogram"
           }
          ],
          "histogram2d": [
           {
            "colorbar": {
             "outlinewidth": 0,
             "ticks": ""
            },
            "colorscale": [
             [
              0,
              "#0d0887"
             ],
             [
              0.1111111111111111,
              "#46039f"
             ],
             [
              0.2222222222222222,
              "#7201a8"
             ],
             [
              0.3333333333333333,
              "#9c179e"
             ],
             [
              0.4444444444444444,
              "#bd3786"
             ],
             [
              0.5555555555555556,
              "#d8576b"
             ],
             [
              0.6666666666666666,
              "#ed7953"
             ],
             [
              0.7777777777777778,
              "#fb9f3a"
             ],
             [
              0.8888888888888888,
              "#fdca26"
             ],
             [
              1,
              "#f0f921"
             ]
            ],
            "type": "histogram2d"
           }
          ],
          "histogram2dcontour": [
           {
            "colorbar": {
             "outlinewidth": 0,
             "ticks": ""
            },
            "colorscale": [
             [
              0,
              "#0d0887"
             ],
             [
              0.1111111111111111,
              "#46039f"
             ],
             [
              0.2222222222222222,
              "#7201a8"
             ],
             [
              0.3333333333333333,
              "#9c179e"
             ],
             [
              0.4444444444444444,
              "#bd3786"
             ],
             [
              0.5555555555555556,
              "#d8576b"
             ],
             [
              0.6666666666666666,
              "#ed7953"
             ],
             [
              0.7777777777777778,
              "#fb9f3a"
             ],
             [
              0.8888888888888888,
              "#fdca26"
             ],
             [
              1,
              "#f0f921"
             ]
            ],
            "type": "histogram2dcontour"
           }
          ],
          "mesh3d": [
           {
            "colorbar": {
             "outlinewidth": 0,
             "ticks": ""
            },
            "type": "mesh3d"
           }
          ],
          "parcoords": [
           {
            "line": {
             "colorbar": {
              "outlinewidth": 0,
              "ticks": ""
             }
            },
            "type": "parcoords"
           }
          ],
          "pie": [
           {
            "automargin": true,
            "type": "pie"
           }
          ],
          "scatter": [
           {
            "fillpattern": {
             "fillmode": "overlay",
             "size": 10,
             "solidity": 0.2
            },
            "type": "scatter"
           }
          ],
          "scatter3d": [
           {
            "line": {
             "colorbar": {
              "outlinewidth": 0,
              "ticks": ""
             }
            },
            "marker": {
             "colorbar": {
              "outlinewidth": 0,
              "ticks": ""
             }
            },
            "type": "scatter3d"
           }
          ],
          "scattercarpet": [
           {
            "marker": {
             "colorbar": {
              "outlinewidth": 0,
              "ticks": ""
             }
            },
            "type": "scattercarpet"
           }
          ],
          "scattergeo": [
           {
            "marker": {
             "colorbar": {
              "outlinewidth": 0,
              "ticks": ""
             }
            },
            "type": "scattergeo"
           }
          ],
          "scattergl": [
           {
            "marker": {
             "colorbar": {
              "outlinewidth": 0,
              "ticks": ""
             }
            },
            "type": "scattergl"
           }
          ],
          "scattermap": [
           {
            "marker": {
             "colorbar": {
              "outlinewidth": 0,
              "ticks": ""
             }
            },
            "type": "scattermap"
           }
          ],
          "scattermapbox": [
           {
            "marker": {
             "colorbar": {
              "outlinewidth": 0,
              "ticks": ""
             }
            },
            "type": "scattermapbox"
           }
          ],
          "scatterpolar": [
           {
            "marker": {
             "colorbar": {
              "outlinewidth": 0,
              "ticks": ""
             }
            },
            "type": "scatterpolar"
           }
          ],
          "scatterpolargl": [
           {
            "marker": {
             "colorbar": {
              "outlinewidth": 0,
              "ticks": ""
             }
            },
            "type": "scatterpolargl"
           }
          ],
          "scatterternary": [
           {
            "marker": {
             "colorbar": {
              "outlinewidth": 0,
              "ticks": ""
             }
            },
            "type": "scatterternary"
           }
          ],
          "surface": [
           {
            "colorbar": {
             "outlinewidth": 0,
             "ticks": ""
            },
            "colorscale": [
             [
              0,
              "#0d0887"
             ],
             [
              0.1111111111111111,
              "#46039f"
             ],
             [
              0.2222222222222222,
              "#7201a8"
             ],
             [
              0.3333333333333333,
              "#9c179e"
             ],
             [
              0.4444444444444444,
              "#bd3786"
             ],
             [
              0.5555555555555556,
              "#d8576b"
             ],
             [
              0.6666666666666666,
              "#ed7953"
             ],
             [
              0.7777777777777778,
              "#fb9f3a"
             ],
             [
              0.8888888888888888,
              "#fdca26"
             ],
             [
              1,
              "#f0f921"
             ]
            ],
            "type": "surface"
           }
          ],
          "table": [
           {
            "cells": {
             "fill": {
              "color": "#EBF0F8"
             },
             "line": {
              "color": "white"
             }
            },
            "header": {
             "fill": {
              "color": "#C8D4E3"
             },
             "line": {
              "color": "white"
             }
            },
            "type": "table"
           }
          ]
         },
         "layout": {
          "annotationdefaults": {
           "arrowcolor": "#2a3f5f",
           "arrowhead": 0,
           "arrowwidth": 1
          },
          "autotypenumbers": "strict",
          "coloraxis": {
           "colorbar": {
            "outlinewidth": 0,
            "ticks": ""
           }
          },
          "colorscale": {
           "diverging": [
            [
             0,
             "#8e0152"
            ],
            [
             0.1,
             "#c51b7d"
            ],
            [
             0.2,
             "#de77ae"
            ],
            [
             0.3,
             "#f1b6da"
            ],
            [
             0.4,
             "#fde0ef"
            ],
            [
             0.5,
             "#f7f7f7"
            ],
            [
             0.6,
             "#e6f5d0"
            ],
            [
             0.7,
             "#b8e186"
            ],
            [
             0.8,
             "#7fbc41"
            ],
            [
             0.9,
             "#4d9221"
            ],
            [
             1,
             "#276419"
            ]
           ],
           "sequential": [
            [
             0,
             "#0d0887"
            ],
            [
             0.1111111111111111,
             "#46039f"
            ],
            [
             0.2222222222222222,
             "#7201a8"
            ],
            [
             0.3333333333333333,
             "#9c179e"
            ],
            [
             0.4444444444444444,
             "#bd3786"
            ],
            [
             0.5555555555555556,
             "#d8576b"
            ],
            [
             0.6666666666666666,
             "#ed7953"
            ],
            [
             0.7777777777777778,
             "#fb9f3a"
            ],
            [
             0.8888888888888888,
             "#fdca26"
            ],
            [
             1,
             "#f0f921"
            ]
           ],
           "sequentialminus": [
            [
             0,
             "#0d0887"
            ],
            [
             0.1111111111111111,
             "#46039f"
            ],
            [
             0.2222222222222222,
             "#7201a8"
            ],
            [
             0.3333333333333333,
             "#9c179e"
            ],
            [
             0.4444444444444444,
             "#bd3786"
            ],
            [
             0.5555555555555556,
             "#d8576b"
            ],
            [
             0.6666666666666666,
             "#ed7953"
            ],
            [
             0.7777777777777778,
             "#fb9f3a"
            ],
            [
             0.8888888888888888,
             "#fdca26"
            ],
            [
             1,
             "#f0f921"
            ]
           ]
          },
          "colorway": [
           "#636efa",
           "#EF553B",
           "#00cc96",
           "#ab63fa",
           "#FFA15A",
           "#19d3f3",
           "#FF6692",
           "#B6E880",
           "#FF97FF",
           "#FECB52"
          ],
          "font": {
           "color": "#2a3f5f"
          },
          "geo": {
           "bgcolor": "white",
           "lakecolor": "white",
           "landcolor": "white",
           "showlakes": true,
           "showland": true,
           "subunitcolor": "#C8D4E3"
          },
          "hoverlabel": {
           "align": "left"
          },
          "hovermode": "closest",
          "mapbox": {
           "style": "light"
          },
          "paper_bgcolor": "white",
          "plot_bgcolor": "white",
          "polar": {
           "angularaxis": {
            "gridcolor": "#EBF0F8",
            "linecolor": "#EBF0F8",
            "ticks": ""
           },
           "bgcolor": "white",
           "radialaxis": {
            "gridcolor": "#EBF0F8",
            "linecolor": "#EBF0F8",
            "ticks": ""
           }
          },
          "scene": {
           "xaxis": {
            "backgroundcolor": "white",
            "gridcolor": "#DFE8F3",
            "gridwidth": 2,
            "linecolor": "#EBF0F8",
            "showbackground": true,
            "ticks": "",
            "zerolinecolor": "#EBF0F8"
           },
           "yaxis": {
            "backgroundcolor": "white",
            "gridcolor": "#DFE8F3",
            "gridwidth": 2,
            "linecolor": "#EBF0F8",
            "showbackground": true,
            "ticks": "",
            "zerolinecolor": "#EBF0F8"
           },
           "zaxis": {
            "backgroundcolor": "white",
            "gridcolor": "#DFE8F3",
            "gridwidth": 2,
            "linecolor": "#EBF0F8",
            "showbackground": true,
            "ticks": "",
            "zerolinecolor": "#EBF0F8"
           }
          },
          "shapedefaults": {
           "line": {
            "color": "#2a3f5f"
           }
          },
          "ternary": {
           "aaxis": {
            "gridcolor": "#DFE8F3",
            "linecolor": "#A2B1C6",
            "ticks": ""
           },
           "baxis": {
            "gridcolor": "#DFE8F3",
            "linecolor": "#A2B1C6",
            "ticks": ""
           },
           "bgcolor": "white",
           "caxis": {
            "gridcolor": "#DFE8F3",
            "linecolor": "#A2B1C6",
            "ticks": ""
           }
          },
          "title": {
           "x": 0.05
          },
          "xaxis": {
           "automargin": true,
           "gridcolor": "#EBF0F8",
           "linecolor": "#EBF0F8",
           "ticks": "",
           "title": {
            "standoff": 15
           },
           "zerolinecolor": "#EBF0F8",
           "zerolinewidth": 2
          },
          "yaxis": {
           "automargin": true,
           "gridcolor": "#EBF0F8",
           "linecolor": "#EBF0F8",
           "ticks": "",
           "title": {
            "standoff": 15
           },
           "zerolinecolor": "#EBF0F8",
           "zerolinewidth": 2
          }
         }
        },
        "title": {
         "pad": {
          "b": 20
         },
         "text": "Stock Overview – TVE.TO",
         "x": 0.5,
         "xanchor": "center",
         "yanchor": "top"
        },
        "xaxis": {
         "anchor": "y",
         "domain": [
          0,
          1
         ],
         "matches": "x3",
         "showticklabels": false
        },
        "xaxis2": {
         "anchor": "y2",
         "domain": [
          0,
          1
         ],
         "matches": "x3",
         "showticklabels": false
        },
        "xaxis3": {
         "anchor": "y3",
         "domain": [
          0,
          1
         ],
         "title": {
          "text": "Date"
         }
        },
        "yaxis": {
         "anchor": "x",
         "domain": [
          0.45999999999999996,
          1
         ],
         "title": {
          "text": "Price"
         }
        },
        "yaxis2": {
         "anchor": "x2",
         "domain": [
          0.185,
          0.41000000000000003
         ],
         "range": [
          0,
          100
         ],
         "title": {
          "text": "RSI (0-100)"
         }
        },
        "yaxis3": {
         "anchor": "x3",
         "domain": [
          0,
          0.135
         ],
         "title": {
          "text": "Volume"
         }
        }
       }
      }
     },
     "metadata": {},
     "output_type": "display_data"
    }
   ],
   "source": [
    "# Plot prices & custom indicators\n",
    "import src.utils.plots\n",
    "# Reload it every time the cell is run\n",
    "importlib.reload(src.utils.plots)\n",
    "\n",
    "from src.utils.plots import plot_stock\n",
    "\n",
    "import src.utils.indicators\n",
    "# Reload it every time the cell is run\n",
    "importlib.reload(src.utils.indicators)\n",
    "\n",
    "from src.utils.indicators import compute_rsi\n",
    "\n",
    "\n",
    "\n",
    "df_plot = df.copy()\n",
    "\n",
    "target_period = 15\n",
    "\n",
    "df_plot = df_plot[df_plot['date'] > '2025-01-01']\n",
    "\n",
    "df_plot['rolling_avg'] = df_plot['close'].rolling(window=target_period).mean()\n",
    "df_plot['upper_band'] = df_plot['rolling_avg'] + 2*df_plot['close'].rolling(window=target_period).std()\n",
    "df_plot['lower_band'] = df_plot['rolling_avg'] - 2*df_plot['close'].rolling(window=target_period).std()\n",
    "\n",
    "df_plot['rsi'] = compute_rsi(df_plot['close'],period=target_period)\n",
    " \n",
    "fig = plot_stock(df_plot, \n",
    "                 date_col='date', \n",
    "                 price_col='close',\n",
    "                 rsi = df_plot['rsi'],\n",
    "                 plot_volume= True,\n",
    "                 indicators= {\n",
    "                    f'Rolling Avg ({target_period}d)': {'data': df_plot['rolling_avg'], 'color': 'red'},\n",
    "                    'Upper Band': {'data': df_plot['upper_band'], 'color': 'green', 'dash': 'dot'},\n",
    "                    'Lower Band': {'data': df_plot['lower_band'], 'color': 'green', 'dash': 'dot'}\n",
    "                })\n",
    "fig.show()"
   ]
  }
 ],
 "metadata": {
  "kernelspec": {
   "display_name": ".venv",
   "language": "python",
   "name": "python3"
  },
  "language_info": {
   "codemirror_mode": {
    "name": "ipython",
    "version": 3
   },
   "file_extension": ".py",
   "mimetype": "text/x-python",
   "name": "python",
   "nbconvert_exporter": "python",
   "pygments_lexer": "ipython3",
   "version": "3.12.5"
  }
 },
 "nbformat": 4,
 "nbformat_minor": 5
}
