{
 "cells": [
  {
   "cell_type": "markdown",
   "id": "67d2e5ce",
   "metadata": {},
   "source": [
    "yfinance API Documentation: https://ranaroussi.github.io/yfinance/reference/index.html \n",
    "\n",
    "git repo: https://github.com/tomwmoore/tm-finance-lab"
   ]
  },
  {
   "cell_type": "code",
   "execution_count": 22,
   "id": "c57ee5f4",
   "metadata": {},
   "outputs": [],
   "source": [
    "import sys \n",
    "import os\n",
    "\n",
    "import pandas as pd\n",
    "import numpy as np\n",
    "import yfinance as yf\n",
    "from datetime import datetime\n",
    "\n",
    "import importlib\n",
    "\n",
    "\n",
    "# Add root path so other subfolders are accessible\n",
    "sys.path.append(os.path.abspath(os.path.join(os.getcwd(), \"..\")))\n",
    "\n",
    "\n",
    "import src.utils.db_azure\n",
    "# Reload it every time the cell is run\n",
    "importlib.reload(src.utils.db_azure)\n",
    "\n",
    "from src.utils.db_azure import get_analytics_azure_engine\n",
    "from src.utils.db_azure import get_dashboard_azure_engine\n",
    "from src.utils.db_azure import azure_upsert\n",
    "\n",
    "\n",
    "import src.utils.plots\n",
    "# Reload it every time the cell is run\n",
    "importlib.reload(src.utils.plots)\n",
    "\n",
    "from src.utils.plots import plot_stock\n",
    "\n",
    "import src.utils.indicators\n",
    "# Reload it every time the cell is run\n",
    "importlib.reload(src.utils.indicators)\n",
    "\n",
    "from src.utils.indicators import compute_rsi\n"
   ]
  },
  {
   "cell_type": "code",
   "execution_count": null,
   "id": "79e014a8",
   "metadata": {},
   "outputs": [],
   "source": [
    "    # Get list of tickers from given industry from asset header\n",
    "query_symbol = f\"\"\"\n",
    "                select symbol \n",
    "                from asset_header\n",
    "                where industry = 'Oil & Gas E&P'\n",
    "                \"\"\"\n",
    "\n",
    "engine = get_analytics_azure_engine()\n",
    "\n",
    "symbols = pd.read_sql(query_symbol,engine)\n",
    "symbols['symbol'].tolist()"
   ]
  },
  {
   "cell_type": "code",
   "execution_count": 11,
   "id": "9f4fd646",
   "metadata": {},
   "outputs": [
    {
     "name": "stderr",
     "output_type": "stream",
     "text": [
      "C:\\Users\\tomwm\\AppData\\Local\\Temp\\ipykernel_24376\\3556350604.py:4: FutureWarning: YF.download() has changed argument auto_adjust default to True\n",
      "  data = yf.download(tickers, interval= '1d', group_by='ticker', start = '2024-01-01', end = '2025-01-01' )\n",
      "[*********************100%***********************]  50 of 50 completed\n"
     ]
    }
   ],
   "source": [
    "# get some stock data\n",
    "tickers = symbols['symbol'].tolist()\n",
    "# data = yf.download(ticker, start=\"2025-01-01\", end=\"2025-09-25\")\n",
    "data = yf.download(tickers, interval= '1d', group_by='ticker', start = '2024-01-01', end = '2025-01-01' )\n",
    "\n",
    "# Clean up multi-index column names to just be the feature names (close, open etc) & make lowercase\n",
    "data = data.stack(level=0,future_stack=True).rename_axis(['Date', 'Ticker']).reset_index(level=1)\n",
    "\n",
    "# remote date as the index\n",
    "data = data.reset_index()\n",
    "\n",
    "data.columns = [col.lower() for col in data.columns]\n",
    "\n",
    "# add current timestamp for future QC\n",
    "data['updated_at'] = pd.Timestamp.now()\n",
    "\n",
    "\n"
   ]
  },
  {
   "cell_type": "code",
   "execution_count": 11,
   "id": "f029b3d3",
   "metadata": {},
   "outputs": [
    {
     "data": {
      "text/plain": [
       "165"
      ]
     },
     "execution_count": 11,
     "metadata": {},
     "output_type": "execute_result"
    }
   ],
   "source": [
    "from sqlalchemy.dialects.mssql import DATETIME2, VARCHAR, FLOAT, BIGINT\n",
    "\n",
    "# Create new table and load to sql\n",
    "azure_engine = get_analytics_azure_engine()\n",
    "\n",
    "\n",
    "dtype_mapping = {\n",
    "    'date': DATETIME2(6),        # precise for milliseconds\n",
    "    'ticker': VARCHAR(20),       \n",
    "    'open': FLOAT,\n",
    "    'high': FLOAT,\n",
    "    'low': FLOAT,\n",
    "    'close': FLOAT,\n",
    "    'volume': BIGINT,            \n",
    "    'updated_at': DATETIME2(0)   # drops seconds, rounds to nearest minute\n",
    "}\n",
    "\n",
    "data.to_sql(\n",
    "    'stock_prices',\n",
    "    azure_engine,\n",
    "    if_exists='fail', \n",
    "    index=False,\n",
    "    dtype=dtype_mapping\n",
    ")"
   ]
  },
  {
   "cell_type": "code",
   "execution_count": 14,
   "id": "837300e5",
   "metadata": {},
   "outputs": [],
   "source": [
    "# Create indices on new table\n",
    "from sqlalchemy import text\n",
    "\n",
    "with azure_engine.begin() as conn:\n",
    "    conn.execute(text('alter table stock_prices alter column date datetime2 NOT NULL'))\n",
    "    conn.execute(text('alter table stock_prices alter column ticker varchar(20) NOT NULL'))\n",
    "    conn.execute(text('alter table stock_prices add constraint pkey_stock_prices PRIMARY KEY (date,ticker)'))"
   ]
  },
  {
   "cell_type": "code",
   "execution_count": 24,
   "id": "f91b32d4",
   "metadata": {},
   "outputs": [],
   "source": [
    "# upsert dataframe to postgres\n",
    "azure_engine = get_analytics_azure_engine()\n",
    "azure_upsert(data,azure_engine,'stock_prices')"
   ]
  },
  {
   "cell_type": "code",
   "execution_count": 2,
   "id": "526a0eb5",
   "metadata": {},
   "outputs": [
    {
     "data": {
      "application/vnd.microsoft.datawrangler.viewer.v0+json": {
       "columns": [
        {
         "name": "index",
         "rawType": "int64",
         "type": "integer"
        },
        {
         "name": "date",
         "rawType": "datetime64[ns]",
         "type": "datetime"
        },
        {
         "name": "symbol",
         "rawType": "object",
         "type": "string"
        },
        {
         "name": "open",
         "rawType": "float64",
         "type": "float"
        },
        {
         "name": "high",
         "rawType": "float64",
         "type": "float"
        },
        {
         "name": "low",
         "rawType": "float64",
         "type": "float"
        },
        {
         "name": "close",
         "rawType": "float64",
         "type": "float"
        },
        {
         "name": "volume",
         "rawType": "int64",
         "type": "integer"
        },
        {
         "name": "updated_at",
         "rawType": "datetime64[ns]",
         "type": "datetime"
        }
       ],
       "ref": "a1ef246d-3cf7-43e3-89bc-34818325f595",
       "rows": [
        [
         "0",
         "2020-01-02 00:00:00",
         "TOU.TO",
         "10.438542299398902",
         "10.519882160913829",
         "10.086072367349564",
         "10.221637725830078",
         "917200",
         "2025-10-08 22:14:16"
        ],
        [
         "1",
         "2020-01-03 00:00:00",
         "TOU.TO",
         "10.411427786312531",
         "10.5808846225597",
         "10.235193167899638",
         "10.418206214904785",
         "1252000",
         "2025-10-08 22:14:16"
        ],
        [
         "2",
         "2020-01-06 00:00:00",
         "TOU.TO",
         "10.472430550285445",
         "10.784231101230043",
         "10.465652122858593",
         "10.723226547241211",
         "2403400",
         "2025-10-08 22:14:16"
        ],
        [
         "3",
         "2020-01-07 00:00:00",
         "TOU.TO",
         "10.723228432735368",
         "10.743563718591533",
         "10.438540895014382",
         "10.567328453063965",
         "967700",
         "2025-10-08 22:14:16"
        ],
        [
         "4",
         "2020-01-08 00:00:00",
         "TOU.TO",
         "10.675784449754001",
         "10.906245931780147",
         "10.54021906221708",
         "10.74356746673584",
         "2926400",
         "2025-10-08 22:14:16"
        ]
       ],
       "shape": {
        "columns": 8,
        "rows": 5
       }
      },
      "text/html": [
       "<div>\n",
       "<style scoped>\n",
       "    .dataframe tbody tr th:only-of-type {\n",
       "        vertical-align: middle;\n",
       "    }\n",
       "\n",
       "    .dataframe tbody tr th {\n",
       "        vertical-align: top;\n",
       "    }\n",
       "\n",
       "    .dataframe thead th {\n",
       "        text-align: right;\n",
       "    }\n",
       "</style>\n",
       "<table border=\"1\" class=\"dataframe\">\n",
       "  <thead>\n",
       "    <tr style=\"text-align: right;\">\n",
       "      <th></th>\n",
       "      <th>date</th>\n",
       "      <th>symbol</th>\n",
       "      <th>open</th>\n",
       "      <th>high</th>\n",
       "      <th>low</th>\n",
       "      <th>close</th>\n",
       "      <th>volume</th>\n",
       "      <th>updated_at</th>\n",
       "    </tr>\n",
       "  </thead>\n",
       "  <tbody>\n",
       "    <tr>\n",
       "      <th>0</th>\n",
       "      <td>2020-01-02</td>\n",
       "      <td>TOU.TO</td>\n",
       "      <td>10.438542</td>\n",
       "      <td>10.519882</td>\n",
       "      <td>10.086072</td>\n",
       "      <td>10.221638</td>\n",
       "      <td>917200</td>\n",
       "      <td>2025-10-08 22:14:16</td>\n",
       "    </tr>\n",
       "    <tr>\n",
       "      <th>1</th>\n",
       "      <td>2020-01-03</td>\n",
       "      <td>TOU.TO</td>\n",
       "      <td>10.411428</td>\n",
       "      <td>10.580885</td>\n",
       "      <td>10.235193</td>\n",
       "      <td>10.418206</td>\n",
       "      <td>1252000</td>\n",
       "      <td>2025-10-08 22:14:16</td>\n",
       "    </tr>\n",
       "    <tr>\n",
       "      <th>2</th>\n",
       "      <td>2020-01-06</td>\n",
       "      <td>TOU.TO</td>\n",
       "      <td>10.472431</td>\n",
       "      <td>10.784231</td>\n",
       "      <td>10.465652</td>\n",
       "      <td>10.723227</td>\n",
       "      <td>2403400</td>\n",
       "      <td>2025-10-08 22:14:16</td>\n",
       "    </tr>\n",
       "    <tr>\n",
       "      <th>3</th>\n",
       "      <td>2020-01-07</td>\n",
       "      <td>TOU.TO</td>\n",
       "      <td>10.723228</td>\n",
       "      <td>10.743564</td>\n",
       "      <td>10.438541</td>\n",
       "      <td>10.567328</td>\n",
       "      <td>967700</td>\n",
       "      <td>2025-10-08 22:14:16</td>\n",
       "    </tr>\n",
       "    <tr>\n",
       "      <th>4</th>\n",
       "      <td>2020-01-08</td>\n",
       "      <td>TOU.TO</td>\n",
       "      <td>10.675784</td>\n",
       "      <td>10.906246</td>\n",
       "      <td>10.540219</td>\n",
       "      <td>10.743567</td>\n",
       "      <td>2926400</td>\n",
       "      <td>2025-10-08 22:14:16</td>\n",
       "    </tr>\n",
       "  </tbody>\n",
       "</table>\n",
       "</div>"
      ],
      "text/plain": [
       "        date  symbol       open       high        low      close   volume  \\\n",
       "0 2020-01-02  TOU.TO  10.438542  10.519882  10.086072  10.221638   917200   \n",
       "1 2020-01-03  TOU.TO  10.411428  10.580885  10.235193  10.418206  1252000   \n",
       "2 2020-01-06  TOU.TO  10.472431  10.784231  10.465652  10.723227  2403400   \n",
       "3 2020-01-07  TOU.TO  10.723228  10.743564  10.438541  10.567328   967700   \n",
       "4 2020-01-08  TOU.TO  10.675784  10.906246  10.540219  10.743567  2926400   \n",
       "\n",
       "           updated_at  \n",
       "0 2025-10-08 22:14:16  \n",
       "1 2025-10-08 22:14:16  \n",
       "2 2025-10-08 22:14:16  \n",
       "3 2025-10-08 22:14:16  \n",
       "4 2025-10-08 22:14:16  "
      ]
     },
     "execution_count": 2,
     "metadata": {},
     "output_type": "execute_result"
    }
   ],
   "source": [
    "# get data from postgres db\n",
    "symbol = 'TOU.TO'\n",
    "azure_engine = get_analytics_azure_engine()\n",
    "select_query = f\"select * from stock_prices where symbol = '{symbol}'\"\n",
    "\n",
    "df = pd.read_sql(select_query,azure_engine)\n",
    "\n",
    "df.head()"
   ]
  },
  {
   "cell_type": "code",
   "execution_count": null,
   "id": "78d97bf7",
   "metadata": {},
   "outputs": [
    {
     "data": {
      "application/vnd.plotly.v1+json": {
       "config": {
        "plotlyServerURL": "https://plot.ly"
       },
       "data": [
        {
         "line": {
          "color": "black"
         },
         "mode": "lines+markers",
         "name": "price",
         "type": "scatter",
         "x": [
          "2025-01-02T00:00:00.000000000",
          "2025-01-03T00:00:00.000000000",
          "2025-01-06T00:00:00.000000000",
          "2025-01-07T00:00:00.000000000",
          "2025-01-08T00:00:00.000000000",
          "2025-01-09T00:00:00.000000000",
          "2025-01-10T00:00:00.000000000",
          "2025-01-13T00:00:00.000000000",
          "2025-01-14T00:00:00.000000000",
          "2025-01-15T00:00:00.000000000",
          "2025-01-16T00:00:00.000000000",
          "2025-01-17T00:00:00.000000000",
          "2025-01-20T00:00:00.000000000",
          "2025-01-21T00:00:00.000000000",
          "2025-01-22T00:00:00.000000000",
          "2025-01-23T00:00:00.000000000",
          "2025-01-24T00:00:00.000000000",
          "2025-01-27T00:00:00.000000000",
          "2025-01-28T00:00:00.000000000",
          "2025-01-29T00:00:00.000000000",
          "2025-01-30T00:00:00.000000000",
          "2025-01-31T00:00:00.000000000",
          "2025-02-03T00:00:00.000000000",
          "2025-02-04T00:00:00.000000000",
          "2025-02-05T00:00:00.000000000",
          "2025-02-06T00:00:00.000000000",
          "2025-02-07T00:00:00.000000000",
          "2025-02-10T00:00:00.000000000",
          "2025-02-11T00:00:00.000000000",
          "2025-02-12T00:00:00.000000000",
          "2025-02-13T00:00:00.000000000",
          "2025-02-14T00:00:00.000000000",
          "2025-02-18T00:00:00.000000000",
          "2025-02-19T00:00:00.000000000",
          "2025-02-20T00:00:00.000000000",
          "2025-02-21T00:00:00.000000000",
          "2025-02-24T00:00:00.000000000",
          "2025-02-25T00:00:00.000000000",
          "2025-02-26T00:00:00.000000000",
          "2025-02-27T00:00:00.000000000",
          "2025-02-28T00:00:00.000000000",
          "2025-03-03T00:00:00.000000000",
          "2025-03-04T00:00:00.000000000",
          "2025-03-05T00:00:00.000000000",
          "2025-03-06T00:00:00.000000000",
          "2025-03-07T00:00:00.000000000",
          "2025-03-10T00:00:00.000000000",
          "2025-03-11T00:00:00.000000000",
          "2025-03-12T00:00:00.000000000",
          "2025-03-13T00:00:00.000000000",
          "2025-03-14T00:00:00.000000000",
          "2025-03-17T00:00:00.000000000",
          "2025-03-18T00:00:00.000000000",
          "2025-03-19T00:00:00.000000000",
          "2025-03-20T00:00:00.000000000",
          "2025-03-21T00:00:00.000000000",
          "2025-03-24T00:00:00.000000000",
          "2025-03-25T00:00:00.000000000",
          "2025-03-26T00:00:00.000000000",
          "2025-03-27T00:00:00.000000000",
          "2025-03-28T00:00:00.000000000",
          "2025-03-31T00:00:00.000000000",
          "2025-04-01T00:00:00.000000000",
          "2025-04-02T00:00:00.000000000",
          "2025-04-03T00:00:00.000000000",
          "2025-04-04T00:00:00.000000000",
          "2025-04-07T00:00:00.000000000",
          "2025-04-08T00:00:00.000000000",
          "2025-04-09T00:00:00.000000000",
          "2025-04-10T00:00:00.000000000",
          "2025-04-11T00:00:00.000000000",
          "2025-04-14T00:00:00.000000000",
          "2025-04-15T00:00:00.000000000",
          "2025-04-16T00:00:00.000000000",
          "2025-04-17T00:00:00.000000000",
          "2025-04-21T00:00:00.000000000",
          "2025-04-22T00:00:00.000000000",
          "2025-04-23T00:00:00.000000000",
          "2025-04-24T00:00:00.000000000",
          "2025-04-25T00:00:00.000000000",
          "2025-04-28T00:00:00.000000000",
          "2025-04-29T00:00:00.000000000",
          "2025-04-30T00:00:00.000000000",
          "2025-05-01T00:00:00.000000000",
          "2025-05-02T00:00:00.000000000",
          "2025-05-05T00:00:00.000000000",
          "2025-05-06T00:00:00.000000000",
          "2025-05-07T00:00:00.000000000",
          "2025-05-08T00:00:00.000000000",
          "2025-05-09T00:00:00.000000000",
          "2025-05-12T00:00:00.000000000",
          "2025-05-13T00:00:00.000000000",
          "2025-05-14T00:00:00.000000000",
          "2025-05-15T00:00:00.000000000",
          "2025-05-16T00:00:00.000000000",
          "2025-05-20T00:00:00.000000000",
          "2025-05-21T00:00:00.000000000",
          "2025-05-22T00:00:00.000000000",
          "2025-05-23T00:00:00.000000000",
          "2025-05-26T00:00:00.000000000",
          "2025-05-27T00:00:00.000000000",
          "2025-05-28T00:00:00.000000000",
          "2025-05-29T00:00:00.000000000",
          "2025-05-30T00:00:00.000000000",
          "2025-06-02T00:00:00.000000000",
          "2025-06-03T00:00:00.000000000",
          "2025-06-04T00:00:00.000000000",
          "2025-06-05T00:00:00.000000000",
          "2025-06-06T00:00:00.000000000",
          "2025-06-09T00:00:00.000000000",
          "2025-06-10T00:00:00.000000000",
          "2025-06-11T00:00:00.000000000",
          "2025-06-12T00:00:00.000000000",
          "2025-06-13T00:00:00.000000000",
          "2025-06-16T00:00:00.000000000",
          "2025-06-17T00:00:00.000000000",
          "2025-06-18T00:00:00.000000000",
          "2025-06-19T00:00:00.000000000",
          "2025-06-20T00:00:00.000000000",
          "2025-06-23T00:00:00.000000000",
          "2025-06-24T00:00:00.000000000",
          "2025-06-25T00:00:00.000000000",
          "2025-06-26T00:00:00.000000000",
          "2025-06-27T00:00:00.000000000",
          "2025-06-30T00:00:00.000000000",
          "2025-07-02T00:00:00.000000000",
          "2025-07-03T00:00:00.000000000",
          "2025-07-04T00:00:00.000000000",
          "2025-07-07T00:00:00.000000000",
          "2025-07-08T00:00:00.000000000",
          "2025-07-09T00:00:00.000000000",
          "2025-07-10T00:00:00.000000000",
          "2025-07-11T00:00:00.000000000",
          "2025-07-14T00:00:00.000000000",
          "2025-07-15T00:00:00.000000000",
          "2025-07-16T00:00:00.000000000",
          "2025-07-17T00:00:00.000000000",
          "2025-07-18T00:00:00.000000000",
          "2025-07-21T00:00:00.000000000",
          "2025-07-22T00:00:00.000000000",
          "2025-07-23T00:00:00.000000000",
          "2025-07-24T00:00:00.000000000",
          "2025-07-25T00:00:00.000000000",
          "2025-07-28T00:00:00.000000000",
          "2025-07-29T00:00:00.000000000",
          "2025-07-30T00:00:00.000000000",
          "2025-07-31T00:00:00.000000000",
          "2025-08-01T00:00:00.000000000",
          "2025-08-05T00:00:00.000000000",
          "2025-08-06T00:00:00.000000000",
          "2025-08-07T00:00:00.000000000",
          "2025-08-08T00:00:00.000000000",
          "2025-08-11T00:00:00.000000000",
          "2025-08-12T00:00:00.000000000",
          "2025-08-13T00:00:00.000000000",
          "2025-08-14T00:00:00.000000000",
          "2025-08-15T00:00:00.000000000",
          "2025-08-18T00:00:00.000000000",
          "2025-08-19T00:00:00.000000000",
          "2025-08-20T00:00:00.000000000",
          "2025-08-21T00:00:00.000000000",
          "2025-08-22T00:00:00.000000000",
          "2025-08-25T00:00:00.000000000",
          "2025-08-26T00:00:00.000000000",
          "2025-08-27T00:00:00.000000000",
          "2025-08-28T00:00:00.000000000",
          "2025-08-29T00:00:00.000000000",
          "2025-09-02T00:00:00.000000000",
          "2025-09-03T00:00:00.000000000",
          "2025-09-04T00:00:00.000000000",
          "2025-09-05T00:00:00.000000000",
          "2025-09-08T00:00:00.000000000",
          "2025-09-09T00:00:00.000000000",
          "2025-09-10T00:00:00.000000000",
          "2025-09-11T00:00:00.000000000",
          "2025-09-12T00:00:00.000000000",
          "2025-09-15T00:00:00.000000000",
          "2025-09-16T00:00:00.000000000",
          "2025-09-17T00:00:00.000000000",
          "2025-09-18T00:00:00.000000000",
          "2025-09-19T00:00:00.000000000",
          "2025-09-22T00:00:00.000000000",
          "2025-09-23T00:00:00.000000000",
          "2025-09-24T00:00:00.000000000",
          "2025-09-25T00:00:00.000000000",
          "2025-09-26T00:00:00.000000000",
          "2025-09-29T00:00:00.000000000",
          "2025-09-30T00:00:00.000000000",
          "2025-10-01T00:00:00.000000000",
          "2025-10-02T00:00:00.000000000",
          "2025-10-03T00:00:00.000000000",
          "2025-10-06T00:00:00.000000000",
          "2025-10-07T00:00:00.000000000",
          "2025-10-08T00:00:00.000000000",
          "2025-10-09T00:00:00.000000000",
          "2025-10-10T00:00:00.000000000"
         ],
         "y": {
          "bdata": "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",
          "dtype": "f8"
         },
         "yaxis": "y"
        },
        {
         "line": {
          "color": "red"
         },
         "mode": "lines",
         "name": "rolling_avg",
         "type": "scatter",
         "x": [
          "2025-01-02T00:00:00.000000000",
          "2025-01-03T00:00:00.000000000",
          "2025-01-06T00:00:00.000000000",
          "2025-01-07T00:00:00.000000000",
          "2025-01-08T00:00:00.000000000",
          "2025-01-09T00:00:00.000000000",
          "2025-01-10T00:00:00.000000000",
          "2025-01-13T00:00:00.000000000",
          "2025-01-14T00:00:00.000000000",
          "2025-01-15T00:00:00.000000000",
          "2025-01-16T00:00:00.000000000",
          "2025-01-17T00:00:00.000000000",
          "2025-01-20T00:00:00.000000000",
          "2025-01-21T00:00:00.000000000",
          "2025-01-22T00:00:00.000000000",
          "2025-01-23T00:00:00.000000000",
          "2025-01-24T00:00:00.000000000",
          "2025-01-27T00:00:00.000000000",
          "2025-01-28T00:00:00.000000000",
          "2025-01-29T00:00:00.000000000",
          "2025-01-30T00:00:00.000000000",
          "2025-01-31T00:00:00.000000000",
          "2025-02-03T00:00:00.000000000",
          "2025-02-04T00:00:00.000000000",
          "2025-02-05T00:00:00.000000000",
          "2025-02-06T00:00:00.000000000",
          "2025-02-07T00:00:00.000000000",
          "2025-02-10T00:00:00.000000000",
          "2025-02-11T00:00:00.000000000",
          "2025-02-12T00:00:00.000000000",
          "2025-02-13T00:00:00.000000000",
          "2025-02-14T00:00:00.000000000",
          "2025-02-18T00:00:00.000000000",
          "2025-02-19T00:00:00.000000000",
          "2025-02-20T00:00:00.000000000",
          "2025-02-21T00:00:00.000000000",
          "2025-02-24T00:00:00.000000000",
          "2025-02-25T00:00:00.000000000",
          "2025-02-26T00:00:00.000000000",
          "2025-02-27T00:00:00.000000000",
          "2025-02-28T00:00:00.000000000",
          "2025-03-03T00:00:00.000000000",
          "2025-03-04T00:00:00.000000000",
          "2025-03-05T00:00:00.000000000",
          "2025-03-06T00:00:00.000000000",
          "2025-03-07T00:00:00.000000000",
          "2025-03-10T00:00:00.000000000",
          "2025-03-11T00:00:00.000000000",
          "2025-03-12T00:00:00.000000000",
          "2025-03-13T00:00:00.000000000",
          "2025-03-14T00:00:00.000000000",
          "2025-03-17T00:00:00.000000000",
          "2025-03-18T00:00:00.000000000",
          "2025-03-19T00:00:00.000000000",
          "2025-03-20T00:00:00.000000000",
          "2025-03-21T00:00:00.000000000",
          "2025-03-24T00:00:00.000000000",
          "2025-03-25T00:00:00.000000000",
          "2025-03-26T00:00:00.000000000",
          "2025-03-27T00:00:00.000000000",
          "2025-03-28T00:00:00.000000000",
          "2025-03-31T00:00:00.000000000",
          "2025-04-01T00:00:00.000000000",
          "2025-04-02T00:00:00.000000000",
          "2025-04-03T00:00:00.000000000",
          "2025-04-04T00:00:00.000000000",
          "2025-04-07T00:00:00.000000000",
          "2025-04-08T00:00:00.000000000",
          "2025-04-09T00:00:00.000000000",
          "2025-04-10T00:00:00.000000000",
          "2025-04-11T00:00:00.000000000",
          "2025-04-14T00:00:00.000000000",
          "2025-04-15T00:00:00.000000000",
          "2025-04-16T00:00:00.000000000",
          "2025-04-17T00:00:00.000000000",
          "2025-04-21T00:00:00.000000000",
          "2025-04-22T00:00:00.000000000",
          "2025-04-23T00:00:00.000000000",
          "2025-04-24T00:00:00.000000000",
          "2025-04-25T00:00:00.000000000",
          "2025-04-28T00:00:00.000000000",
          "2025-04-29T00:00:00.000000000",
          "2025-04-30T00:00:00.000000000",
          "2025-05-01T00:00:00.000000000",
          "2025-05-02T00:00:00.000000000",
          "2025-05-05T00:00:00.000000000",
          "2025-05-06T00:00:00.000000000",
          "2025-05-07T00:00:00.000000000",
          "2025-05-08T00:00:00.000000000",
          "2025-05-09T00:00:00.000000000",
          "2025-05-12T00:00:00.000000000",
          "2025-05-13T00:00:00.000000000",
          "2025-05-14T00:00:00.000000000",
          "2025-05-15T00:00:00.000000000",
          "2025-05-16T00:00:00.000000000",
          "2025-05-20T00:00:00.000000000",
          "2025-05-21T00:00:00.000000000",
          "2025-05-22T00:00:00.000000000",
          "2025-05-23T00:00:00.000000000",
          "2025-05-26T00:00:00.000000000",
          "2025-05-27T00:00:00.000000000",
          "2025-05-28T00:00:00.000000000",
          "2025-05-29T00:00:00.000000000",
          "2025-05-30T00:00:00.000000000",
          "2025-06-02T00:00:00.000000000",
          "2025-06-03T00:00:00.000000000",
          "2025-06-04T00:00:00.000000000",
          "2025-06-05T00:00:00.000000000",
          "2025-06-06T00:00:00.000000000",
          "2025-06-09T00:00:00.000000000",
          "2025-06-10T00:00:00.000000000",
          "2025-06-11T00:00:00.000000000",
          "2025-06-12T00:00:00.000000000",
          "2025-06-13T00:00:00.000000000",
          "2025-06-16T00:00:00.000000000",
          "2025-06-17T00:00:00.000000000",
          "2025-06-18T00:00:00.000000000",
          "2025-06-19T00:00:00.000000000",
          "2025-06-20T00:00:00.000000000",
          "2025-06-23T00:00:00.000000000",
          "2025-06-24T00:00:00.000000000",
          "2025-06-25T00:00:00.000000000",
          "2025-06-26T00:00:00.000000000",
          "2025-06-27T00:00:00.000000000",
          "2025-06-30T00:00:00.000000000",
          "2025-07-02T00:00:00.000000000",
          "2025-07-03T00:00:00.000000000",
          "2025-07-04T00:00:00.000000000",
          "2025-07-07T00:00:00.000000000",
          "2025-07-08T00:00:00.000000000",
          "2025-07-09T00:00:00.000000000",
          "2025-07-10T00:00:00.000000000",
          "2025-07-11T00:00:00.000000000",
          "2025-07-14T00:00:00.000000000",
          "2025-07-15T00:00:00.000000000",
          "2025-07-16T00:00:00.000000000",
          "2025-07-17T00:00:00.000000000",
          "2025-07-18T00:00:00.000000000",
          "2025-07-21T00:00:00.000000000",
          "2025-07-22T00:00:00.000000000",
          "2025-07-23T00:00:00.000000000",
          "2025-07-24T00:00:00.000000000",
          "2025-07-25T00:00:00.000000000",
          "2025-07-28T00:00:00.000000000",
          "2025-07-29T00:00:00.000000000",
          "2025-07-30T00:00:00.000000000",
          "2025-07-31T00:00:00.000000000",
          "2025-08-01T00:00:00.000000000",
          "2025-08-05T00:00:00.000000000",
          "2025-08-06T00:00:00.000000000",
          "2025-08-07T00:00:00.000000000",
          "2025-08-08T00:00:00.000000000",
          "2025-08-11T00:00:00.000000000",
          "2025-08-12T00:00:00.000000000",
          "2025-08-13T00:00:00.000000000",
          "2025-08-14T00:00:00.000000000",
          "2025-08-15T00:00:00.000000000",
          "2025-08-18T00:00:00.000000000",
          "2025-08-19T00:00:00.000000000",
          "2025-08-20T00:00:00.000000000",
          "2025-08-21T00:00:00.000000000",
          "2025-08-22T00:00:00.000000000",
          "2025-08-25T00:00:00.000000000",
          "2025-08-26T00:00:00.000000000",
          "2025-08-27T00:00:00.000000000",
          "2025-08-28T00:00:00.000000000",
          "2025-08-29T00:00:00.000000000",
          "2025-09-02T00:00:00.000000000",
          "2025-09-03T00:00:00.000000000",
          "2025-09-04T00:00:00.000000000",
          "2025-09-05T00:00:00.000000000",
          "2025-09-08T00:00:00.000000000",
          "2025-09-09T00:00:00.000000000",
          "2025-09-10T00:00:00.000000000",
          "2025-09-11T00:00:00.000000000",
          "2025-09-12T00:00:00.000000000",
          "2025-09-15T00:00:00.000000000",
          "2025-09-16T00:00:00.000000000",
          "2025-09-17T00:00:00.000000000",
          "2025-09-18T00:00:00.000000000",
          "2025-09-19T00:00:00.000000000",
          "2025-09-22T00:00:00.000000000",
          "2025-09-23T00:00:00.000000000",
          "2025-09-24T00:00:00.000000000",
          "2025-09-25T00:00:00.000000000",
          "2025-09-26T00:00:00.000000000",
          "2025-09-29T00:00:00.000000000",
          "2025-09-30T00:00:00.000000000",
          "2025-10-01T00:00:00.000000000",
          "2025-10-02T00:00:00.000000000",
          "2025-10-03T00:00:00.000000000",
          "2025-10-06T00:00:00.000000000",
          "2025-10-07T00:00:00.000000000",
          "2025-10-08T00:00:00.000000000",
          "2025-10-09T00:00:00.000000000",
          "2025-10-10T00:00:00.000000000"
         ],
         "y": {
          "bdata": "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",
          "dtype": "f8"
         },
         "yaxis": "y"
        }
       ],
       "layout": {
        "legend": {
         "x": 0.01,
         "y": 0.99
        },
        "template": {
         "data": {
          "bar": [
           {
            "error_x": {
             "color": "#2a3f5f"
            },
            "error_y": {
             "color": "#2a3f5f"
            },
            "marker": {
             "line": {
              "color": "#E5ECF6",
              "width": 0.5
             },
             "pattern": {
              "fillmode": "overlay",
              "size": 10,
              "solidity": 0.2
             }
            },
            "type": "bar"
           }
          ],
          "barpolar": [
           {
            "marker": {
             "line": {
              "color": "#E5ECF6",
              "width": 0.5
             },
             "pattern": {
              "fillmode": "overlay",
              "size": 10,
              "solidity": 0.2
             }
            },
            "type": "barpolar"
           }
          ],
          "carpet": [
           {
            "aaxis": {
             "endlinecolor": "#2a3f5f",
             "gridcolor": "white",
             "linecolor": "white",
             "minorgridcolor": "white",
             "startlinecolor": "#2a3f5f"
            },
            "baxis": {
             "endlinecolor": "#2a3f5f",
             "gridcolor": "white",
             "linecolor": "white",
             "minorgridcolor": "white",
             "startlinecolor": "#2a3f5f"
            },
            "type": "carpet"
           }
          ],
          "choropleth": [
           {
            "colorbar": {
             "outlinewidth": 0,
             "ticks": ""
            },
            "type": "choropleth"
           }
          ],
          "contour": [
           {
            "colorbar": {
             "outlinewidth": 0,
             "ticks": ""
            },
            "colorscale": [
             [
              0,
              "#0d0887"
             ],
             [
              0.1111111111111111,
              "#46039f"
             ],
             [
              0.2222222222222222,
              "#7201a8"
             ],
             [
              0.3333333333333333,
              "#9c179e"
             ],
             [
              0.4444444444444444,
              "#bd3786"
             ],
             [
              0.5555555555555556,
              "#d8576b"
             ],
             [
              0.6666666666666666,
              "#ed7953"
             ],
             [
              0.7777777777777778,
              "#fb9f3a"
             ],
             [
              0.8888888888888888,
              "#fdca26"
             ],
             [
              1,
              "#f0f921"
             ]
            ],
            "type": "contour"
           }
          ],
          "contourcarpet": [
           {
            "colorbar": {
             "outlinewidth": 0,
             "ticks": ""
            },
            "type": "contourcarpet"
           }
          ],
          "heatmap": [
           {
            "colorbar": {
             "outlinewidth": 0,
             "ticks": ""
            },
            "colorscale": [
             [
              0,
              "#0d0887"
             ],
             [
              0.1111111111111111,
              "#46039f"
             ],
             [
              0.2222222222222222,
              "#7201a8"
             ],
             [
              0.3333333333333333,
              "#9c179e"
             ],
             [
              0.4444444444444444,
              "#bd3786"
             ],
             [
              0.5555555555555556,
              "#d8576b"
             ],
             [
              0.6666666666666666,
              "#ed7953"
             ],
             [
              0.7777777777777778,
              "#fb9f3a"
             ],
             [
              0.8888888888888888,
              "#fdca26"
             ],
             [
              1,
              "#f0f921"
             ]
            ],
            "type": "heatmap"
           }
          ],
          "histogram": [
           {
            "marker": {
             "pattern": {
              "fillmode": "overlay",
              "size": 10,
              "solidity": 0.2
             }
            },
            "type": "histogram"
           }
          ],
          "histogram2d": [
           {
            "colorbar": {
             "outlinewidth": 0,
             "ticks": ""
            },
            "colorscale": [
             [
              0,
              "#0d0887"
             ],
             [
              0.1111111111111111,
              "#46039f"
             ],
             [
              0.2222222222222222,
              "#7201a8"
             ],
             [
              0.3333333333333333,
              "#9c179e"
             ],
             [
              0.4444444444444444,
              "#bd3786"
             ],
             [
              0.5555555555555556,
              "#d8576b"
             ],
             [
              0.6666666666666666,
              "#ed7953"
             ],
             [
              0.7777777777777778,
              "#fb9f3a"
             ],
             [
              0.8888888888888888,
              "#fdca26"
             ],
             [
              1,
              "#f0f921"
             ]
            ],
            "type": "histogram2d"
           }
          ],
          "histogram2dcontour": [
           {
            "colorbar": {
             "outlinewidth": 0,
             "ticks": ""
            },
            "colorscale": [
             [
              0,
              "#0d0887"
             ],
             [
              0.1111111111111111,
              "#46039f"
             ],
             [
              0.2222222222222222,
              "#7201a8"
             ],
             [
              0.3333333333333333,
              "#9c179e"
             ],
             [
              0.4444444444444444,
              "#bd3786"
             ],
             [
              0.5555555555555556,
              "#d8576b"
             ],
             [
              0.6666666666666666,
              "#ed7953"
             ],
             [
              0.7777777777777778,
              "#fb9f3a"
             ],
             [
              0.8888888888888888,
              "#fdca26"
             ],
             [
              1,
              "#f0f921"
             ]
            ],
            "type": "histogram2dcontour"
           }
          ],
          "mesh3d": [
           {
            "colorbar": {
             "outlinewidth": 0,
             "ticks": ""
            },
            "type": "mesh3d"
           }
          ],
          "parcoords": [
           {
            "line": {
             "colorbar": {
              "outlinewidth": 0,
              "ticks": ""
             }
            },
            "type": "parcoords"
           }
          ],
          "pie": [
           {
            "automargin": true,
            "type": "pie"
           }
          ],
          "scatter": [
           {
            "fillpattern": {
             "fillmode": "overlay",
             "size": 10,
             "solidity": 0.2
            },
            "type": "scatter"
           }
          ],
          "scatter3d": [
           {
            "line": {
             "colorbar": {
              "outlinewidth": 0,
              "ticks": ""
             }
            },
            "marker": {
             "colorbar": {
              "outlinewidth": 0,
              "ticks": ""
             }
            },
            "type": "scatter3d"
           }
          ],
          "scattercarpet": [
           {
            "marker": {
             "colorbar": {
              "outlinewidth": 0,
              "ticks": ""
             }
            },
            "type": "scattercarpet"
           }
          ],
          "scattergeo": [
           {
            "marker": {
             "colorbar": {
              "outlinewidth": 0,
              "ticks": ""
             }
            },
            "type": "scattergeo"
           }
          ],
          "scattergl": [
           {
            "marker": {
             "colorbar": {
              "outlinewidth": 0,
              "ticks": ""
             }
            },
            "type": "scattergl"
           }
          ],
          "scattermap": [
           {
            "marker": {
             "colorbar": {
              "outlinewidth": 0,
              "ticks": ""
             }
            },
            "type": "scattermap"
           }
          ],
          "scattermapbox": [
           {
            "marker": {
             "colorbar": {
              "outlinewidth": 0,
              "ticks": ""
             }
            },
            "type": "scattermapbox"
           }
          ],
          "scatterpolar": [
           {
            "marker": {
             "colorbar": {
              "outlinewidth": 0,
              "ticks": ""
             }
            },
            "type": "scatterpolar"
           }
          ],
          "scatterpolargl": [
           {
            "marker": {
             "colorbar": {
              "outlinewidth": 0,
              "ticks": ""
             }
            },
            "type": "scatterpolargl"
           }
          ],
          "scatterternary": [
           {
            "marker": {
             "colorbar": {
              "outlinewidth": 0,
              "ticks": ""
             }
            },
            "type": "scatterternary"
           }
          ],
          "surface": [
           {
            "colorbar": {
             "outlinewidth": 0,
             "ticks": ""
            },
            "colorscale": [
             [
              0,
              "#0d0887"
             ],
             [
              0.1111111111111111,
              "#46039f"
             ],
             [
              0.2222222222222222,
              "#7201a8"
             ],
             [
              0.3333333333333333,
              "#9c179e"
             ],
             [
              0.4444444444444444,
              "#bd3786"
             ],
             [
              0.5555555555555556,
              "#d8576b"
             ],
             [
              0.6666666666666666,
              "#ed7953"
             ],
             [
              0.7777777777777778,
              "#fb9f3a"
             ],
             [
              0.8888888888888888,
              "#fdca26"
             ],
             [
              1,
              "#f0f921"
             ]
            ],
            "type": "surface"
           }
          ],
          "table": [
           {
            "cells": {
             "fill": {
              "color": "#EBF0F8"
             },
             "line": {
              "color": "white"
             }
            },
            "header": {
             "fill": {
              "color": "#C8D4E3"
             },
             "line": {
              "color": "white"
             }
            },
            "type": "table"
           }
          ]
         },
         "layout": {
          "annotationdefaults": {
           "arrowcolor": "#2a3f5f",
           "arrowhead": 0,
           "arrowwidth": 1
          },
          "autotypenumbers": "strict",
          "coloraxis": {
           "colorbar": {
            "outlinewidth": 0,
            "ticks": ""
           }
          },
          "colorscale": {
           "diverging": [
            [
             0,
             "#8e0152"
            ],
            [
             0.1,
             "#c51b7d"
            ],
            [
             0.2,
             "#de77ae"
            ],
            [
             0.3,
             "#f1b6da"
            ],
            [
             0.4,
             "#fde0ef"
            ],
            [
             0.5,
             "#f7f7f7"
            ],
            [
             0.6,
             "#e6f5d0"
            ],
            [
             0.7,
             "#b8e186"
            ],
            [
             0.8,
             "#7fbc41"
            ],
            [
             0.9,
             "#4d9221"
            ],
            [
             1,
             "#276419"
            ]
           ],
           "sequential": [
            [
             0,
             "#0d0887"
            ],
            [
             0.1111111111111111,
             "#46039f"
            ],
            [
             0.2222222222222222,
             "#7201a8"
            ],
            [
             0.3333333333333333,
             "#9c179e"
            ],
            [
             0.4444444444444444,
             "#bd3786"
            ],
            [
             0.5555555555555556,
             "#d8576b"
            ],
            [
             0.6666666666666666,
             "#ed7953"
            ],
            [
             0.7777777777777778,
             "#fb9f3a"
            ],
            [
             0.8888888888888888,
             "#fdca26"
            ],
            [
             1,
             "#f0f921"
            ]
           ],
           "sequentialminus": [
            [
             0,
             "#0d0887"
            ],
            [
             0.1111111111111111,
             "#46039f"
            ],
            [
             0.2222222222222222,
             "#7201a8"
            ],
            [
             0.3333333333333333,
             "#9c179e"
            ],
            [
             0.4444444444444444,
             "#bd3786"
            ],
            [
             0.5555555555555556,
             "#d8576b"
            ],
            [
             0.6666666666666666,
             "#ed7953"
            ],
            [
             0.7777777777777778,
             "#fb9f3a"
            ],
            [
             0.8888888888888888,
             "#fdca26"
            ],
            [
             1,
             "#f0f921"
            ]
           ]
          },
          "colorway": [
           "#636efa",
           "#EF553B",
           "#00cc96",
           "#ab63fa",
           "#FFA15A",
           "#19d3f3",
           "#FF6692",
           "#B6E880",
           "#FF97FF",
           "#FECB52"
          ],
          "font": {
           "color": "#2a3f5f"
          },
          "geo": {
           "bgcolor": "white",
           "lakecolor": "white",
           "landcolor": "#E5ECF6",
           "showlakes": true,
           "showland": true,
           "subunitcolor": "white"
          },
          "hoverlabel": {
           "align": "left"
          },
          "hovermode": "closest",
          "mapbox": {
           "style": "light"
          },
          "paper_bgcolor": "white",
          "plot_bgcolor": "#E5ECF6",
          "polar": {
           "angularaxis": {
            "gridcolor": "white",
            "linecolor": "white",
            "ticks": ""
           },
           "bgcolor": "#E5ECF6",
           "radialaxis": {
            "gridcolor": "white",
            "linecolor": "white",
            "ticks": ""
           }
          },
          "scene": {
           "xaxis": {
            "backgroundcolor": "#E5ECF6",
            "gridcolor": "white",
            "gridwidth": 2,
            "linecolor": "white",
            "showbackground": true,
            "ticks": "",
            "zerolinecolor": "white"
           },
           "yaxis": {
            "backgroundcolor": "#E5ECF6",
            "gridcolor": "white",
            "gridwidth": 2,
            "linecolor": "white",
            "showbackground": true,
            "ticks": "",
            "zerolinecolor": "white"
           },
           "zaxis": {
            "backgroundcolor": "#E5ECF6",
            "gridcolor": "white",
            "gridwidth": 2,
            "linecolor": "white",
            "showbackground": true,
            "ticks": "",
            "zerolinecolor": "white"
           }
          },
          "shapedefaults": {
           "line": {
            "color": "#2a3f5f"
           }
          },
          "ternary": {
           "aaxis": {
            "gridcolor": "white",
            "linecolor": "white",
            "ticks": ""
           },
           "baxis": {
            "gridcolor": "white",
            "linecolor": "white",
            "ticks": ""
           },
           "bgcolor": "#E5ECF6",
           "caxis": {
            "gridcolor": "white",
            "linecolor": "white",
            "ticks": ""
           }
          },
          "title": {
           "x": 0.05
          },
          "xaxis": {
           "automargin": true,
           "gridcolor": "white",
           "linecolor": "white",
           "ticks": "",
           "title": {
            "standoff": 15
           },
           "zerolinecolor": "white",
           "zerolinewidth": 2
          },
          "yaxis": {
           "automargin": true,
           "gridcolor": "white",
           "linecolor": "white",
           "ticks": "",
           "title": {
            "standoff": 15
           },
           "zerolinecolor": "white",
           "zerolinewidth": 2
          }
         }
        },
        "title": {
         "text": "Stock: TOU.TO"
        },
        "xaxis": {
         "title": {
          "text": "Date"
         }
        },
        "yaxis": {
         "side": "left",
         "title": {
          "text": "Prices"
         }
        }
       }
      }
     },
     "metadata": {},
     "output_type": "display_data"
    }
   ],
   "source": [
    "# Get rolling average\n",
    "df['rolling_avg'] = df['close'].rolling(window=15).mean()\n",
    "\n",
    "df_plot = df.copy()\n",
    "\n",
    "df_plot = df[df['date'] > '2025-01-01']\n",
    "\n",
    "# visualize prices\n",
    "import plotly.graph_objects as go\n",
    "\n",
    "fig = go.Figure()\n",
    "\n",
    "fig.add_trace(go.Scatter(\n",
    "    x = df_plot['date'], y = df_plot['close'],\n",
    "    name = 'price',\n",
    "    yaxis = 'y1',\n",
    "    mode = 'lines+markers',\n",
    "    line = dict(color='black')\n",
    "\n",
    "))\n",
    "\n",
    "fig.add_trace(go.Scatter(\n",
    "    x = df_plot['date'], y = df_plot['rolling_avg'],\n",
    "    name = 'rolling_avg',\n",
    "    yaxis = 'y1',\n",
    "    mode = 'lines',\n",
    "    line = dict(color='red')\n",
    "\n",
    "))\n",
    "\n",
    "\n",
    "\n",
    "# Layout with multiple y-axes\n",
    "fig.update_layout(\n",
    "    title=f'Stock: {symbol}',\n",
    "    xaxis=dict(title='Date'),\n",
    "    yaxis=dict(title='Prices', side='left'),\n",
    "    legend=dict(x=0.01, y=0.99)\n",
    ")\n",
    "\n",
    "fig.show()\n"
   ]
  },
  {
   "cell_type": "code",
   "execution_count": 19,
   "id": "9512dba1",
   "metadata": {},
   "outputs": [
    {
     "data": {
      "application/vnd.plotly.v1+json": {
       "config": {
        "plotlyServerURL": "https://plot.ly"
       },
       "data": [
        {
         "line": {
          "color": "black",
          "width": 2
         },
         "mode": "lines+markers",
         "name": "Price",
         "type": "scatter",
         "x": [
          "2025-01-02T00:00:00.000000000",
          "2025-01-03T00:00:00.000000000",
          "2025-01-06T00:00:00.000000000",
          "2025-01-07T00:00:00.000000000",
          "2025-01-08T00:00:00.000000000",
          "2025-01-09T00:00:00.000000000",
          "2025-01-10T00:00:00.000000000",
          "2025-01-13T00:00:00.000000000",
          "2025-01-14T00:00:00.000000000",
          "2025-01-15T00:00:00.000000000",
          "2025-01-16T00:00:00.000000000",
          "2025-01-17T00:00:00.000000000",
          "2025-01-20T00:00:00.000000000",
          "2025-01-21T00:00:00.000000000",
          "2025-01-22T00:00:00.000000000",
          "2025-01-23T00:00:00.000000000",
          "2025-01-24T00:00:00.000000000",
          "2025-01-27T00:00:00.000000000",
          "2025-01-28T00:00:00.000000000",
          "2025-01-29T00:00:00.000000000",
          "2025-01-30T00:00:00.000000000",
          "2025-01-31T00:00:00.000000000",
          "2025-02-03T00:00:00.000000000",
          "2025-02-04T00:00:00.000000000",
          "2025-02-05T00:00:00.000000000",
          "2025-02-06T00:00:00.000000000",
          "2025-02-07T00:00:00.000000000",
          "2025-02-10T00:00:00.000000000",
          "2025-02-11T00:00:00.000000000",
          "2025-02-12T00:00:00.000000000",
          "2025-02-13T00:00:00.000000000",
          "2025-02-14T00:00:00.000000000",
          "2025-02-18T00:00:00.000000000",
          "2025-02-19T00:00:00.000000000",
          "2025-02-20T00:00:00.000000000",
          "2025-02-21T00:00:00.000000000",
          "2025-02-24T00:00:00.000000000",
          "2025-02-25T00:00:00.000000000",
          "2025-02-26T00:00:00.000000000",
          "2025-02-27T00:00:00.000000000",
          "2025-02-28T00:00:00.000000000",
          "2025-03-03T00:00:00.000000000",
          "2025-03-04T00:00:00.000000000",
          "2025-03-05T00:00:00.000000000",
          "2025-03-06T00:00:00.000000000",
          "2025-03-07T00:00:00.000000000",
          "2025-03-10T00:00:00.000000000",
          "2025-03-11T00:00:00.000000000",
          "2025-03-12T00:00:00.000000000",
          "2025-03-13T00:00:00.000000000",
          "2025-03-14T00:00:00.000000000",
          "2025-03-17T00:00:00.000000000",
          "2025-03-18T00:00:00.000000000",
          "2025-03-19T00:00:00.000000000",
          "2025-03-20T00:00:00.000000000",
          "2025-03-21T00:00:00.000000000",
          "2025-03-24T00:00:00.000000000",
          "2025-03-25T00:00:00.000000000",
          "2025-03-26T00:00:00.000000000",
          "2025-03-27T00:00:00.000000000",
          "2025-03-28T00:00:00.000000000",
          "2025-03-31T00:00:00.000000000",
          "2025-04-01T00:00:00.000000000",
          "2025-04-02T00:00:00.000000000",
          "2025-04-03T00:00:00.000000000",
          "2025-04-04T00:00:00.000000000",
          "2025-04-07T00:00:00.000000000",
          "2025-04-08T00:00:00.000000000",
          "2025-04-09T00:00:00.000000000",
          "2025-04-10T00:00:00.000000000",
          "2025-04-11T00:00:00.000000000",
          "2025-04-14T00:00:00.000000000",
          "2025-04-15T00:00:00.000000000",
          "2025-04-16T00:00:00.000000000",
          "2025-04-17T00:00:00.000000000",
          "2025-04-21T00:00:00.000000000",
          "2025-04-22T00:00:00.000000000",
          "2025-04-23T00:00:00.000000000",
          "2025-04-24T00:00:00.000000000",
          "2025-04-25T00:00:00.000000000",
          "2025-04-28T00:00:00.000000000",
          "2025-04-29T00:00:00.000000000",
          "2025-04-30T00:00:00.000000000",
          "2025-05-01T00:00:00.000000000",
          "2025-05-02T00:00:00.000000000",
          "2025-05-05T00:00:00.000000000",
          "2025-05-06T00:00:00.000000000",
          "2025-05-07T00:00:00.000000000",
          "2025-05-08T00:00:00.000000000",
          "2025-05-09T00:00:00.000000000",
          "2025-05-12T00:00:00.000000000",
          "2025-05-13T00:00:00.000000000",
          "2025-05-14T00:00:00.000000000",
          "2025-05-15T00:00:00.000000000",
          "2025-05-16T00:00:00.000000000",
          "2025-05-20T00:00:00.000000000",
          "2025-05-21T00:00:00.000000000",
          "2025-05-22T00:00:00.000000000",
          "2025-05-23T00:00:00.000000000",
          "2025-05-26T00:00:00.000000000",
          "2025-05-27T00:00:00.000000000",
          "2025-05-28T00:00:00.000000000",
          "2025-05-29T00:00:00.000000000",
          "2025-05-30T00:00:00.000000000",
          "2025-06-02T00:00:00.000000000",
          "2025-06-03T00:00:00.000000000",
          "2025-06-04T00:00:00.000000000",
          "2025-06-05T00:00:00.000000000",
          "2025-06-06T00:00:00.000000000",
          "2025-06-09T00:00:00.000000000",
          "2025-06-10T00:00:00.000000000",
          "2025-06-11T00:00:00.000000000",
          "2025-06-12T00:00:00.000000000",
          "2025-06-13T00:00:00.000000000",
          "2025-06-16T00:00:00.000000000",
          "2025-06-17T00:00:00.000000000",
          "2025-06-18T00:00:00.000000000",
          "2025-06-19T00:00:00.000000000",
          "2025-06-20T00:00:00.000000000",
          "2025-06-23T00:00:00.000000000",
          "2025-06-24T00:00:00.000000000",
          "2025-06-25T00:00:00.000000000",
          "2025-06-26T00:00:00.000000000",
          "2025-06-27T00:00:00.000000000",
          "2025-06-30T00:00:00.000000000",
          "2025-07-02T00:00:00.000000000",
          "2025-07-03T00:00:00.000000000",
          "2025-07-04T00:00:00.000000000",
          "2025-07-07T00:00:00.000000000",
          "2025-07-08T00:00:00.000000000",
          "2025-07-09T00:00:00.000000000",
          "2025-07-10T00:00:00.000000000",
          "2025-07-11T00:00:00.000000000",
          "2025-07-14T00:00:00.000000000",
          "2025-07-15T00:00:00.000000000",
          "2025-07-16T00:00:00.000000000",
          "2025-07-17T00:00:00.000000000",
          "2025-07-18T00:00:00.000000000",
          "2025-07-21T00:00:00.000000000",
          "2025-07-22T00:00:00.000000000",
          "2025-07-23T00:00:00.000000000",
          "2025-07-24T00:00:00.000000000",
          "2025-07-25T00:00:00.000000000",
          "2025-07-28T00:00:00.000000000",
          "2025-07-29T00:00:00.000000000",
          "2025-07-30T00:00:00.000000000",
          "2025-07-31T00:00:00.000000000",
          "2025-08-01T00:00:00.000000000",
          "2025-08-05T00:00:00.000000000",
          "2025-08-06T00:00:00.000000000",
          "2025-08-07T00:00:00.000000000",
          "2025-08-08T00:00:00.000000000",
          "2025-08-11T00:00:00.000000000",
          "2025-08-12T00:00:00.000000000",
          "2025-08-13T00:00:00.000000000",
          "2025-08-14T00:00:00.000000000",
          "2025-08-15T00:00:00.000000000",
          "2025-08-18T00:00:00.000000000",
          "2025-08-19T00:00:00.000000000",
          "2025-08-20T00:00:00.000000000",
          "2025-08-21T00:00:00.000000000",
          "2025-08-22T00:00:00.000000000",
          "2025-08-25T00:00:00.000000000",
          "2025-08-26T00:00:00.000000000",
          "2025-08-27T00:00:00.000000000",
          "2025-08-28T00:00:00.000000000",
          "2025-08-29T00:00:00.000000000",
          "2025-09-02T00:00:00.000000000",
          "2025-09-03T00:00:00.000000000",
          "2025-09-04T00:00:00.000000000",
          "2025-09-05T00:00:00.000000000",
          "2025-09-08T00:00:00.000000000",
          "2025-09-09T00:00:00.000000000",
          "2025-09-10T00:00:00.000000000",
          "2025-09-11T00:00:00.000000000",
          "2025-09-12T00:00:00.000000000",
          "2025-09-15T00:00:00.000000000",
          "2025-09-16T00:00:00.000000000",
          "2025-09-17T00:00:00.000000000",
          "2025-09-18T00:00:00.000000000",
          "2025-09-19T00:00:00.000000000",
          "2025-09-22T00:00:00.000000000",
          "2025-09-23T00:00:00.000000000",
          "2025-09-24T00:00:00.000000000",
          "2025-09-25T00:00:00.000000000",
          "2025-09-26T00:00:00.000000000",
          "2025-09-29T00:00:00.000000000",
          "2025-09-30T00:00:00.000000000",
          "2025-10-01T00:00:00.000000000",
          "2025-10-02T00:00:00.000000000",
          "2025-10-03T00:00:00.000000000",
          "2025-10-06T00:00:00.000000000",
          "2025-10-07T00:00:00.000000000",
          "2025-10-08T00:00:00.000000000",
          "2025-10-09T00:00:00.000000000",
          "2025-10-10T00:00:00.000000000"
         ],
         "y": {
          "bdata": "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",
          "dtype": "f8"
         }
        },
        {
         "line": {
          "color": "red",
          "dash": "solid",
          "width": 1.5
         },
         "mode": "lines",
         "name": "Rolling Avg (15d)",
         "type": "scatter",
         "x": [
          "2025-01-02T00:00:00.000000000",
          "2025-01-03T00:00:00.000000000",
          "2025-01-06T00:00:00.000000000",
          "2025-01-07T00:00:00.000000000",
          "2025-01-08T00:00:00.000000000",
          "2025-01-09T00:00:00.000000000",
          "2025-01-10T00:00:00.000000000",
          "2025-01-13T00:00:00.000000000",
          "2025-01-14T00:00:00.000000000",
          "2025-01-15T00:00:00.000000000",
          "2025-01-16T00:00:00.000000000",
          "2025-01-17T00:00:00.000000000",
          "2025-01-20T00:00:00.000000000",
          "2025-01-21T00:00:00.000000000",
          "2025-01-22T00:00:00.000000000",
          "2025-01-23T00:00:00.000000000",
          "2025-01-24T00:00:00.000000000",
          "2025-01-27T00:00:00.000000000",
          "2025-01-28T00:00:00.000000000",
          "2025-01-29T00:00:00.000000000",
          "2025-01-30T00:00:00.000000000",
          "2025-01-31T00:00:00.000000000",
          "2025-02-03T00:00:00.000000000",
          "2025-02-04T00:00:00.000000000",
          "2025-02-05T00:00:00.000000000",
          "2025-02-06T00:00:00.000000000",
          "2025-02-07T00:00:00.000000000",
          "2025-02-10T00:00:00.000000000",
          "2025-02-11T00:00:00.000000000",
          "2025-02-12T00:00:00.000000000",
          "2025-02-13T00:00:00.000000000",
          "2025-02-14T00:00:00.000000000",
          "2025-02-18T00:00:00.000000000",
          "2025-02-19T00:00:00.000000000",
          "2025-02-20T00:00:00.000000000",
          "2025-02-21T00:00:00.000000000",
          "2025-02-24T00:00:00.000000000",
          "2025-02-25T00:00:00.000000000",
          "2025-02-26T00:00:00.000000000",
          "2025-02-27T00:00:00.000000000",
          "2025-02-28T00:00:00.000000000",
          "2025-03-03T00:00:00.000000000",
          "2025-03-04T00:00:00.000000000",
          "2025-03-05T00:00:00.000000000",
          "2025-03-06T00:00:00.000000000",
          "2025-03-07T00:00:00.000000000",
          "2025-03-10T00:00:00.000000000",
          "2025-03-11T00:00:00.000000000",
          "2025-03-12T00:00:00.000000000",
          "2025-03-13T00:00:00.000000000",
          "2025-03-14T00:00:00.000000000",
          "2025-03-17T00:00:00.000000000",
          "2025-03-18T00:00:00.000000000",
          "2025-03-19T00:00:00.000000000",
          "2025-03-20T00:00:00.000000000",
          "2025-03-21T00:00:00.000000000",
          "2025-03-24T00:00:00.000000000",
          "2025-03-25T00:00:00.000000000",
          "2025-03-26T00:00:00.000000000",
          "2025-03-27T00:00:00.000000000",
          "2025-03-28T00:00:00.000000000",
          "2025-03-31T00:00:00.000000000",
          "2025-04-01T00:00:00.000000000",
          "2025-04-02T00:00:00.000000000",
          "2025-04-03T00:00:00.000000000",
          "2025-04-04T00:00:00.000000000",
          "2025-04-07T00:00:00.000000000",
          "2025-04-08T00:00:00.000000000",
          "2025-04-09T00:00:00.000000000",
          "2025-04-10T00:00:00.000000000",
          "2025-04-11T00:00:00.000000000",
          "2025-04-14T00:00:00.000000000",
          "2025-04-15T00:00:00.000000000",
          "2025-04-16T00:00:00.000000000",
          "2025-04-17T00:00:00.000000000",
          "2025-04-21T00:00:00.000000000",
          "2025-04-22T00:00:00.000000000",
          "2025-04-23T00:00:00.000000000",
          "2025-04-24T00:00:00.000000000",
          "2025-04-25T00:00:00.000000000",
          "2025-04-28T00:00:00.000000000",
          "2025-04-29T00:00:00.000000000",
          "2025-04-30T00:00:00.000000000",
          "2025-05-01T00:00:00.000000000",
          "2025-05-02T00:00:00.000000000",
          "2025-05-05T00:00:00.000000000",
          "2025-05-06T00:00:00.000000000",
          "2025-05-07T00:00:00.000000000",
          "2025-05-08T00:00:00.000000000",
          "2025-05-09T00:00:00.000000000",
          "2025-05-12T00:00:00.000000000",
          "2025-05-13T00:00:00.000000000",
          "2025-05-14T00:00:00.000000000",
          "2025-05-15T00:00:00.000000000",
          "2025-05-16T00:00:00.000000000",
          "2025-05-20T00:00:00.000000000",
          "2025-05-21T00:00:00.000000000",
          "2025-05-22T00:00:00.000000000",
          "2025-05-23T00:00:00.000000000",
          "2025-05-26T00:00:00.000000000",
          "2025-05-27T00:00:00.000000000",
          "2025-05-28T00:00:00.000000000",
          "2025-05-29T00:00:00.000000000",
          "2025-05-30T00:00:00.000000000",
          "2025-06-02T00:00:00.000000000",
          "2025-06-03T00:00:00.000000000",
          "2025-06-04T00:00:00.000000000",
          "2025-06-05T00:00:00.000000000",
          "2025-06-06T00:00:00.000000000",
          "2025-06-09T00:00:00.000000000",
          "2025-06-10T00:00:00.000000000",
          "2025-06-11T00:00:00.000000000",
          "2025-06-12T00:00:00.000000000",
          "2025-06-13T00:00:00.000000000",
          "2025-06-16T00:00:00.000000000",
          "2025-06-17T00:00:00.000000000",
          "2025-06-18T00:00:00.000000000",
          "2025-06-19T00:00:00.000000000",
          "2025-06-20T00:00:00.000000000",
          "2025-06-23T00:00:00.000000000",
          "2025-06-24T00:00:00.000000000",
          "2025-06-25T00:00:00.000000000",
          "2025-06-26T00:00:00.000000000",
          "2025-06-27T00:00:00.000000000",
          "2025-06-30T00:00:00.000000000",
          "2025-07-02T00:00:00.000000000",
          "2025-07-03T00:00:00.000000000",
          "2025-07-04T00:00:00.000000000",
          "2025-07-07T00:00:00.000000000",
          "2025-07-08T00:00:00.000000000",
          "2025-07-09T00:00:00.000000000",
          "2025-07-10T00:00:00.000000000",
          "2025-07-11T00:00:00.000000000",
          "2025-07-14T00:00:00.000000000",
          "2025-07-15T00:00:00.000000000",
          "2025-07-16T00:00:00.000000000",
          "2025-07-17T00:00:00.000000000",
          "2025-07-18T00:00:00.000000000",
          "2025-07-21T00:00:00.000000000",
          "2025-07-22T00:00:00.000000000",
          "2025-07-23T00:00:00.000000000",
          "2025-07-24T00:00:00.000000000",
          "2025-07-25T00:00:00.000000000",
          "2025-07-28T00:00:00.000000000",
          "2025-07-29T00:00:00.000000000",
          "2025-07-30T00:00:00.000000000",
          "2025-07-31T00:00:00.000000000",
          "2025-08-01T00:00:00.000000000",
          "2025-08-05T00:00:00.000000000",
          "2025-08-06T00:00:00.000000000",
          "2025-08-07T00:00:00.000000000",
          "2025-08-08T00:00:00.000000000",
          "2025-08-11T00:00:00.000000000",
          "2025-08-12T00:00:00.000000000",
          "2025-08-13T00:00:00.000000000",
          "2025-08-14T00:00:00.000000000",
          "2025-08-15T00:00:00.000000000",
          "2025-08-18T00:00:00.000000000",
          "2025-08-19T00:00:00.000000000",
          "2025-08-20T00:00:00.000000000",
          "2025-08-21T00:00:00.000000000",
          "2025-08-22T00:00:00.000000000",
          "2025-08-25T00:00:00.000000000",
          "2025-08-26T00:00:00.000000000",
          "2025-08-27T00:00:00.000000000",
          "2025-08-28T00:00:00.000000000",
          "2025-08-29T00:00:00.000000000",
          "2025-09-02T00:00:00.000000000",
          "2025-09-03T00:00:00.000000000",
          "2025-09-04T00:00:00.000000000",
          "2025-09-05T00:00:00.000000000",
          "2025-09-08T00:00:00.000000000",
          "2025-09-09T00:00:00.000000000",
          "2025-09-10T00:00:00.000000000",
          "2025-09-11T00:00:00.000000000",
          "2025-09-12T00:00:00.000000000",
          "2025-09-15T00:00:00.000000000",
          "2025-09-16T00:00:00.000000000",
          "2025-09-17T00:00:00.000000000",
          "2025-09-18T00:00:00.000000000",
          "2025-09-19T00:00:00.000000000",
          "2025-09-22T00:00:00.000000000",
          "2025-09-23T00:00:00.000000000",
          "2025-09-24T00:00:00.000000000",
          "2025-09-25T00:00:00.000000000",
          "2025-09-26T00:00:00.000000000",
          "2025-09-29T00:00:00.000000000",
          "2025-09-30T00:00:00.000000000",
          "2025-10-01T00:00:00.000000000",
          "2025-10-02T00:00:00.000000000",
          "2025-10-03T00:00:00.000000000",
          "2025-10-06T00:00:00.000000000",
          "2025-10-07T00:00:00.000000000",
          "2025-10-08T00:00:00.000000000",
          "2025-10-09T00:00:00.000000000",
          "2025-10-10T00:00:00.000000000"
         ],
         "y": {
          "bdata": "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",
          "dtype": "f8"
         }
        },
        {
         "line": {
          "color": "green",
          "dash": "dot",
          "width": 1.5
         },
         "mode": "lines",
         "name": "Upper Band",
         "type": "scatter",
         "x": [
          "2025-01-02T00:00:00.000000000",
          "2025-01-03T00:00:00.000000000",
          "2025-01-06T00:00:00.000000000",
          "2025-01-07T00:00:00.000000000",
          "2025-01-08T00:00:00.000000000",
          "2025-01-09T00:00:00.000000000",
          "2025-01-10T00:00:00.000000000",
          "2025-01-13T00:00:00.000000000",
          "2025-01-14T00:00:00.000000000",
          "2025-01-15T00:00:00.000000000",
          "2025-01-16T00:00:00.000000000",
          "2025-01-17T00:00:00.000000000",
          "2025-01-20T00:00:00.000000000",
          "2025-01-21T00:00:00.000000000",
          "2025-01-22T00:00:00.000000000",
          "2025-01-23T00:00:00.000000000",
          "2025-01-24T00:00:00.000000000",
          "2025-01-27T00:00:00.000000000",
          "2025-01-28T00:00:00.000000000",
          "2025-01-29T00:00:00.000000000",
          "2025-01-30T00:00:00.000000000",
          "2025-01-31T00:00:00.000000000",
          "2025-02-03T00:00:00.000000000",
          "2025-02-04T00:00:00.000000000",
          "2025-02-05T00:00:00.000000000",
          "2025-02-06T00:00:00.000000000",
          "2025-02-07T00:00:00.000000000",
          "2025-02-10T00:00:00.000000000",
          "2025-02-11T00:00:00.000000000",
          "2025-02-12T00:00:00.000000000",
          "2025-02-13T00:00:00.000000000",
          "2025-02-14T00:00:00.000000000",
          "2025-02-18T00:00:00.000000000",
          "2025-02-19T00:00:00.000000000",
          "2025-02-20T00:00:00.000000000",
          "2025-02-21T00:00:00.000000000",
          "2025-02-24T00:00:00.000000000",
          "2025-02-25T00:00:00.000000000",
          "2025-02-26T00:00:00.000000000",
          "2025-02-27T00:00:00.000000000",
          "2025-02-28T00:00:00.000000000",
          "2025-03-03T00:00:00.000000000",
          "2025-03-04T00:00:00.000000000",
          "2025-03-05T00:00:00.000000000",
          "2025-03-06T00:00:00.000000000",
          "2025-03-07T00:00:00.000000000",
          "2025-03-10T00:00:00.000000000",
          "2025-03-11T00:00:00.000000000",
          "2025-03-12T00:00:00.000000000",
          "2025-03-13T00:00:00.000000000",
          "2025-03-14T00:00:00.000000000",
          "2025-03-17T00:00:00.000000000",
          "2025-03-18T00:00:00.000000000",
          "2025-03-19T00:00:00.000000000",
          "2025-03-20T00:00:00.000000000",
          "2025-03-21T00:00:00.000000000",
          "2025-03-24T00:00:00.000000000",
          "2025-03-25T00:00:00.000000000",
          "2025-03-26T00:00:00.000000000",
          "2025-03-27T00:00:00.000000000",
          "2025-03-28T00:00:00.000000000",
          "2025-03-31T00:00:00.000000000",
          "2025-04-01T00:00:00.000000000",
          "2025-04-02T00:00:00.000000000",
          "2025-04-03T00:00:00.000000000",
          "2025-04-04T00:00:00.000000000",
          "2025-04-07T00:00:00.000000000",
          "2025-04-08T00:00:00.000000000",
          "2025-04-09T00:00:00.000000000",
          "2025-04-10T00:00:00.000000000",
          "2025-04-11T00:00:00.000000000",
          "2025-04-14T00:00:00.000000000",
          "2025-04-15T00:00:00.000000000",
          "2025-04-16T00:00:00.000000000",
          "2025-04-17T00:00:00.000000000",
          "2025-04-21T00:00:00.000000000",
          "2025-04-22T00:00:00.000000000",
          "2025-04-23T00:00:00.000000000",
          "2025-04-24T00:00:00.000000000",
          "2025-04-25T00:00:00.000000000",
          "2025-04-28T00:00:00.000000000",
          "2025-04-29T00:00:00.000000000",
          "2025-04-30T00:00:00.000000000",
          "2025-05-01T00:00:00.000000000",
          "2025-05-02T00:00:00.000000000",
          "2025-05-05T00:00:00.000000000",
          "2025-05-06T00:00:00.000000000",
          "2025-05-07T00:00:00.000000000",
          "2025-05-08T00:00:00.000000000",
          "2025-05-09T00:00:00.000000000",
          "2025-05-12T00:00:00.000000000",
          "2025-05-13T00:00:00.000000000",
          "2025-05-14T00:00:00.000000000",
          "2025-05-15T00:00:00.000000000",
          "2025-05-16T00:00:00.000000000",
          "2025-05-20T00:00:00.000000000",
          "2025-05-21T00:00:00.000000000",
          "2025-05-22T00:00:00.000000000",
          "2025-05-23T00:00:00.000000000",
          "2025-05-26T00:00:00.000000000",
          "2025-05-27T00:00:00.000000000",
          "2025-05-28T00:00:00.000000000",
          "2025-05-29T00:00:00.000000000",
          "2025-05-30T00:00:00.000000000",
          "2025-06-02T00:00:00.000000000",
          "2025-06-03T00:00:00.000000000",
          "2025-06-04T00:00:00.000000000",
          "2025-06-05T00:00:00.000000000",
          "2025-06-06T00:00:00.000000000",
          "2025-06-09T00:00:00.000000000",
          "2025-06-10T00:00:00.000000000",
          "2025-06-11T00:00:00.000000000",
          "2025-06-12T00:00:00.000000000",
          "2025-06-13T00:00:00.000000000",
          "2025-06-16T00:00:00.000000000",
          "2025-06-17T00:00:00.000000000",
          "2025-06-18T00:00:00.000000000",
          "2025-06-19T00:00:00.000000000",
          "2025-06-20T00:00:00.000000000",
          "2025-06-23T00:00:00.000000000",
          "2025-06-24T00:00:00.000000000",
          "2025-06-25T00:00:00.000000000",
          "2025-06-26T00:00:00.000000000",
          "2025-06-27T00:00:00.000000000",
          "2025-06-30T00:00:00.000000000",
          "2025-07-02T00:00:00.000000000",
          "2025-07-03T00:00:00.000000000",
          "2025-07-04T00:00:00.000000000",
          "2025-07-07T00:00:00.000000000",
          "2025-07-08T00:00:00.000000000",
          "2025-07-09T00:00:00.000000000",
          "2025-07-10T00:00:00.000000000",
          "2025-07-11T00:00:00.000000000",
          "2025-07-14T00:00:00.000000000",
          "2025-07-15T00:00:00.000000000",
          "2025-07-16T00:00:00.000000000",
          "2025-07-17T00:00:00.000000000",
          "2025-07-18T00:00:00.000000000",
          "2025-07-21T00:00:00.000000000",
          "2025-07-22T00:00:00.000000000",
          "2025-07-23T00:00:00.000000000",
          "2025-07-24T00:00:00.000000000",
          "2025-07-25T00:00:00.000000000",
          "2025-07-28T00:00:00.000000000",
          "2025-07-29T00:00:00.000000000",
          "2025-07-30T00:00:00.000000000",
          "2025-07-31T00:00:00.000000000",
          "2025-08-01T00:00:00.000000000",
          "2025-08-05T00:00:00.000000000",
          "2025-08-06T00:00:00.000000000",
          "2025-08-07T00:00:00.000000000",
          "2025-08-08T00:00:00.000000000",
          "2025-08-11T00:00:00.000000000",
          "2025-08-12T00:00:00.000000000",
          "2025-08-13T00:00:00.000000000",
          "2025-08-14T00:00:00.000000000",
          "2025-08-15T00:00:00.000000000",
          "2025-08-18T00:00:00.000000000",
          "2025-08-19T00:00:00.000000000",
          "2025-08-20T00:00:00.000000000",
          "2025-08-21T00:00:00.000000000",
          "2025-08-22T00:00:00.000000000",
          "2025-08-25T00:00:00.000000000",
          "2025-08-26T00:00:00.000000000",
          "2025-08-27T00:00:00.000000000",
          "2025-08-28T00:00:00.000000000",
          "2025-08-29T00:00:00.000000000",
          "2025-09-02T00:00:00.000000000",
          "2025-09-03T00:00:00.000000000",
          "2025-09-04T00:00:00.000000000",
          "2025-09-05T00:00:00.000000000",
          "2025-09-08T00:00:00.000000000",
          "2025-09-09T00:00:00.000000000",
          "2025-09-10T00:00:00.000000000",
          "2025-09-11T00:00:00.000000000",
          "2025-09-12T00:00:00.000000000",
          "2025-09-15T00:00:00.000000000",
          "2025-09-16T00:00:00.000000000",
          "2025-09-17T00:00:00.000000000",
          "2025-09-18T00:00:00.000000000",
          "2025-09-19T00:00:00.000000000",
          "2025-09-22T00:00:00.000000000",
          "2025-09-23T00:00:00.000000000",
          "2025-09-24T00:00:00.000000000",
          "2025-09-25T00:00:00.000000000",
          "2025-09-26T00:00:00.000000000",
          "2025-09-29T00:00:00.000000000",
          "2025-09-30T00:00:00.000000000",
          "2025-10-01T00:00:00.000000000",
          "2025-10-02T00:00:00.000000000",
          "2025-10-03T00:00:00.000000000",
          "2025-10-06T00:00:00.000000000",
          "2025-10-07T00:00:00.000000000",
          "2025-10-08T00:00:00.000000000",
          "2025-10-09T00:00:00.000000000",
          "2025-10-10T00:00:00.000000000"
         ],
         "y": {
          "bdata": "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",
          "dtype": "f8"
         }
        },
        {
         "line": {
          "color": "green",
          "dash": "dot",
          "width": 1.5
         },
         "mode": "lines",
         "name": "Lower Band",
         "type": "scatter",
         "x": [
          "2025-01-02T00:00:00.000000000",
          "2025-01-03T00:00:00.000000000",
          "2025-01-06T00:00:00.000000000",
          "2025-01-07T00:00:00.000000000",
          "2025-01-08T00:00:00.000000000",
          "2025-01-09T00:00:00.000000000",
          "2025-01-10T00:00:00.000000000",
          "2025-01-13T00:00:00.000000000",
          "2025-01-14T00:00:00.000000000",
          "2025-01-15T00:00:00.000000000",
          "2025-01-16T00:00:00.000000000",
          "2025-01-17T00:00:00.000000000",
          "2025-01-20T00:00:00.000000000",
          "2025-01-21T00:00:00.000000000",
          "2025-01-22T00:00:00.000000000",
          "2025-01-23T00:00:00.000000000",
          "2025-01-24T00:00:00.000000000",
          "2025-01-27T00:00:00.000000000",
          "2025-01-28T00:00:00.000000000",
          "2025-01-29T00:00:00.000000000",
          "2025-01-30T00:00:00.000000000",
          "2025-01-31T00:00:00.000000000",
          "2025-02-03T00:00:00.000000000",
          "2025-02-04T00:00:00.000000000",
          "2025-02-05T00:00:00.000000000",
          "2025-02-06T00:00:00.000000000",
          "2025-02-07T00:00:00.000000000",
          "2025-02-10T00:00:00.000000000",
          "2025-02-11T00:00:00.000000000",
          "2025-02-12T00:00:00.000000000",
          "2025-02-13T00:00:00.000000000",
          "2025-02-14T00:00:00.000000000",
          "2025-02-18T00:00:00.000000000",
          "2025-02-19T00:00:00.000000000",
          "2025-02-20T00:00:00.000000000",
          "2025-02-21T00:00:00.000000000",
          "2025-02-24T00:00:00.000000000",
          "2025-02-25T00:00:00.000000000",
          "2025-02-26T00:00:00.000000000",
          "2025-02-27T00:00:00.000000000",
          "2025-02-28T00:00:00.000000000",
          "2025-03-03T00:00:00.000000000",
          "2025-03-04T00:00:00.000000000",
          "2025-03-05T00:00:00.000000000",
          "2025-03-06T00:00:00.000000000",
          "2025-03-07T00:00:00.000000000",
          "2025-03-10T00:00:00.000000000",
          "2025-03-11T00:00:00.000000000",
          "2025-03-12T00:00:00.000000000",
          "2025-03-13T00:00:00.000000000",
          "2025-03-14T00:00:00.000000000",
          "2025-03-17T00:00:00.000000000",
          "2025-03-18T00:00:00.000000000",
          "2025-03-19T00:00:00.000000000",
          "2025-03-20T00:00:00.000000000",
          "2025-03-21T00:00:00.000000000",
          "2025-03-24T00:00:00.000000000",
          "2025-03-25T00:00:00.000000000",
          "2025-03-26T00:00:00.000000000",
          "2025-03-27T00:00:00.000000000",
          "2025-03-28T00:00:00.000000000",
          "2025-03-31T00:00:00.000000000",
          "2025-04-01T00:00:00.000000000",
          "2025-04-02T00:00:00.000000000",
          "2025-04-03T00:00:00.000000000",
          "2025-04-04T00:00:00.000000000",
          "2025-04-07T00:00:00.000000000",
          "2025-04-08T00:00:00.000000000",
          "2025-04-09T00:00:00.000000000",
          "2025-04-10T00:00:00.000000000",
          "2025-04-11T00:00:00.000000000",
          "2025-04-14T00:00:00.000000000",
          "2025-04-15T00:00:00.000000000",
          "2025-04-16T00:00:00.000000000",
          "2025-04-17T00:00:00.000000000",
          "2025-04-21T00:00:00.000000000",
          "2025-04-22T00:00:00.000000000",
          "2025-04-23T00:00:00.000000000",
          "2025-04-24T00:00:00.000000000",
          "2025-04-25T00:00:00.000000000",
          "2025-04-28T00:00:00.000000000",
          "2025-04-29T00:00:00.000000000",
          "2025-04-30T00:00:00.000000000",
          "2025-05-01T00:00:00.000000000",
          "2025-05-02T00:00:00.000000000",
          "2025-05-05T00:00:00.000000000",
          "2025-05-06T00:00:00.000000000",
          "2025-05-07T00:00:00.000000000",
          "2025-05-08T00:00:00.000000000",
          "2025-05-09T00:00:00.000000000",
          "2025-05-12T00:00:00.000000000",
          "2025-05-13T00:00:00.000000000",
          "2025-05-14T00:00:00.000000000",
          "2025-05-15T00:00:00.000000000",
          "2025-05-16T00:00:00.000000000",
          "2025-05-20T00:00:00.000000000",
          "2025-05-21T00:00:00.000000000",
          "2025-05-22T00:00:00.000000000",
          "2025-05-23T00:00:00.000000000",
          "2025-05-26T00:00:00.000000000",
          "2025-05-27T00:00:00.000000000",
          "2025-05-28T00:00:00.000000000",
          "2025-05-29T00:00:00.000000000",
          "2025-05-30T00:00:00.000000000",
          "2025-06-02T00:00:00.000000000",
          "2025-06-03T00:00:00.000000000",
          "2025-06-04T00:00:00.000000000",
          "2025-06-05T00:00:00.000000000",
          "2025-06-06T00:00:00.000000000",
          "2025-06-09T00:00:00.000000000",
          "2025-06-10T00:00:00.000000000",
          "2025-06-11T00:00:00.000000000",
          "2025-06-12T00:00:00.000000000",
          "2025-06-13T00:00:00.000000000",
          "2025-06-16T00:00:00.000000000",
          "2025-06-17T00:00:00.000000000",
          "2025-06-18T00:00:00.000000000",
          "2025-06-19T00:00:00.000000000",
          "2025-06-20T00:00:00.000000000",
          "2025-06-23T00:00:00.000000000",
          "2025-06-24T00:00:00.000000000",
          "2025-06-25T00:00:00.000000000",
          "2025-06-26T00:00:00.000000000",
          "2025-06-27T00:00:00.000000000",
          "2025-06-30T00:00:00.000000000",
          "2025-07-02T00:00:00.000000000",
          "2025-07-03T00:00:00.000000000",
          "2025-07-04T00:00:00.000000000",
          "2025-07-07T00:00:00.000000000",
          "2025-07-08T00:00:00.000000000",
          "2025-07-09T00:00:00.000000000",
          "2025-07-10T00:00:00.000000000",
          "2025-07-11T00:00:00.000000000",
          "2025-07-14T00:00:00.000000000",
          "2025-07-15T00:00:00.000000000",
          "2025-07-16T00:00:00.000000000",
          "2025-07-17T00:00:00.000000000",
          "2025-07-18T00:00:00.000000000",
          "2025-07-21T00:00:00.000000000",
          "2025-07-22T00:00:00.000000000",
          "2025-07-23T00:00:00.000000000",
          "2025-07-24T00:00:00.000000000",
          "2025-07-25T00:00:00.000000000",
          "2025-07-28T00:00:00.000000000",
          "2025-07-29T00:00:00.000000000",
          "2025-07-30T00:00:00.000000000",
          "2025-07-31T00:00:00.000000000",
          "2025-08-01T00:00:00.000000000",
          "2025-08-05T00:00:00.000000000",
          "2025-08-06T00:00:00.000000000",
          "2025-08-07T00:00:00.000000000",
          "2025-08-08T00:00:00.000000000",
          "2025-08-11T00:00:00.000000000",
          "2025-08-12T00:00:00.000000000",
          "2025-08-13T00:00:00.000000000",
          "2025-08-14T00:00:00.000000000",
          "2025-08-15T00:00:00.000000000",
          "2025-08-18T00:00:00.000000000",
          "2025-08-19T00:00:00.000000000",
          "2025-08-20T00:00:00.000000000",
          "2025-08-21T00:00:00.000000000",
          "2025-08-22T00:00:00.000000000",
          "2025-08-25T00:00:00.000000000",
          "2025-08-26T00:00:00.000000000",
          "2025-08-27T00:00:00.000000000",
          "2025-08-28T00:00:00.000000000",
          "2025-08-29T00:00:00.000000000",
          "2025-09-02T00:00:00.000000000",
          "2025-09-03T00:00:00.000000000",
          "2025-09-04T00:00:00.000000000",
          "2025-09-05T00:00:00.000000000",
          "2025-09-08T00:00:00.000000000",
          "2025-09-09T00:00:00.000000000",
          "2025-09-10T00:00:00.000000000",
          "2025-09-11T00:00:00.000000000",
          "2025-09-12T00:00:00.000000000",
          "2025-09-15T00:00:00.000000000",
          "2025-09-16T00:00:00.000000000",
          "2025-09-17T00:00:00.000000000",
          "2025-09-18T00:00:00.000000000",
          "2025-09-19T00:00:00.000000000",
          "2025-09-22T00:00:00.000000000",
          "2025-09-23T00:00:00.000000000",
          "2025-09-24T00:00:00.000000000",
          "2025-09-25T00:00:00.000000000",
          "2025-09-26T00:00:00.000000000",
          "2025-09-29T00:00:00.000000000",
          "2025-09-30T00:00:00.000000000",
          "2025-10-01T00:00:00.000000000",
          "2025-10-02T00:00:00.000000000",
          "2025-10-03T00:00:00.000000000",
          "2025-10-06T00:00:00.000000000",
          "2025-10-07T00:00:00.000000000",
          "2025-10-08T00:00:00.000000000",
          "2025-10-09T00:00:00.000000000",
          "2025-10-10T00:00:00.000000000"
         ],
         "y": {
          "bdata": "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",
          "dtype": "f8"
         }
        }
       ],
       "layout": {
        "legend": {
         "x": 0.01,
         "y": 0.99
        },
        "template": {
         "data": {
          "bar": [
           {
            "error_x": {
             "color": "#2a3f5f"
            },
            "error_y": {
             "color": "#2a3f5f"
            },
            "marker": {
             "line": {
              "color": "white",
              "width": 0.5
             },
             "pattern": {
              "fillmode": "overlay",
              "size": 10,
              "solidity": 0.2
             }
            },
            "type": "bar"
           }
          ],
          "barpolar": [
           {
            "marker": {
             "line": {
              "color": "white",
              "width": 0.5
             },
             "pattern": {
              "fillmode": "overlay",
              "size": 10,
              "solidity": 0.2
             }
            },
            "type": "barpolar"
           }
          ],
          "carpet": [
           {
            "aaxis": {
             "endlinecolor": "#2a3f5f",
             "gridcolor": "#C8D4E3",
             "linecolor": "#C8D4E3",
             "minorgridcolor": "#C8D4E3",
             "startlinecolor": "#2a3f5f"
            },
            "baxis": {
             "endlinecolor": "#2a3f5f",
             "gridcolor": "#C8D4E3",
             "linecolor": "#C8D4E3",
             "minorgridcolor": "#C8D4E3",
             "startlinecolor": "#2a3f5f"
            },
            "type": "carpet"
           }
          ],
          "choropleth": [
           {
            "colorbar": {
             "outlinewidth": 0,
             "ticks": ""
            },
            "type": "choropleth"
           }
          ],
          "contour": [
           {
            "colorbar": {
             "outlinewidth": 0,
             "ticks": ""
            },
            "colorscale": [
             [
              0,
              "#0d0887"
             ],
             [
              0.1111111111111111,
              "#46039f"
             ],
             [
              0.2222222222222222,
              "#7201a8"
             ],
             [
              0.3333333333333333,
              "#9c179e"
             ],
             [
              0.4444444444444444,
              "#bd3786"
             ],
             [
              0.5555555555555556,
              "#d8576b"
             ],
             [
              0.6666666666666666,
              "#ed7953"
             ],
             [
              0.7777777777777778,
              "#fb9f3a"
             ],
             [
              0.8888888888888888,
              "#fdca26"
             ],
             [
              1,
              "#f0f921"
             ]
            ],
            "type": "contour"
           }
          ],
          "contourcarpet": [
           {
            "colorbar": {
             "outlinewidth": 0,
             "ticks": ""
            },
            "type": "contourcarpet"
           }
          ],
          "heatmap": [
           {
            "colorbar": {
             "outlinewidth": 0,
             "ticks": ""
            },
            "colorscale": [
             [
              0,
              "#0d0887"
             ],
             [
              0.1111111111111111,
              "#46039f"
             ],
             [
              0.2222222222222222,
              "#7201a8"
             ],
             [
              0.3333333333333333,
              "#9c179e"
             ],
             [
              0.4444444444444444,
              "#bd3786"
             ],
             [
              0.5555555555555556,
              "#d8576b"
             ],
             [
              0.6666666666666666,
              "#ed7953"
             ],
             [
              0.7777777777777778,
              "#fb9f3a"
             ],
             [
              0.8888888888888888,
              "#fdca26"
             ],
             [
              1,
              "#f0f921"
             ]
            ],
            "type": "heatmap"
           }
          ],
          "histogram": [
           {
            "marker": {
             "pattern": {
              "fillmode": "overlay",
              "size": 10,
              "solidity": 0.2
             }
            },
            "type": "histogram"
           }
          ],
          "histogram2d": [
           {
            "colorbar": {
             "outlinewidth": 0,
             "ticks": ""
            },
            "colorscale": [
             [
              0,
              "#0d0887"
             ],
             [
              0.1111111111111111,
              "#46039f"
             ],
             [
              0.2222222222222222,
              "#7201a8"
             ],
             [
              0.3333333333333333,
              "#9c179e"
             ],
             [
              0.4444444444444444,
              "#bd3786"
             ],
             [
              0.5555555555555556,
              "#d8576b"
             ],
             [
              0.6666666666666666,
              "#ed7953"
             ],
             [
              0.7777777777777778,
              "#fb9f3a"
             ],
             [
              0.8888888888888888,
              "#fdca26"
             ],
             [
              1,
              "#f0f921"
             ]
            ],
            "type": "histogram2d"
           }
          ],
          "histogram2dcontour": [
           {
            "colorbar": {
             "outlinewidth": 0,
             "ticks": ""
            },
            "colorscale": [
             [
              0,
              "#0d0887"
             ],
             [
              0.1111111111111111,
              "#46039f"
             ],
             [
              0.2222222222222222,
              "#7201a8"
             ],
             [
              0.3333333333333333,
              "#9c179e"
             ],
             [
              0.4444444444444444,
              "#bd3786"
             ],
             [
              0.5555555555555556,
              "#d8576b"
             ],
             [
              0.6666666666666666,
              "#ed7953"
             ],
             [
              0.7777777777777778,
              "#fb9f3a"
             ],
             [
              0.8888888888888888,
              "#fdca26"
             ],
             [
              1,
              "#f0f921"
             ]
            ],
            "type": "histogram2dcontour"
           }
          ],
          "mesh3d": [
           {
            "colorbar": {
             "outlinewidth": 0,
             "ticks": ""
            },
            "type": "mesh3d"
           }
          ],
          "parcoords": [
           {
            "line": {
             "colorbar": {
              "outlinewidth": 0,
              "ticks": ""
             }
            },
            "type": "parcoords"
           }
          ],
          "pie": [
           {
            "automargin": true,
            "type": "pie"
           }
          ],
          "scatter": [
           {
            "fillpattern": {
             "fillmode": "overlay",
             "size": 10,
             "solidity": 0.2
            },
            "type": "scatter"
           }
          ],
          "scatter3d": [
           {
            "line": {
             "colorbar": {
              "outlinewidth": 0,
              "ticks": ""
             }
            },
            "marker": {
             "colorbar": {
              "outlinewidth": 0,
              "ticks": ""
             }
            },
            "type": "scatter3d"
           }
          ],
          "scattercarpet": [
           {
            "marker": {
             "colorbar": {
              "outlinewidth": 0,
              "ticks": ""
             }
            },
            "type": "scattercarpet"
           }
          ],
          "scattergeo": [
           {
            "marker": {
             "colorbar": {
              "outlinewidth": 0,
              "ticks": ""
             }
            },
            "type": "scattergeo"
           }
          ],
          "scattergl": [
           {
            "marker": {
             "colorbar": {
              "outlinewidth": 0,
              "ticks": ""
             }
            },
            "type": "scattergl"
           }
          ],
          "scattermap": [
           {
            "marker": {
             "colorbar": {
              "outlinewidth": 0,
              "ticks": ""
             }
            },
            "type": "scattermap"
           }
          ],
          "scattermapbox": [
           {
            "marker": {
             "colorbar": {
              "outlinewidth": 0,
              "ticks": ""
             }
            },
            "type": "scattermapbox"
           }
          ],
          "scatterpolar": [
           {
            "marker": {
             "colorbar": {
              "outlinewidth": 0,
              "ticks": ""
             }
            },
            "type": "scatterpolar"
           }
          ],
          "scatterpolargl": [
           {
            "marker": {
             "colorbar": {
              "outlinewidth": 0,
              "ticks": ""
             }
            },
            "type": "scatterpolargl"
           }
          ],
          "scatterternary": [
           {
            "marker": {
             "colorbar": {
              "outlinewidth": 0,
              "ticks": ""
             }
            },
            "type": "scatterternary"
           }
          ],
          "surface": [
           {
            "colorbar": {
             "outlinewidth": 0,
             "ticks": ""
            },
            "colorscale": [
             [
              0,
              "#0d0887"
             ],
             [
              0.1111111111111111,
              "#46039f"
             ],
             [
              0.2222222222222222,
              "#7201a8"
             ],
             [
              0.3333333333333333,
              "#9c179e"
             ],
             [
              0.4444444444444444,
              "#bd3786"
             ],
             [
              0.5555555555555556,
              "#d8576b"
             ],
             [
              0.6666666666666666,
              "#ed7953"
             ],
             [
              0.7777777777777778,
              "#fb9f3a"
             ],
             [
              0.8888888888888888,
              "#fdca26"
             ],
             [
              1,
              "#f0f921"
             ]
            ],
            "type": "surface"
           }
          ],
          "table": [
           {
            "cells": {
             "fill": {
              "color": "#EBF0F8"
             },
             "line": {
              "color": "white"
             }
            },
            "header": {
             "fill": {
              "color": "#C8D4E3"
             },
             "line": {
              "color": "white"
             }
            },
            "type": "table"
           }
          ]
         },
         "layout": {
          "annotationdefaults": {
           "arrowcolor": "#2a3f5f",
           "arrowhead": 0,
           "arrowwidth": 1
          },
          "autotypenumbers": "strict",
          "coloraxis": {
           "colorbar": {
            "outlinewidth": 0,
            "ticks": ""
           }
          },
          "colorscale": {
           "diverging": [
            [
             0,
             "#8e0152"
            ],
            [
             0.1,
             "#c51b7d"
            ],
            [
             0.2,
             "#de77ae"
            ],
            [
             0.3,
             "#f1b6da"
            ],
            [
             0.4,
             "#fde0ef"
            ],
            [
             0.5,
             "#f7f7f7"
            ],
            [
             0.6,
             "#e6f5d0"
            ],
            [
             0.7,
             "#b8e186"
            ],
            [
             0.8,
             "#7fbc41"
            ],
            [
             0.9,
             "#4d9221"
            ],
            [
             1,
             "#276419"
            ]
           ],
           "sequential": [
            [
             0,
             "#0d0887"
            ],
            [
             0.1111111111111111,
             "#46039f"
            ],
            [
             0.2222222222222222,
             "#7201a8"
            ],
            [
             0.3333333333333333,
             "#9c179e"
            ],
            [
             0.4444444444444444,
             "#bd3786"
            ],
            [
             0.5555555555555556,
             "#d8576b"
            ],
            [
             0.6666666666666666,
             "#ed7953"
            ],
            [
             0.7777777777777778,
             "#fb9f3a"
            ],
            [
             0.8888888888888888,
             "#fdca26"
            ],
            [
             1,
             "#f0f921"
            ]
           ],
           "sequentialminus": [
            [
             0,
             "#0d0887"
            ],
            [
             0.1111111111111111,
             "#46039f"
            ],
            [
             0.2222222222222222,
             "#7201a8"
            ],
            [
             0.3333333333333333,
             "#9c179e"
            ],
            [
             0.4444444444444444,
             "#bd3786"
            ],
            [
             0.5555555555555556,
             "#d8576b"
            ],
            [
             0.6666666666666666,
             "#ed7953"
            ],
            [
             0.7777777777777778,
             "#fb9f3a"
            ],
            [
             0.8888888888888888,
             "#fdca26"
            ],
            [
             1,
             "#f0f921"
            ]
           ]
          },
          "colorway": [
           "#636efa",
           "#EF553B",
           "#00cc96",
           "#ab63fa",
           "#FFA15A",
           "#19d3f3",
           "#FF6692",
           "#B6E880",
           "#FF97FF",
           "#FECB52"
          ],
          "font": {
           "color": "#2a3f5f"
          },
          "geo": {
           "bgcolor": "white",
           "lakecolor": "white",
           "landcolor": "white",
           "showlakes": true,
           "showland": true,
           "subunitcolor": "#C8D4E3"
          },
          "hoverlabel": {
           "align": "left"
          },
          "hovermode": "closest",
          "mapbox": {
           "style": "light"
          },
          "paper_bgcolor": "white",
          "plot_bgcolor": "white",
          "polar": {
           "angularaxis": {
            "gridcolor": "#EBF0F8",
            "linecolor": "#EBF0F8",
            "ticks": ""
           },
           "bgcolor": "white",
           "radialaxis": {
            "gridcolor": "#EBF0F8",
            "linecolor": "#EBF0F8",
            "ticks": ""
           }
          },
          "scene": {
           "xaxis": {
            "backgroundcolor": "white",
            "gridcolor": "#DFE8F3",
            "gridwidth": 2,
            "linecolor": "#EBF0F8",
            "showbackground": true,
            "ticks": "",
            "zerolinecolor": "#EBF0F8"
           },
           "yaxis": {
            "backgroundcolor": "white",
            "gridcolor": "#DFE8F3",
            "gridwidth": 2,
            "linecolor": "#EBF0F8",
            "showbackground": true,
            "ticks": "",
            "zerolinecolor": "#EBF0F8"
           },
           "zaxis": {
            "backgroundcolor": "white",
            "gridcolor": "#DFE8F3",
            "gridwidth": 2,
            "linecolor": "#EBF0F8",
            "showbackground": true,
            "ticks": "",
            "zerolinecolor": "#EBF0F8"
           }
          },
          "shapedefaults": {
           "line": {
            "color": "#2a3f5f"
           }
          },
          "ternary": {
           "aaxis": {
            "gridcolor": "#DFE8F3",
            "linecolor": "#A2B1C6",
            "ticks": ""
           },
           "baxis": {
            "gridcolor": "#DFE8F3",
            "linecolor": "#A2B1C6",
            "ticks": ""
           },
           "bgcolor": "white",
           "caxis": {
            "gridcolor": "#DFE8F3",
            "linecolor": "#A2B1C6",
            "ticks": ""
           }
          },
          "title": {
           "x": 0.05
          },
          "xaxis": {
           "automargin": true,
           "gridcolor": "#EBF0F8",
           "linecolor": "#EBF0F8",
           "ticks": "",
           "title": {
            "standoff": 15
           },
           "zerolinecolor": "#EBF0F8",
           "zerolinewidth": 2
          },
          "yaxis": {
           "automargin": true,
           "gridcolor": "#EBF0F8",
           "linecolor": "#EBF0F8",
           "ticks": "",
           "title": {
            "standoff": 15
           },
           "zerolinecolor": "#EBF0F8",
           "zerolinewidth": 2
          }
         }
        },
        "title": {
         "text": "Stock Price for: TOU.TO"
        },
        "xaxis": {
         "title": {
          "text": "Date"
         }
        },
        "yaxis": {
         "title": {
          "text": "Price"
         }
        }
       }
      }
     },
     "metadata": {},
     "output_type": "display_data"
    }
   ],
   "source": [
    "# calc indicators\n",
    "\n",
    "df_plot = df.copy()\n",
    "\n",
    "df_plot = df_plot[df_plot['date'] > '2025-01-01']\n",
    "\n",
    "df_plot['rolling_avg'] = df_plot['close'].rolling(window=15).mean()\n",
    "df_plot['upper_band'] = df_plot['rolling_avg'] + 2*df_plot['close'].rolling(window=15).std()\n",
    "df_plot['lower_band'] = df_plot['rolling_avg'] - 2*df_plot['close'].rolling(window=15).std()\n",
    "\n",
    "\n",
    "\n",
    "fig = plot_stock(df_plot, \n",
    "                 date_col='date', \n",
    "                 price_col='close',\n",
    "                 indicators= {\n",
    "                    'Rolling Avg (15d)': {'data': df_plot['rolling_avg'], 'color': 'red'},\n",
    "                    'Upper Band': {'data': df_plot['upper_band'], 'color': 'green', 'dash': 'dot'},\n",
    "                    'Lower Band': {'data': df_plot['lower_band'], 'color': 'green', 'dash': 'dot'}\n",
    "                })\n",
    "fig.show()"
   ]
  },
  {
   "cell_type": "code",
   "execution_count": 23,
   "id": "e806b38a",
   "metadata": {},
   "outputs": [
    {
     "data": {
      "application/vnd.microsoft.datawrangler.viewer.v0+json": {
       "columns": [
        {
         "name": "index",
         "rawType": "int64",
         "type": "integer"
        },
        {
         "name": "close",
         "rawType": "float64",
         "type": "float"
        }
       ],
       "ref": "fc01d9da-fa14-4a81-a77a-0bd5fa9a15d3",
       "rows": [
        [
         "1255",
         null
        ],
        [
         "1256",
         null
        ],
        [
         "1257",
         null
        ],
        [
         "1258",
         null
        ],
        [
         "1259",
         null
        ],
        [
         "1260",
         null
        ],
        [
         "1261",
         null
        ],
        [
         "1262",
         null
        ],
        [
         "1263",
         null
        ],
        [
         "1264",
         null
        ],
        [
         "1265",
         null
        ],
        [
         "1266",
         null
        ],
        [
         "1267",
         null
        ],
        [
         "1268",
         null
        ],
        [
         "1269",
         null
        ],
        [
         "1270",
         "56.47531335206631"
        ],
        [
         "1271",
         "60.61613123392908"
        ],
        [
         "1272",
         "41.680803836319896"
        ],
        [
         "1273",
         "42.91956612678416"
        ],
        [
         "1274",
         "44.75467450650987"
        ],
        [
         "1275",
         "43.075526156491534"
        ],
        [
         "1276",
         "40.65755262242684"
        ],
        [
         "1277",
         "46.39602289814616"
        ],
        [
         "1278",
         "40.81081003721702"
        ],
        [
         "1279",
         "44.63057390634757"
        ],
        [
         "1280",
         "46.749278664874254"
        ],
        [
         "1281",
         "50.810303495628766"
        ],
        [
         "1282",
         "54.537422583015505"
        ],
        [
         "1283",
         "51.68332939441049"
        ],
        [
         "1284",
         "45.035447259350846"
        ],
        [
         "1285",
         "48.2666848352927"
        ],
        [
         "1286",
         "42.56762694706506"
        ],
        [
         "1287",
         "51.16748178581652"
        ],
        [
         "1288",
         "61.4258835265627"
        ],
        [
         "1289",
         "58.86937322621051"
        ],
        [
         "1290",
         "61.5019589159935"
        ],
        [
         "1291",
         "65.95299707223546"
        ],
        [
         "1292",
         "53.610062496326066"
        ],
        [
         "1293",
         "51.8777448886367"
        ],
        [
         "1294",
         "48.848659232199985"
        ],
        [
         "1295",
         "53.28351271353463"
        ],
        [
         "1296",
         "40.17435903245622"
        ],
        [
         "1297",
         "29.439342004903054"
        ],
        [
         "1298",
         "29.717095475078708"
        ],
        [
         "1299",
         "27.06196286302007"
        ],
        [
         "1300",
         "29.892702398864515"
        ],
        [
         "1301",
         "37.207372519017056"
        ],
        [
         "1302",
         "40.0651664898709"
        ],
        [
         "1303",
         "38.870523397804234"
        ],
        [
         "1304",
         "35.99694086099734"
        ]
       ],
       "shape": {
        "columns": 1,
        "rows": 196
       }
      },
      "text/plain": [
       "1255          NaN\n",
       "1256          NaN\n",
       "1257          NaN\n",
       "1258          NaN\n",
       "1259          NaN\n",
       "          ...    \n",
       "1446    58.522727\n",
       "1447    51.333331\n",
       "1448    50.293377\n",
       "1449    47.058825\n",
       "1450    45.731700\n",
       "Name: close, Length: 196, dtype: float64"
      ]
     },
     "execution_count": 23,
     "metadata": {},
     "output_type": "execute_result"
    }
   ],
   "source": [
    "compute_rsi(df_plot['close'],period=15)"
   ]
  }
 ],
 "metadata": {
  "kernelspec": {
   "display_name": ".venv",
   "language": "python",
   "name": "python3"
  },
  "language_info": {
   "codemirror_mode": {
    "name": "ipython",
    "version": 3
   },
   "file_extension": ".py",
   "mimetype": "text/x-python",
   "name": "python",
   "nbconvert_exporter": "python",
   "pygments_lexer": "ipython3",
   "version": "3.12.5"
  }
 },
 "nbformat": 4,
 "nbformat_minor": 5
}
