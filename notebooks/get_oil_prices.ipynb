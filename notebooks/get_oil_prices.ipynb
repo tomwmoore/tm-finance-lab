{
 "cells": [
  {
   "cell_type": "markdown",
   "id": "67d2e5ce",
   "metadata": {},
   "source": [
    "yfinance API Documentation: https://ranaroussi.github.io/yfinance/reference/index.html \n"
   ]
  },
  {
   "cell_type": "code",
   "execution_count": 1,
   "id": "c57ee5f4",
   "metadata": {},
   "outputs": [
    {
     "data": {
      "text/plain": [
       "<module 'src.utils.yfinance_helpers' from 'c:\\\\Users\\\\tomwm\\\\Documents\\\\Data_Science\\\\tm_finance_lab\\\\src\\\\utils\\\\yfinance_helpers.py'>"
      ]
     },
     "execution_count": 1,
     "metadata": {},
     "output_type": "execute_result"
    }
   ],
   "source": [
    "import sys \n",
    "import os\n",
    "\n",
    "import pandas as pd\n",
    "import numpy as np\n",
    "import yfinance as yf\n",
    "from datetime import datetime\n",
    "from datetime import timezone\n",
    "\n",
    "import importlib\n",
    "\n",
    "# Add root path so other subfolders are accessible\n",
    "sys.path.append(os.path.abspath(os.path.join(os.getcwd(), \"..\")))\n",
    "\n",
    "# DB functions for interacting with Azure SQL db\n",
    "import src.utils.db_azure as db\n",
    "importlib.reload(db) # Reload it every time the cell is run\n",
    "\n",
    "\n",
    "# Helper Functions\n",
    "import src.utils.yfinance_helpers as yfh\n",
    "importlib.reload(yfh) # Force reload every time the cell is run\n",
    "\n"
   ]
  },
  {
   "cell_type": "code",
   "execution_count": null,
   "id": "f126e29e",
   "metadata": {},
   "outputs": [],
   "source": [
    "# get some stock data\n",
    "ticker = 'CL=F'\n",
    "\n",
    "data = yf.download(tickers, interval= '1d', group_by='ticker', start = '2024-01-01', end = '2025-01-01' )\n",
    "\n",
    "# Clean up multi-index column names to just be the feature names (close, open etc) & make lowercase\n",
    "data = data.stack(level=0,future_stack=True).rename_axis(['Date', 'Ticker']).reset_index(level=1)\n",
    "\n",
    "# remote date as the index\n",
    "data = data.reset_index()\n",
    "\n",
    "data.columns = [col.lower() for col in data.columns]\n",
    "\n",
    "# add current timestamp for future QC\n",
    "data['updated_at'] = pd.Timestamp.now()\n",
    "\n",
    "\n"
   ]
  },
  {
   "cell_type": "code",
   "execution_count": null,
   "id": "319870e0",
   "metadata": {},
   "outputs": [],
   "source": [
    "# get industry& sector for each company\n",
    "\n",
    "df['industry'] = df['symbol'].apply(yfh.get_industry)\n",
    "df['sector'] = df['symbol'].apply(yfh.get_sector)\n"
   ]
  },
  {
   "cell_type": "code",
   "execution_count": 6,
   "id": "12b4e52b",
   "metadata": {},
   "outputs": [],
   "source": [
    "header_dict = {\n",
    "    \"symbol\": \"symbol\",\n",
    "    \"shortName\": \"asset_name\",\n",
    "    \"currency\": \"currency\",\n",
    "    \"exchange\": \"exchange\",\n",
    "    \"marketCap\": \"market_cap\",\n",
    "    \"sharesOutstanding\": \"shares_outstanding\",   \n",
    "    \"sector\" : \"sector\",\n",
    "    'industry' : 'industry'\n",
    "}\n"
   ]
  },
  {
   "cell_type": "code",
   "execution_count": 138,
   "id": "e4827de1",
   "metadata": {},
   "outputs": [
    {
     "name": "stderr",
     "output_type": "stream",
     "text": [
      "C:\\Users\\tomwm\\AppData\\Local\\Temp\\ipykernel_7996\\816988026.py:4: SettingWithCopyWarning: \n",
      "A value is trying to be set on a copy of a slice from a DataFrame\n",
      "\n",
      "See the caveats in the documentation: https://pandas.pydata.org/pandas-docs/stable/user_guide/indexing.html#returning-a-view-versus-a-copy\n",
      "  df_new.rename(columns=header_dict, inplace=True)\n"
     ]
    }
   ],
   "source": [
    "# keep only needed columns & rename\n",
    "df_new = df[header_dict.keys()]\n",
    "\n",
    "df_new.rename(columns=header_dict, inplace=True)"
   ]
  },
  {
   "cell_type": "code",
   "execution_count": 139,
   "id": "5bf18129",
   "metadata": {},
   "outputs": [],
   "source": [
    "# filter out non O&G companies and pref shares\n",
    "df_new = df_new[df_new['sector']=='Energy']\n",
    "df_new = df_new[df_new['industry'].str.contains('Oil & Gas',na=False)]\n",
    "df_new = df_new[~df_new['asset_name'].str.contains('PREF SERIES',na=False)] # get rid of pref share tickers\n",
    "df_new = df_new[~df_new['asset_name'].str.contains('PREF SER',na=False)] \n",
    "df_new = df_new[~df_new['asset_name'].str.contains('PREF',na=False)] \n",
    "\n"
   ]
  },
  {
   "cell_type": "code",
   "execution_count": 140,
   "id": "467e7442",
   "metadata": {},
   "outputs": [],
   "source": [
    "# add meta data columns\n",
    "df_new['unit'] = 'share'\n",
    "df_new['asset_type'] = 'stock'\n",
    "df_new['updated_at'] = datetime.now()"
   ]
  },
  {
   "cell_type": "code",
   "execution_count": 145,
   "id": "1fd21cfa",
   "metadata": {},
   "outputs": [],
   "source": [
    "# Upsert header\n",
    "azure_engine = get_analytics_azure_engine()\n",
    "azure_upsert(df_new,azure_engine,'asset_header')"
   ]
  }
 ],
 "metadata": {
  "kernelspec": {
   "display_name": ".venv",
   "language": "python",
   "name": "python3"
  },
  "language_info": {
   "codemirror_mode": {
    "name": "ipython",
    "version": 3
   },
   "file_extension": ".py",
   "mimetype": "text/x-python",
   "name": "python",
   "nbconvert_exporter": "python",
   "pygments_lexer": "ipython3",
   "version": "3.12.5"
  }
 },
 "nbformat": 4,
 "nbformat_minor": 5
}
