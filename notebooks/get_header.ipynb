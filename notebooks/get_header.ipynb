{
 "cells": [
  {
   "cell_type": "markdown",
   "id": "67d2e5ce",
   "metadata": {},
   "source": [
    "yfinance API Documentation: https://ranaroussi.github.io/yfinance/reference/index.html \n"
   ]
  },
  {
   "cell_type": "code",
   "execution_count": null,
   "id": "c57ee5f4",
   "metadata": {},
   "outputs": [],
   "source": [
    "import sys \n",
    "import os\n",
    "\n",
    "import pandas as pd\n",
    "import numpy as np\n",
    "import yfinance as yf\n",
    "from datetime import datetime\n",
    "from datetime import timezone\n",
    "\n",
    "import importlib\n",
    "\n",
    "# Add root path so other subfolders are accessible\n",
    "sys.path.append(os.path.abspath(os.path.join(os.getcwd(), \"..\")))\n",
    "\n",
    "# Reload it every time the cell is run\n",
    "import utils.db_azure\n",
    "importlib.reload(utils.db_azure)\n",
    "\n",
    "from utils.db_azure import get_analytics_azure_engine\n",
    "from utils.db_azure import azure_upsert\n",
    "\n"
   ]
  },
  {
   "cell_type": "code",
   "execution_count": null,
   "id": "5adb4c3b",
   "metadata": {},
   "outputs": [],
   "source": [
    "# get general stock data based on screener query\n",
    "from yfinance import EquityQuery\n",
    "\n",
    "q = EquityQuery('and', [\n",
    "    EquityQuery('is-in', ['exchange', 'TOR']),\n",
    "    EquityQuery('is-in', ['sector',\"Energy\"])\n",
    "])\n",
    "\n",
    "response = yf.screen(q, size = 250) # 250 is max at one time\n",
    "\n",
    "# extract to a df\n",
    "df = pd.json_normalize(response[\"quotes\"])"
   ]
  },
  {
   "cell_type": "code",
   "execution_count": 94,
   "id": "319870e0",
   "metadata": {},
   "outputs": [],
   "source": [
    "# get industry& sector for each company\n",
    "\n",
    "def get_industry(symbol):\n",
    "    stock = yf.Ticker(symbol)\n",
    "    info = stock.get_info()\n",
    "    return info.get('industry',None) # get industry if in dict keys, return None if it doesn't exist\n",
    "\n",
    "\n",
    "def get_sector(symbol):\n",
    "    stock = yf.Ticker(symbol)\n",
    "    info = stock.get_info()\n",
    "    return info.get('sector',None) # get sector if in dict keys, return None if it doesn't exist\n",
    "\n",
    "\n",
    "df['industry'] = df['symbol'].apply(get_industry)\n",
    "df['sector'] = df['symbol'].apply(get_sector)\n"
   ]
  },
  {
   "cell_type": "code",
   "execution_count": 137,
   "id": "12b4e52b",
   "metadata": {},
   "outputs": [],
   "source": [
    "header_dict = {\n",
    "    \"symbol\": \"symbol\",\n",
    "    \"shortName\": \"asset_name\",\n",
    "    \"currency\": \"currency\",\n",
    "    \"exchange\": \"exchange\",\n",
    "    \"marketCap\": \"market_cap\",\n",
    "    \"sharesOutstanding\": \"shares_outstanding\",   \n",
    "    \"sector\" : \"sector\",\n",
    "    'industry' : 'industry'\n",
    "}\n"
   ]
  },
  {
   "cell_type": "code",
   "execution_count": 138,
   "id": "e4827de1",
   "metadata": {},
   "outputs": [
    {
     "name": "stderr",
     "output_type": "stream",
     "text": [
      "C:\\Users\\tomwm\\AppData\\Local\\Temp\\ipykernel_7996\\816988026.py:4: SettingWithCopyWarning: \n",
      "A value is trying to be set on a copy of a slice from a DataFrame\n",
      "\n",
      "See the caveats in the documentation: https://pandas.pydata.org/pandas-docs/stable/user_guide/indexing.html#returning-a-view-versus-a-copy\n",
      "  df_new.rename(columns=header_dict, inplace=True)\n"
     ]
    }
   ],
   "source": [
    "# keep only needed columns & rename\n",
    "df_new = df[header_dict.keys()]\n",
    "\n",
    "df_new.rename(columns=header_dict, inplace=True)"
   ]
  },
  {
   "cell_type": "code",
   "execution_count": 139,
   "id": "5bf18129",
   "metadata": {},
   "outputs": [],
   "source": [
    "# filter out non O&G companies and pref shares\n",
    "df_new = df_new[df_new['sector']=='Energy']\n",
    "df_new = df_new[df_new['industry'].str.contains('Oil & Gas',na=False)]\n",
    "df_new = df_new[~df_new['asset_name'].str.contains('PREF SERIES',na=False)] # get rid of pref share tickers\n",
    "df_new = df_new[~df_new['asset_name'].str.contains('PREF SER',na=False)] \n",
    "df_new = df_new[~df_new['asset_name'].str.contains('PREF',na=False)] \n",
    "\n"
   ]
  },
  {
   "cell_type": "code",
   "execution_count": 140,
   "id": "467e7442",
   "metadata": {},
   "outputs": [],
   "source": [
    "# add meta data columns\n",
    "df_new['unit'] = 'share'\n",
    "df_new['asset_type'] = 'stock'\n",
    "df_new['updated_at'] = datetime.now()"
   ]
  },
  {
   "cell_type": "code",
   "execution_count": 145,
   "id": "1fd21cfa",
   "metadata": {},
   "outputs": [],
   "source": [
    "# Upsert header\n",
    "azure_engine = get_analytics_azure_engine()\n",
    "azure_upsert(df_new,azure_engine,'asset_header')"
   ]
  }
 ],
 "metadata": {
  "kernelspec": {
   "display_name": ".venv",
   "language": "python",
   "name": "python3"
  },
  "language_info": {
   "codemirror_mode": {
    "name": "ipython",
    "version": 3
   },
   "file_extension": ".py",
   "mimetype": "text/x-python",
   "name": "python",
   "nbconvert_exporter": "python",
   "pygments_lexer": "ipython3",
   "version": "3.12.5"
  }
 },
 "nbformat": 4,
 "nbformat_minor": 5
}
